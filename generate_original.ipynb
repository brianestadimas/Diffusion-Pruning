{
 "cells": [
  {
   "cell_type": "code",
   "execution_count": 1,
   "metadata": {},
   "outputs": [
    {
     "name": "stderr",
     "output_type": "stream",
     "text": [
      "2024-12-05 20:57:56.918880: I tensorflow/core/util/port.cc:113] oneDNN custom operations are on. You may see slightly different numerical results due to floating-point round-off errors from different computation orders. To turn them off, set the environment variable `TF_ENABLE_ONEDNN_OPTS=0`.\n",
      "2024-12-05 20:57:56.950433: E external/local_xla/xla/stream_executor/cuda/cuda_dnn.cc:9261] Unable to register cuDNN factory: Attempting to register factory for plugin cuDNN when one has already been registered\n",
      "2024-12-05 20:57:56.950467: E external/local_xla/xla/stream_executor/cuda/cuda_fft.cc:607] Unable to register cuFFT factory: Attempting to register factory for plugin cuFFT when one has already been registered\n",
      "2024-12-05 20:57:56.951381: E external/local_xla/xla/stream_executor/cuda/cuda_blas.cc:1515] Unable to register cuBLAS factory: Attempting to register factory for plugin cuBLAS when one has already been registered\n",
      "2024-12-05 20:57:56.956772: I tensorflow/core/platform/cpu_feature_guard.cc:182] This TensorFlow binary is optimized to use available CPU instructions in performance-critical operations.\n",
      "To enable the following instructions: AVX2 AVX512F AVX512_VNNI FMA, in other operations, rebuild TensorFlow with the appropriate compiler flags.\n",
      "2024-12-05 20:57:57.792387: W tensorflow/compiler/tf2tensorrt/utils/py_utils.cc:38] TF-TRT Warning: Could not find TensorRT\n",
      "unet/diffusion_pytorch_model.safetensors not found\n"
     ]
    },
    {
     "data": {
      "application/vnd.jupyter.widget-view+json": {
       "model_id": "ace42e17188d43e6b2a7c407ec6f4123",
       "version_major": 2,
       "version_minor": 0
      },
      "text/plain": [
       "Loading pipeline components...:   0%|          | 0/3 [00:00<?, ?it/s]"
      ]
     },
     "metadata": {},
     "output_type": "display_data"
    },
    {
     "name": "stderr",
     "output_type": "stream",
     "text": [
      "An error occurred while trying to fetch /home/cqilab/.cache/huggingface/hub/models--CompVis--ldm-celebahq-256/snapshots/03978f22272a3c2502da709c3940e227c9714bdd/unet: Error no file named diffusion_pytorch_model.safetensors found in directory /home/cqilab/.cache/huggingface/hub/models--CompVis--ldm-celebahq-256/snapshots/03978f22272a3c2502da709c3940e227c9714bdd/unet.\n",
      "Defaulting to unsafe serialization. Pass `allow_pickle=False` to raise an error instead.\n",
      "/home/cqilab/anaconda3/envs/sgrs/lib/python3.11/site-packages/torch/_utils.py:831: UserWarning: TypedStorage is deprecated. It will be removed in the future and UntypedStorage will be the only storage class. This should only matter to you if you are using storages directly.  To access UntypedStorage directly, use tensor.untyped_storage() instead of tensor.storage()\n",
      "  return self.fget.__get__(instance, owner)()\n",
      "An error occurred while trying to fetch /home/cqilab/.cache/huggingface/hub/models--CompVis--ldm-celebahq-256/snapshots/03978f22272a3c2502da709c3940e227c9714bdd/vqvae: Error no file named diffusion_pytorch_model.safetensors found in directory /home/cqilab/.cache/huggingface/hub/models--CompVis--ldm-celebahq-256/snapshots/03978f22272a3c2502da709c3940e227c9714bdd/vqvae.\n",
      "Defaulting to unsafe serialization. Pass `allow_pickle=False` to raise an error instead.\n",
      "The config attributes {'timestep_values': None, 'timesteps': 1000} were passed to DDIMScheduler, but are not expected and will be ignored. Please verify your scheduler_config.json configuration file.\n"
     ]
    },
    {
     "data": {
      "application/vnd.jupyter.widget-view+json": {
       "model_id": "cbf29f24551045fca0308d74044b1bc2",
       "version_major": 2,
       "version_minor": 0
      },
      "text/plain": [
       "  0%|          | 0/100 [00:00<?, ?it/s]"
      ]
     },
     "metadata": {},
     "output_type": "display_data"
    },
    {
     "name": "stdout",
     "output_type": "stream",
     "text": [
      "Image 1 saved at: result_ldm_original_nonseparate/100_steps/generated_image_1.png\n",
      "Image 2 saved at: result_ldm_original_nonseparate/100_steps/generated_image_2.png\n",
      "Image 3 saved at: result_ldm_original_nonseparate/100_steps/generated_image_3.png\n",
      "Image 4 saved at: result_ldm_original_nonseparate/100_steps/generated_image_4.png\n",
      "Image 5 saved at: result_ldm_original_nonseparate/100_steps/generated_image_5.png\n",
      "Image 6 saved at: result_ldm_original_nonseparate/100_steps/generated_image_6.png\n",
      "Image 7 saved at: result_ldm_original_nonseparate/100_steps/generated_image_7.png\n",
      "Image 8 saved at: result_ldm_original_nonseparate/100_steps/generated_image_8.png\n",
      "Image 9 saved at: result_ldm_original_nonseparate/100_steps/generated_image_9.png\n",
      "Image 10 saved at: result_ldm_original_nonseparate/100_steps/generated_image_10.png\n"
     ]
    },
    {
     "data": {
      "application/vnd.jupyter.widget-view+json": {
       "model_id": "3deb9f13659f4fc79b1260f47cf89593",
       "version_major": 2,
       "version_minor": 0
      },
      "text/plain": [
       "  0%|          | 0/100 [00:00<?, ?it/s]"
      ]
     },
     "metadata": {},
     "output_type": "display_data"
    },
    {
     "name": "stdout",
     "output_type": "stream",
     "text": [
      "Image 11 saved at: result_ldm_original_nonseparate/100_steps/generated_image_11.png\n",
      "Image 12 saved at: result_ldm_original_nonseparate/100_steps/generated_image_12.png\n",
      "Image 13 saved at: result_ldm_original_nonseparate/100_steps/generated_image_13.png\n",
      "Image 14 saved at: result_ldm_original_nonseparate/100_steps/generated_image_14.png\n",
      "Image 15 saved at: result_ldm_original_nonseparate/100_steps/generated_image_15.png\n",
      "Image 16 saved at: result_ldm_original_nonseparate/100_steps/generated_image_16.png\n",
      "Image 17 saved at: result_ldm_original_nonseparate/100_steps/generated_image_17.png\n",
      "Image 18 saved at: result_ldm_original_nonseparate/100_steps/generated_image_18.png\n",
      "Image 19 saved at: result_ldm_original_nonseparate/100_steps/generated_image_19.png\n",
      "Image 20 saved at: result_ldm_original_nonseparate/100_steps/generated_image_20.png\n"
     ]
    },
    {
     "data": {
      "application/vnd.jupyter.widget-view+json": {
       "model_id": "eb1a85c663354e7b8f72dbbc7f60a2c5",
       "version_major": 2,
       "version_minor": 0
      },
      "text/plain": [
       "  0%|          | 0/100 [00:00<?, ?it/s]"
      ]
     },
     "metadata": {},
     "output_type": "display_data"
    },
    {
     "name": "stdout",
     "output_type": "stream",
     "text": [
      "Image 21 saved at: result_ldm_original_nonseparate/100_steps/generated_image_21.png\n",
      "Image 22 saved at: result_ldm_original_nonseparate/100_steps/generated_image_22.png\n",
      "Image 23 saved at: result_ldm_original_nonseparate/100_steps/generated_image_23.png\n",
      "Image 24 saved at: result_ldm_original_nonseparate/100_steps/generated_image_24.png\n",
      "Image 25 saved at: result_ldm_original_nonseparate/100_steps/generated_image_25.png\n",
      "Image 26 saved at: result_ldm_original_nonseparate/100_steps/generated_image_26.png\n",
      "Image 27 saved at: result_ldm_original_nonseparate/100_steps/generated_image_27.png\n",
      "Image 28 saved at: result_ldm_original_nonseparate/100_steps/generated_image_28.png\n",
      "Image 29 saved at: result_ldm_original_nonseparate/100_steps/generated_image_29.png\n",
      "Image 30 saved at: result_ldm_original_nonseparate/100_steps/generated_image_30.png\n"
     ]
    },
    {
     "data": {
      "application/vnd.jupyter.widget-view+json": {
       "model_id": "41a066241d824c1bb21d88117d3f88ec",
       "version_major": 2,
       "version_minor": 0
      },
      "text/plain": [
       "  0%|          | 0/100 [00:00<?, ?it/s]"
      ]
     },
     "metadata": {},
     "output_type": "display_data"
    },
    {
     "name": "stdout",
     "output_type": "stream",
     "text": [
      "Image 31 saved at: result_ldm_original_nonseparate/100_steps/generated_image_31.png\n",
      "Image 32 saved at: result_ldm_original_nonseparate/100_steps/generated_image_32.png\n",
      "Image 33 saved at: result_ldm_original_nonseparate/100_steps/generated_image_33.png\n",
      "Image 34 saved at: result_ldm_original_nonseparate/100_steps/generated_image_34.png\n",
      "Image 35 saved at: result_ldm_original_nonseparate/100_steps/generated_image_35.png\n",
      "Image 36 saved at: result_ldm_original_nonseparate/100_steps/generated_image_36.png\n",
      "Image 37 saved at: result_ldm_original_nonseparate/100_steps/generated_image_37.png\n",
      "Image 38 saved at: result_ldm_original_nonseparate/100_steps/generated_image_38.png\n",
      "Image 39 saved at: result_ldm_original_nonseparate/100_steps/generated_image_39.png\n",
      "Image 40 saved at: result_ldm_original_nonseparate/100_steps/generated_image_40.png\n"
     ]
    },
    {
     "data": {
      "application/vnd.jupyter.widget-view+json": {
       "model_id": "95888d1564834e32a9a9cda4887f4c31",
       "version_major": 2,
       "version_minor": 0
      },
      "text/plain": [
       "  0%|          | 0/100 [00:00<?, ?it/s]"
      ]
     },
     "metadata": {},
     "output_type": "display_data"
    },
    {
     "name": "stdout",
     "output_type": "stream",
     "text": [
      "Image 41 saved at: result_ldm_original_nonseparate/100_steps/generated_image_41.png\n",
      "Image 42 saved at: result_ldm_original_nonseparate/100_steps/generated_image_42.png\n",
      "Image 43 saved at: result_ldm_original_nonseparate/100_steps/generated_image_43.png\n",
      "Image 44 saved at: result_ldm_original_nonseparate/100_steps/generated_image_44.png\n",
      "Image 45 saved at: result_ldm_original_nonseparate/100_steps/generated_image_45.png\n",
      "Image 46 saved at: result_ldm_original_nonseparate/100_steps/generated_image_46.png\n",
      "Image 47 saved at: result_ldm_original_nonseparate/100_steps/generated_image_47.png\n",
      "Image 48 saved at: result_ldm_original_nonseparate/100_steps/generated_image_48.png\n",
      "Image 49 saved at: result_ldm_original_nonseparate/100_steps/generated_image_49.png\n",
      "Image 50 saved at: result_ldm_original_nonseparate/100_steps/generated_image_50.png\n"
     ]
    },
    {
     "data": {
      "application/vnd.jupyter.widget-view+json": {
       "model_id": "dda23aead3644b59b427a06b2676d52f",
       "version_major": 2,
       "version_minor": 0
      },
      "text/plain": [
       "  0%|          | 0/100 [00:00<?, ?it/s]"
      ]
     },
     "metadata": {},
     "output_type": "display_data"
    },
    {
     "name": "stdout",
     "output_type": "stream",
     "text": [
      "Image 51 saved at: result_ldm_original_nonseparate/100_steps/generated_image_51.png\n",
      "Image 52 saved at: result_ldm_original_nonseparate/100_steps/generated_image_52.png\n",
      "Image 53 saved at: result_ldm_original_nonseparate/100_steps/generated_image_53.png\n",
      "Image 54 saved at: result_ldm_original_nonseparate/100_steps/generated_image_54.png\n",
      "Image 55 saved at: result_ldm_original_nonseparate/100_steps/generated_image_55.png\n",
      "Image 56 saved at: result_ldm_original_nonseparate/100_steps/generated_image_56.png\n",
      "Image 57 saved at: result_ldm_original_nonseparate/100_steps/generated_image_57.png\n",
      "Image 58 saved at: result_ldm_original_nonseparate/100_steps/generated_image_58.png\n",
      "Image 59 saved at: result_ldm_original_nonseparate/100_steps/generated_image_59.png\n",
      "Image 60 saved at: result_ldm_original_nonseparate/100_steps/generated_image_60.png\n"
     ]
    },
    {
     "data": {
      "application/vnd.jupyter.widget-view+json": {
       "model_id": "598b137c636042a9ac7a3a023cd1ae8c",
       "version_major": 2,
       "version_minor": 0
      },
      "text/plain": [
       "  0%|          | 0/100 [00:00<?, ?it/s]"
      ]
     },
     "metadata": {},
     "output_type": "display_data"
    },
    {
     "name": "stdout",
     "output_type": "stream",
     "text": [
      "Image 61 saved at: result_ldm_original_nonseparate/100_steps/generated_image_61.png\n",
      "Image 62 saved at: result_ldm_original_nonseparate/100_steps/generated_image_62.png\n",
      "Image 63 saved at: result_ldm_original_nonseparate/100_steps/generated_image_63.png\n",
      "Image 64 saved at: result_ldm_original_nonseparate/100_steps/generated_image_64.png\n",
      "Image 65 saved at: result_ldm_original_nonseparate/100_steps/generated_image_65.png\n",
      "Image 66 saved at: result_ldm_original_nonseparate/100_steps/generated_image_66.png\n",
      "Image 67 saved at: result_ldm_original_nonseparate/100_steps/generated_image_67.png\n",
      "Image 68 saved at: result_ldm_original_nonseparate/100_steps/generated_image_68.png\n",
      "Image 69 saved at: result_ldm_original_nonseparate/100_steps/generated_image_69.png\n",
      "Image 70 saved at: result_ldm_original_nonseparate/100_steps/generated_image_70.png\n"
     ]
    },
    {
     "data": {
      "application/vnd.jupyter.widget-view+json": {
       "model_id": "c7530b2df3c147809a9b9c273d0dab2f",
       "version_major": 2,
       "version_minor": 0
      },
      "text/plain": [
       "  0%|          | 0/100 [00:00<?, ?it/s]"
      ]
     },
     "metadata": {},
     "output_type": "display_data"
    },
    {
     "name": "stdout",
     "output_type": "stream",
     "text": [
      "Image 71 saved at: result_ldm_original_nonseparate/100_steps/generated_image_71.png\n",
      "Image 72 saved at: result_ldm_original_nonseparate/100_steps/generated_image_72.png\n",
      "Image 73 saved at: result_ldm_original_nonseparate/100_steps/generated_image_73.png\n",
      "Image 74 saved at: result_ldm_original_nonseparate/100_steps/generated_image_74.png\n",
      "Image 75 saved at: result_ldm_original_nonseparate/100_steps/generated_image_75.png\n",
      "Image 76 saved at: result_ldm_original_nonseparate/100_steps/generated_image_76.png\n",
      "Image 77 saved at: result_ldm_original_nonseparate/100_steps/generated_image_77.png\n",
      "Image 78 saved at: result_ldm_original_nonseparate/100_steps/generated_image_78.png\n",
      "Image 79 saved at: result_ldm_original_nonseparate/100_steps/generated_image_79.png\n",
      "Image 80 saved at: result_ldm_original_nonseparate/100_steps/generated_image_80.png\n"
     ]
    },
    {
     "data": {
      "application/vnd.jupyter.widget-view+json": {
       "model_id": "7cde5bd82adf49f295a02c96e44cc3f0",
       "version_major": 2,
       "version_minor": 0
      },
      "text/plain": [
       "  0%|          | 0/100 [00:00<?, ?it/s]"
      ]
     },
     "metadata": {},
     "output_type": "display_data"
    },
    {
     "name": "stdout",
     "output_type": "stream",
     "text": [
      "Image 81 saved at: result_ldm_original_nonseparate/100_steps/generated_image_81.png\n",
      "Image 82 saved at: result_ldm_original_nonseparate/100_steps/generated_image_82.png\n",
      "Image 83 saved at: result_ldm_original_nonseparate/100_steps/generated_image_83.png\n",
      "Image 84 saved at: result_ldm_original_nonseparate/100_steps/generated_image_84.png\n",
      "Image 85 saved at: result_ldm_original_nonseparate/100_steps/generated_image_85.png\n",
      "Image 86 saved at: result_ldm_original_nonseparate/100_steps/generated_image_86.png\n",
      "Image 87 saved at: result_ldm_original_nonseparate/100_steps/generated_image_87.png\n",
      "Image 88 saved at: result_ldm_original_nonseparate/100_steps/generated_image_88.png\n",
      "Image 89 saved at: result_ldm_original_nonseparate/100_steps/generated_image_89.png\n",
      "Image 90 saved at: result_ldm_original_nonseparate/100_steps/generated_image_90.png\n"
     ]
    },
    {
     "data": {
      "application/vnd.jupyter.widget-view+json": {
       "model_id": "0af532278c8e4e4d8caccc1516d957fb",
       "version_major": 2,
       "version_minor": 0
      },
      "text/plain": [
       "  0%|          | 0/100 [00:00<?, ?it/s]"
      ]
     },
     "metadata": {},
     "output_type": "display_data"
    },
    {
     "name": "stdout",
     "output_type": "stream",
     "text": [
      "Image 91 saved at: result_ldm_original_nonseparate/100_steps/generated_image_91.png\n",
      "Image 92 saved at: result_ldm_original_nonseparate/100_steps/generated_image_92.png\n",
      "Image 93 saved at: result_ldm_original_nonseparate/100_steps/generated_image_93.png\n",
      "Image 94 saved at: result_ldm_original_nonseparate/100_steps/generated_image_94.png\n",
      "Image 95 saved at: result_ldm_original_nonseparate/100_steps/generated_image_95.png\n",
      "Image 96 saved at: result_ldm_original_nonseparate/100_steps/generated_image_96.png\n",
      "Image 97 saved at: result_ldm_original_nonseparate/100_steps/generated_image_97.png\n",
      "Image 98 saved at: result_ldm_original_nonseparate/100_steps/generated_image_98.png\n",
      "Image 99 saved at: result_ldm_original_nonseparate/100_steps/generated_image_99.png\n",
      "Image 100 saved at: result_ldm_original_nonseparate/100_steps/generated_image_100.png\n"
     ]
    },
    {
     "data": {
      "application/vnd.jupyter.widget-view+json": {
       "model_id": "6f1c677500e74205808e63c6fbe01b1f",
       "version_major": 2,
       "version_minor": 0
      },
      "text/plain": [
       "  0%|          | 0/100 [00:00<?, ?it/s]"
      ]
     },
     "metadata": {},
     "output_type": "display_data"
    },
    {
     "name": "stdout",
     "output_type": "stream",
     "text": [
      "Image 101 saved at: result_ldm_original_nonseparate/100_steps/generated_image_101.png\n",
      "Image 102 saved at: result_ldm_original_nonseparate/100_steps/generated_image_102.png\n",
      "Image 103 saved at: result_ldm_original_nonseparate/100_steps/generated_image_103.png\n",
      "Image 104 saved at: result_ldm_original_nonseparate/100_steps/generated_image_104.png\n",
      "Image 105 saved at: result_ldm_original_nonseparate/100_steps/generated_image_105.png\n",
      "Image 106 saved at: result_ldm_original_nonseparate/100_steps/generated_image_106.png\n",
      "Image 107 saved at: result_ldm_original_nonseparate/100_steps/generated_image_107.png\n",
      "Image 108 saved at: result_ldm_original_nonseparate/100_steps/generated_image_108.png\n",
      "Image 109 saved at: result_ldm_original_nonseparate/100_steps/generated_image_109.png\n",
      "Image 110 saved at: result_ldm_original_nonseparate/100_steps/generated_image_110.png\n"
     ]
    },
    {
     "data": {
      "application/vnd.jupyter.widget-view+json": {
       "model_id": "ad07d6dc07e2413ca73517d70f3944df",
       "version_major": 2,
       "version_minor": 0
      },
      "text/plain": [
       "  0%|          | 0/100 [00:00<?, ?it/s]"
      ]
     },
     "metadata": {},
     "output_type": "display_data"
    },
    {
     "name": "stdout",
     "output_type": "stream",
     "text": [
      "Image 111 saved at: result_ldm_original_nonseparate/100_steps/generated_image_111.png\n",
      "Image 112 saved at: result_ldm_original_nonseparate/100_steps/generated_image_112.png\n",
      "Image 113 saved at: result_ldm_original_nonseparate/100_steps/generated_image_113.png\n",
      "Image 114 saved at: result_ldm_original_nonseparate/100_steps/generated_image_114.png\n",
      "Image 115 saved at: result_ldm_original_nonseparate/100_steps/generated_image_115.png\n",
      "Image 116 saved at: result_ldm_original_nonseparate/100_steps/generated_image_116.png\n",
      "Image 117 saved at: result_ldm_original_nonseparate/100_steps/generated_image_117.png\n",
      "Image 118 saved at: result_ldm_original_nonseparate/100_steps/generated_image_118.png\n",
      "Image 119 saved at: result_ldm_original_nonseparate/100_steps/generated_image_119.png\n",
      "Image 120 saved at: result_ldm_original_nonseparate/100_steps/generated_image_120.png\n"
     ]
    },
    {
     "data": {
      "application/vnd.jupyter.widget-view+json": {
       "model_id": "3899cf175fe84aeba60c7cec6ef64ed5",
       "version_major": 2,
       "version_minor": 0
      },
      "text/plain": [
       "  0%|          | 0/100 [00:00<?, ?it/s]"
      ]
     },
     "metadata": {},
     "output_type": "display_data"
    },
    {
     "name": "stdout",
     "output_type": "stream",
     "text": [
      "Image 121 saved at: result_ldm_original_nonseparate/100_steps/generated_image_121.png\n",
      "Image 122 saved at: result_ldm_original_nonseparate/100_steps/generated_image_122.png\n",
      "Image 123 saved at: result_ldm_original_nonseparate/100_steps/generated_image_123.png\n",
      "Image 124 saved at: result_ldm_original_nonseparate/100_steps/generated_image_124.png\n",
      "Image 125 saved at: result_ldm_original_nonseparate/100_steps/generated_image_125.png\n",
      "Image 126 saved at: result_ldm_original_nonseparate/100_steps/generated_image_126.png\n",
      "Image 127 saved at: result_ldm_original_nonseparate/100_steps/generated_image_127.png\n",
      "Image 128 saved at: result_ldm_original_nonseparate/100_steps/generated_image_128.png\n",
      "Image 129 saved at: result_ldm_original_nonseparate/100_steps/generated_image_129.png\n",
      "Image 130 saved at: result_ldm_original_nonseparate/100_steps/generated_image_130.png\n"
     ]
    },
    {
     "data": {
      "application/vnd.jupyter.widget-view+json": {
       "model_id": "d39e8bd5178947f4aca70320a0130d55",
       "version_major": 2,
       "version_minor": 0
      },
      "text/plain": [
       "  0%|          | 0/100 [00:00<?, ?it/s]"
      ]
     },
     "metadata": {},
     "output_type": "display_data"
    },
    {
     "name": "stdout",
     "output_type": "stream",
     "text": [
      "Image 131 saved at: result_ldm_original_nonseparate/100_steps/generated_image_131.png\n",
      "Image 132 saved at: result_ldm_original_nonseparate/100_steps/generated_image_132.png\n",
      "Image 133 saved at: result_ldm_original_nonseparate/100_steps/generated_image_133.png\n",
      "Image 134 saved at: result_ldm_original_nonseparate/100_steps/generated_image_134.png\n",
      "Image 135 saved at: result_ldm_original_nonseparate/100_steps/generated_image_135.png\n",
      "Image 136 saved at: result_ldm_original_nonseparate/100_steps/generated_image_136.png\n",
      "Image 137 saved at: result_ldm_original_nonseparate/100_steps/generated_image_137.png\n",
      "Image 138 saved at: result_ldm_original_nonseparate/100_steps/generated_image_138.png\n",
      "Image 139 saved at: result_ldm_original_nonseparate/100_steps/generated_image_139.png\n",
      "Image 140 saved at: result_ldm_original_nonseparate/100_steps/generated_image_140.png\n"
     ]
    },
    {
     "data": {
      "application/vnd.jupyter.widget-view+json": {
       "model_id": "30d780b8968f4d29aed935ae75baf8dc",
       "version_major": 2,
       "version_minor": 0
      },
      "text/plain": [
       "  0%|          | 0/100 [00:00<?, ?it/s]"
      ]
     },
     "metadata": {},
     "output_type": "display_data"
    },
    {
     "name": "stdout",
     "output_type": "stream",
     "text": [
      "Image 141 saved at: result_ldm_original_nonseparate/100_steps/generated_image_141.png\n",
      "Image 142 saved at: result_ldm_original_nonseparate/100_steps/generated_image_142.png\n",
      "Image 143 saved at: result_ldm_original_nonseparate/100_steps/generated_image_143.png\n",
      "Image 144 saved at: result_ldm_original_nonseparate/100_steps/generated_image_144.png\n",
      "Image 145 saved at: result_ldm_original_nonseparate/100_steps/generated_image_145.png\n",
      "Image 146 saved at: result_ldm_original_nonseparate/100_steps/generated_image_146.png\n",
      "Image 147 saved at: result_ldm_original_nonseparate/100_steps/generated_image_147.png\n",
      "Image 148 saved at: result_ldm_original_nonseparate/100_steps/generated_image_148.png\n",
      "Image 149 saved at: result_ldm_original_nonseparate/100_steps/generated_image_149.png\n",
      "Image 150 saved at: result_ldm_original_nonseparate/100_steps/generated_image_150.png\n"
     ]
    },
    {
     "data": {
      "application/vnd.jupyter.widget-view+json": {
       "model_id": "736c5f1fb9d04986ae81f7da53971651",
       "version_major": 2,
       "version_minor": 0
      },
      "text/plain": [
       "  0%|          | 0/100 [00:00<?, ?it/s]"
      ]
     },
     "metadata": {},
     "output_type": "display_data"
    },
    {
     "name": "stdout",
     "output_type": "stream",
     "text": [
      "Image 151 saved at: result_ldm_original_nonseparate/100_steps/generated_image_151.png\n",
      "Image 152 saved at: result_ldm_original_nonseparate/100_steps/generated_image_152.png\n",
      "Image 153 saved at: result_ldm_original_nonseparate/100_steps/generated_image_153.png\n",
      "Image 154 saved at: result_ldm_original_nonseparate/100_steps/generated_image_154.png\n",
      "Image 155 saved at: result_ldm_original_nonseparate/100_steps/generated_image_155.png\n",
      "Image 156 saved at: result_ldm_original_nonseparate/100_steps/generated_image_156.png\n",
      "Image 157 saved at: result_ldm_original_nonseparate/100_steps/generated_image_157.png\n",
      "Image 158 saved at: result_ldm_original_nonseparate/100_steps/generated_image_158.png\n",
      "Image 159 saved at: result_ldm_original_nonseparate/100_steps/generated_image_159.png\n",
      "Image 160 saved at: result_ldm_original_nonseparate/100_steps/generated_image_160.png\n"
     ]
    },
    {
     "data": {
      "application/vnd.jupyter.widget-view+json": {
       "model_id": "b86f70588e0f4a9baf513836279f38a8",
       "version_major": 2,
       "version_minor": 0
      },
      "text/plain": [
       "  0%|          | 0/100 [00:00<?, ?it/s]"
      ]
     },
     "metadata": {},
     "output_type": "display_data"
    },
    {
     "name": "stdout",
     "output_type": "stream",
     "text": [
      "Image 161 saved at: result_ldm_original_nonseparate/100_steps/generated_image_161.png\n",
      "Image 162 saved at: result_ldm_original_nonseparate/100_steps/generated_image_162.png\n",
      "Image 163 saved at: result_ldm_original_nonseparate/100_steps/generated_image_163.png\n",
      "Image 164 saved at: result_ldm_original_nonseparate/100_steps/generated_image_164.png\n",
      "Image 165 saved at: result_ldm_original_nonseparate/100_steps/generated_image_165.png\n",
      "Image 166 saved at: result_ldm_original_nonseparate/100_steps/generated_image_166.png\n",
      "Image 167 saved at: result_ldm_original_nonseparate/100_steps/generated_image_167.png\n",
      "Image 168 saved at: result_ldm_original_nonseparate/100_steps/generated_image_168.png\n",
      "Image 169 saved at: result_ldm_original_nonseparate/100_steps/generated_image_169.png\n",
      "Image 170 saved at: result_ldm_original_nonseparate/100_steps/generated_image_170.png\n"
     ]
    },
    {
     "data": {
      "application/vnd.jupyter.widget-view+json": {
       "model_id": "ab9efd1873d34a79ad8169b05b592bb6",
       "version_major": 2,
       "version_minor": 0
      },
      "text/plain": [
       "  0%|          | 0/100 [00:00<?, ?it/s]"
      ]
     },
     "metadata": {},
     "output_type": "display_data"
    },
    {
     "name": "stdout",
     "output_type": "stream",
     "text": [
      "Image 171 saved at: result_ldm_original_nonseparate/100_steps/generated_image_171.png\n",
      "Image 172 saved at: result_ldm_original_nonseparate/100_steps/generated_image_172.png\n",
      "Image 173 saved at: result_ldm_original_nonseparate/100_steps/generated_image_173.png\n",
      "Image 174 saved at: result_ldm_original_nonseparate/100_steps/generated_image_174.png\n",
      "Image 175 saved at: result_ldm_original_nonseparate/100_steps/generated_image_175.png\n",
      "Image 176 saved at: result_ldm_original_nonseparate/100_steps/generated_image_176.png\n",
      "Image 177 saved at: result_ldm_original_nonseparate/100_steps/generated_image_177.png\n",
      "Image 178 saved at: result_ldm_original_nonseparate/100_steps/generated_image_178.png\n",
      "Image 179 saved at: result_ldm_original_nonseparate/100_steps/generated_image_179.png\n",
      "Image 180 saved at: result_ldm_original_nonseparate/100_steps/generated_image_180.png\n"
     ]
    },
    {
     "data": {
      "application/vnd.jupyter.widget-view+json": {
       "model_id": "fb4536c9dccd400b9fc118a3c620c3e9",
       "version_major": 2,
       "version_minor": 0
      },
      "text/plain": [
       "  0%|          | 0/100 [00:00<?, ?it/s]"
      ]
     },
     "metadata": {},
     "output_type": "display_data"
    },
    {
     "name": "stdout",
     "output_type": "stream",
     "text": [
      "Image 181 saved at: result_ldm_original_nonseparate/100_steps/generated_image_181.png\n",
      "Image 182 saved at: result_ldm_original_nonseparate/100_steps/generated_image_182.png\n",
      "Image 183 saved at: result_ldm_original_nonseparate/100_steps/generated_image_183.png\n",
      "Image 184 saved at: result_ldm_original_nonseparate/100_steps/generated_image_184.png\n",
      "Image 185 saved at: result_ldm_original_nonseparate/100_steps/generated_image_185.png\n",
      "Image 186 saved at: result_ldm_original_nonseparate/100_steps/generated_image_186.png\n",
      "Image 187 saved at: result_ldm_original_nonseparate/100_steps/generated_image_187.png\n",
      "Image 188 saved at: result_ldm_original_nonseparate/100_steps/generated_image_188.png\n",
      "Image 189 saved at: result_ldm_original_nonseparate/100_steps/generated_image_189.png\n",
      "Image 190 saved at: result_ldm_original_nonseparate/100_steps/generated_image_190.png\n"
     ]
    },
    {
     "data": {
      "application/vnd.jupyter.widget-view+json": {
       "model_id": "2c67a5641f82440ea7dcfc23d934b824",
       "version_major": 2,
       "version_minor": 0
      },
      "text/plain": [
       "  0%|          | 0/100 [00:00<?, ?it/s]"
      ]
     },
     "metadata": {},
     "output_type": "display_data"
    },
    {
     "name": "stdout",
     "output_type": "stream",
     "text": [
      "Image 191 saved at: result_ldm_original_nonseparate/100_steps/generated_image_191.png\n",
      "Image 192 saved at: result_ldm_original_nonseparate/100_steps/generated_image_192.png\n",
      "Image 193 saved at: result_ldm_original_nonseparate/100_steps/generated_image_193.png\n",
      "Image 194 saved at: result_ldm_original_nonseparate/100_steps/generated_image_194.png\n",
      "Image 195 saved at: result_ldm_original_nonseparate/100_steps/generated_image_195.png\n",
      "Image 196 saved at: result_ldm_original_nonseparate/100_steps/generated_image_196.png\n",
      "Image 197 saved at: result_ldm_original_nonseparate/100_steps/generated_image_197.png\n",
      "Image 198 saved at: result_ldm_original_nonseparate/100_steps/generated_image_198.png\n",
      "Image 199 saved at: result_ldm_original_nonseparate/100_steps/generated_image_199.png\n",
      "Image 200 saved at: result_ldm_original_nonseparate/100_steps/generated_image_200.png\n"
     ]
    },
    {
     "data": {
      "application/vnd.jupyter.widget-view+json": {
       "model_id": "265886e3e192427797bea469e766470b",
       "version_major": 2,
       "version_minor": 0
      },
      "text/plain": [
       "  0%|          | 0/100 [00:00<?, ?it/s]"
      ]
     },
     "metadata": {},
     "output_type": "display_data"
    },
    {
     "name": "stdout",
     "output_type": "stream",
     "text": [
      "Image 201 saved at: result_ldm_original_nonseparate/100_steps/generated_image_201.png\n",
      "Image 202 saved at: result_ldm_original_nonseparate/100_steps/generated_image_202.png\n",
      "Image 203 saved at: result_ldm_original_nonseparate/100_steps/generated_image_203.png\n",
      "Image 204 saved at: result_ldm_original_nonseparate/100_steps/generated_image_204.png\n",
      "Image 205 saved at: result_ldm_original_nonseparate/100_steps/generated_image_205.png\n",
      "Image 206 saved at: result_ldm_original_nonseparate/100_steps/generated_image_206.png\n",
      "Image 207 saved at: result_ldm_original_nonseparate/100_steps/generated_image_207.png\n",
      "Image 208 saved at: result_ldm_original_nonseparate/100_steps/generated_image_208.png\n",
      "Image 209 saved at: result_ldm_original_nonseparate/100_steps/generated_image_209.png\n",
      "Image 210 saved at: result_ldm_original_nonseparate/100_steps/generated_image_210.png\n"
     ]
    },
    {
     "data": {
      "application/vnd.jupyter.widget-view+json": {
       "model_id": "d88b2bc5d9114b209c9c4a75b023c798",
       "version_major": 2,
       "version_minor": 0
      },
      "text/plain": [
       "  0%|          | 0/100 [00:00<?, ?it/s]"
      ]
     },
     "metadata": {},
     "output_type": "display_data"
    },
    {
     "name": "stdout",
     "output_type": "stream",
     "text": [
      "Image 211 saved at: result_ldm_original_nonseparate/100_steps/generated_image_211.png\n",
      "Image 212 saved at: result_ldm_original_nonseparate/100_steps/generated_image_212.png\n",
      "Image 213 saved at: result_ldm_original_nonseparate/100_steps/generated_image_213.png\n",
      "Image 214 saved at: result_ldm_original_nonseparate/100_steps/generated_image_214.png\n",
      "Image 215 saved at: result_ldm_original_nonseparate/100_steps/generated_image_215.png\n",
      "Image 216 saved at: result_ldm_original_nonseparate/100_steps/generated_image_216.png\n",
      "Image 217 saved at: result_ldm_original_nonseparate/100_steps/generated_image_217.png\n",
      "Image 218 saved at: result_ldm_original_nonseparate/100_steps/generated_image_218.png\n",
      "Image 219 saved at: result_ldm_original_nonseparate/100_steps/generated_image_219.png\n",
      "Image 220 saved at: result_ldm_original_nonseparate/100_steps/generated_image_220.png\n"
     ]
    },
    {
     "data": {
      "application/vnd.jupyter.widget-view+json": {
       "model_id": "858412e2b8ab4f23af5dcc064a05cca2",
       "version_major": 2,
       "version_minor": 0
      },
      "text/plain": [
       "  0%|          | 0/100 [00:00<?, ?it/s]"
      ]
     },
     "metadata": {},
     "output_type": "display_data"
    },
    {
     "name": "stdout",
     "output_type": "stream",
     "text": [
      "Image 221 saved at: result_ldm_original_nonseparate/100_steps/generated_image_221.png\n",
      "Image 222 saved at: result_ldm_original_nonseparate/100_steps/generated_image_222.png\n",
      "Image 223 saved at: result_ldm_original_nonseparate/100_steps/generated_image_223.png\n",
      "Image 224 saved at: result_ldm_original_nonseparate/100_steps/generated_image_224.png\n",
      "Image 225 saved at: result_ldm_original_nonseparate/100_steps/generated_image_225.png\n",
      "Image 226 saved at: result_ldm_original_nonseparate/100_steps/generated_image_226.png\n",
      "Image 227 saved at: result_ldm_original_nonseparate/100_steps/generated_image_227.png\n",
      "Image 228 saved at: result_ldm_original_nonseparate/100_steps/generated_image_228.png\n",
      "Image 229 saved at: result_ldm_original_nonseparate/100_steps/generated_image_229.png\n",
      "Image 230 saved at: result_ldm_original_nonseparate/100_steps/generated_image_230.png\n"
     ]
    },
    {
     "data": {
      "application/vnd.jupyter.widget-view+json": {
       "model_id": "e2e3d2b9105d426389243c81ac425418",
       "version_major": 2,
       "version_minor": 0
      },
      "text/plain": [
       "  0%|          | 0/100 [00:00<?, ?it/s]"
      ]
     },
     "metadata": {},
     "output_type": "display_data"
    },
    {
     "name": "stdout",
     "output_type": "stream",
     "text": [
      "Image 231 saved at: result_ldm_original_nonseparate/100_steps/generated_image_231.png\n",
      "Image 232 saved at: result_ldm_original_nonseparate/100_steps/generated_image_232.png\n",
      "Image 233 saved at: result_ldm_original_nonseparate/100_steps/generated_image_233.png\n",
      "Image 234 saved at: result_ldm_original_nonseparate/100_steps/generated_image_234.png\n",
      "Image 235 saved at: result_ldm_original_nonseparate/100_steps/generated_image_235.png\n",
      "Image 236 saved at: result_ldm_original_nonseparate/100_steps/generated_image_236.png\n",
      "Image 237 saved at: result_ldm_original_nonseparate/100_steps/generated_image_237.png\n",
      "Image 238 saved at: result_ldm_original_nonseparate/100_steps/generated_image_238.png\n",
      "Image 239 saved at: result_ldm_original_nonseparate/100_steps/generated_image_239.png\n",
      "Image 240 saved at: result_ldm_original_nonseparate/100_steps/generated_image_240.png\n"
     ]
    },
    {
     "data": {
      "application/vnd.jupyter.widget-view+json": {
       "model_id": "b1d74cb572bf44248e342b0b3df48920",
       "version_major": 2,
       "version_minor": 0
      },
      "text/plain": [
       "  0%|          | 0/100 [00:00<?, ?it/s]"
      ]
     },
     "metadata": {},
     "output_type": "display_data"
    },
    {
     "name": "stdout",
     "output_type": "stream",
     "text": [
      "Image 241 saved at: result_ldm_original_nonseparate/100_steps/generated_image_241.png\n",
      "Image 242 saved at: result_ldm_original_nonseparate/100_steps/generated_image_242.png\n",
      "Image 243 saved at: result_ldm_original_nonseparate/100_steps/generated_image_243.png\n",
      "Image 244 saved at: result_ldm_original_nonseparate/100_steps/generated_image_244.png\n",
      "Image 245 saved at: result_ldm_original_nonseparate/100_steps/generated_image_245.png\n",
      "Image 246 saved at: result_ldm_original_nonseparate/100_steps/generated_image_246.png\n",
      "Image 247 saved at: result_ldm_original_nonseparate/100_steps/generated_image_247.png\n",
      "Image 248 saved at: result_ldm_original_nonseparate/100_steps/generated_image_248.png\n",
      "Image 249 saved at: result_ldm_original_nonseparate/100_steps/generated_image_249.png\n",
      "Image 250 saved at: result_ldm_original_nonseparate/100_steps/generated_image_250.png\n"
     ]
    },
    {
     "data": {
      "application/vnd.jupyter.widget-view+json": {
       "model_id": "f3d00795c1c041d0940eda12cc92399c",
       "version_major": 2,
       "version_minor": 0
      },
      "text/plain": [
       "  0%|          | 0/100 [00:00<?, ?it/s]"
      ]
     },
     "metadata": {},
     "output_type": "display_data"
    },
    {
     "name": "stdout",
     "output_type": "stream",
     "text": [
      "Image 251 saved at: result_ldm_original_nonseparate/100_steps/generated_image_251.png\n",
      "Image 252 saved at: result_ldm_original_nonseparate/100_steps/generated_image_252.png\n",
      "Image 253 saved at: result_ldm_original_nonseparate/100_steps/generated_image_253.png\n",
      "Image 254 saved at: result_ldm_original_nonseparate/100_steps/generated_image_254.png\n",
      "Image 255 saved at: result_ldm_original_nonseparate/100_steps/generated_image_255.png\n",
      "Image 256 saved at: result_ldm_original_nonseparate/100_steps/generated_image_256.png\n",
      "Image 257 saved at: result_ldm_original_nonseparate/100_steps/generated_image_257.png\n",
      "Image 258 saved at: result_ldm_original_nonseparate/100_steps/generated_image_258.png\n",
      "Image 259 saved at: result_ldm_original_nonseparate/100_steps/generated_image_259.png\n",
      "Image 260 saved at: result_ldm_original_nonseparate/100_steps/generated_image_260.png\n"
     ]
    },
    {
     "data": {
      "application/vnd.jupyter.widget-view+json": {
       "model_id": "afee107b9bde4a3ea92991b8755bd806",
       "version_major": 2,
       "version_minor": 0
      },
      "text/plain": [
       "  0%|          | 0/100 [00:00<?, ?it/s]"
      ]
     },
     "metadata": {},
     "output_type": "display_data"
    },
    {
     "name": "stdout",
     "output_type": "stream",
     "text": [
      "Image 261 saved at: result_ldm_original_nonseparate/100_steps/generated_image_261.png\n",
      "Image 262 saved at: result_ldm_original_nonseparate/100_steps/generated_image_262.png\n",
      "Image 263 saved at: result_ldm_original_nonseparate/100_steps/generated_image_263.png\n",
      "Image 264 saved at: result_ldm_original_nonseparate/100_steps/generated_image_264.png\n",
      "Image 265 saved at: result_ldm_original_nonseparate/100_steps/generated_image_265.png\n",
      "Image 266 saved at: result_ldm_original_nonseparate/100_steps/generated_image_266.png\n",
      "Image 267 saved at: result_ldm_original_nonseparate/100_steps/generated_image_267.png\n",
      "Image 268 saved at: result_ldm_original_nonseparate/100_steps/generated_image_268.png\n",
      "Image 269 saved at: result_ldm_original_nonseparate/100_steps/generated_image_269.png\n",
      "Image 270 saved at: result_ldm_original_nonseparate/100_steps/generated_image_270.png\n"
     ]
    },
    {
     "data": {
      "application/vnd.jupyter.widget-view+json": {
       "model_id": "6e03a013b4bc4c4486dec280cda294ce",
       "version_major": 2,
       "version_minor": 0
      },
      "text/plain": [
       "  0%|          | 0/100 [00:00<?, ?it/s]"
      ]
     },
     "metadata": {},
     "output_type": "display_data"
    },
    {
     "name": "stdout",
     "output_type": "stream",
     "text": [
      "Image 271 saved at: result_ldm_original_nonseparate/100_steps/generated_image_271.png\n",
      "Image 272 saved at: result_ldm_original_nonseparate/100_steps/generated_image_272.png\n",
      "Image 273 saved at: result_ldm_original_nonseparate/100_steps/generated_image_273.png\n",
      "Image 274 saved at: result_ldm_original_nonseparate/100_steps/generated_image_274.png\n",
      "Image 275 saved at: result_ldm_original_nonseparate/100_steps/generated_image_275.png\n",
      "Image 276 saved at: result_ldm_original_nonseparate/100_steps/generated_image_276.png\n",
      "Image 277 saved at: result_ldm_original_nonseparate/100_steps/generated_image_277.png\n",
      "Image 278 saved at: result_ldm_original_nonseparate/100_steps/generated_image_278.png\n",
      "Image 279 saved at: result_ldm_original_nonseparate/100_steps/generated_image_279.png\n",
      "Image 280 saved at: result_ldm_original_nonseparate/100_steps/generated_image_280.png\n"
     ]
    },
    {
     "data": {
      "application/vnd.jupyter.widget-view+json": {
       "model_id": "e31b441d354c4321b51a9d802db7916a",
       "version_major": 2,
       "version_minor": 0
      },
      "text/plain": [
       "  0%|          | 0/100 [00:00<?, ?it/s]"
      ]
     },
     "metadata": {},
     "output_type": "display_data"
    },
    {
     "name": "stdout",
     "output_type": "stream",
     "text": [
      "Image 281 saved at: result_ldm_original_nonseparate/100_steps/generated_image_281.png\n",
      "Image 282 saved at: result_ldm_original_nonseparate/100_steps/generated_image_282.png\n",
      "Image 283 saved at: result_ldm_original_nonseparate/100_steps/generated_image_283.png\n",
      "Image 284 saved at: result_ldm_original_nonseparate/100_steps/generated_image_284.png\n",
      "Image 285 saved at: result_ldm_original_nonseparate/100_steps/generated_image_285.png\n",
      "Image 286 saved at: result_ldm_original_nonseparate/100_steps/generated_image_286.png\n",
      "Image 287 saved at: result_ldm_original_nonseparate/100_steps/generated_image_287.png\n",
      "Image 288 saved at: result_ldm_original_nonseparate/100_steps/generated_image_288.png\n",
      "Image 289 saved at: result_ldm_original_nonseparate/100_steps/generated_image_289.png\n",
      "Image 290 saved at: result_ldm_original_nonseparate/100_steps/generated_image_290.png\n"
     ]
    },
    {
     "data": {
      "application/vnd.jupyter.widget-view+json": {
       "model_id": "ce74c7bfa15346d48c02f2ce19fab64f",
       "version_major": 2,
       "version_minor": 0
      },
      "text/plain": [
       "  0%|          | 0/100 [00:00<?, ?it/s]"
      ]
     },
     "metadata": {},
     "output_type": "display_data"
    },
    {
     "name": "stdout",
     "output_type": "stream",
     "text": [
      "Image 291 saved at: result_ldm_original_nonseparate/100_steps/generated_image_291.png\n",
      "Image 292 saved at: result_ldm_original_nonseparate/100_steps/generated_image_292.png\n",
      "Image 293 saved at: result_ldm_original_nonseparate/100_steps/generated_image_293.png\n",
      "Image 294 saved at: result_ldm_original_nonseparate/100_steps/generated_image_294.png\n",
      "Image 295 saved at: result_ldm_original_nonseparate/100_steps/generated_image_295.png\n",
      "Image 296 saved at: result_ldm_original_nonseparate/100_steps/generated_image_296.png\n",
      "Image 297 saved at: result_ldm_original_nonseparate/100_steps/generated_image_297.png\n",
      "Image 298 saved at: result_ldm_original_nonseparate/100_steps/generated_image_298.png\n",
      "Image 299 saved at: result_ldm_original_nonseparate/100_steps/generated_image_299.png\n",
      "Image 300 saved at: result_ldm_original_nonseparate/100_steps/generated_image_300.png\n"
     ]
    },
    {
     "data": {
      "application/vnd.jupyter.widget-view+json": {
       "model_id": "cf14964c49274a21839fb408506f9f52",
       "version_major": 2,
       "version_minor": 0
      },
      "text/plain": [
       "  0%|          | 0/100 [00:00<?, ?it/s]"
      ]
     },
     "metadata": {},
     "output_type": "display_data"
    },
    {
     "name": "stdout",
     "output_type": "stream",
     "text": [
      "Image 301 saved at: result_ldm_original_nonseparate/100_steps/generated_image_301.png\n",
      "Image 302 saved at: result_ldm_original_nonseparate/100_steps/generated_image_302.png\n",
      "Image 303 saved at: result_ldm_original_nonseparate/100_steps/generated_image_303.png\n",
      "Image 304 saved at: result_ldm_original_nonseparate/100_steps/generated_image_304.png\n",
      "Image 305 saved at: result_ldm_original_nonseparate/100_steps/generated_image_305.png\n",
      "Image 306 saved at: result_ldm_original_nonseparate/100_steps/generated_image_306.png\n",
      "Image 307 saved at: result_ldm_original_nonseparate/100_steps/generated_image_307.png\n",
      "Image 308 saved at: result_ldm_original_nonseparate/100_steps/generated_image_308.png\n",
      "Image 309 saved at: result_ldm_original_nonseparate/100_steps/generated_image_309.png\n",
      "Image 310 saved at: result_ldm_original_nonseparate/100_steps/generated_image_310.png\n"
     ]
    },
    {
     "data": {
      "application/vnd.jupyter.widget-view+json": {
       "model_id": "709cabaffec846b1b49cc315890a1333",
       "version_major": 2,
       "version_minor": 0
      },
      "text/plain": [
       "  0%|          | 0/100 [00:00<?, ?it/s]"
      ]
     },
     "metadata": {},
     "output_type": "display_data"
    },
    {
     "name": "stdout",
     "output_type": "stream",
     "text": [
      "Image 311 saved at: result_ldm_original_nonseparate/100_steps/generated_image_311.png\n",
      "Image 312 saved at: result_ldm_original_nonseparate/100_steps/generated_image_312.png\n",
      "Image 313 saved at: result_ldm_original_nonseparate/100_steps/generated_image_313.png\n",
      "Image 314 saved at: result_ldm_original_nonseparate/100_steps/generated_image_314.png\n",
      "Image 315 saved at: result_ldm_original_nonseparate/100_steps/generated_image_315.png\n",
      "Image 316 saved at: result_ldm_original_nonseparate/100_steps/generated_image_316.png\n",
      "Image 317 saved at: result_ldm_original_nonseparate/100_steps/generated_image_317.png\n",
      "Image 318 saved at: result_ldm_original_nonseparate/100_steps/generated_image_318.png\n",
      "Image 319 saved at: result_ldm_original_nonseparate/100_steps/generated_image_319.png\n",
      "Image 320 saved at: result_ldm_original_nonseparate/100_steps/generated_image_320.png\n"
     ]
    },
    {
     "data": {
      "application/vnd.jupyter.widget-view+json": {
       "model_id": "92e916abe854427686674e7c4da535af",
       "version_major": 2,
       "version_minor": 0
      },
      "text/plain": [
       "  0%|          | 0/100 [00:00<?, ?it/s]"
      ]
     },
     "metadata": {},
     "output_type": "display_data"
    },
    {
     "name": "stdout",
     "output_type": "stream",
     "text": [
      "Image 321 saved at: result_ldm_original_nonseparate/100_steps/generated_image_321.png\n",
      "Image 322 saved at: result_ldm_original_nonseparate/100_steps/generated_image_322.png\n",
      "Image 323 saved at: result_ldm_original_nonseparate/100_steps/generated_image_323.png\n",
      "Image 324 saved at: result_ldm_original_nonseparate/100_steps/generated_image_324.png\n",
      "Image 325 saved at: result_ldm_original_nonseparate/100_steps/generated_image_325.png\n",
      "Image 326 saved at: result_ldm_original_nonseparate/100_steps/generated_image_326.png\n",
      "Image 327 saved at: result_ldm_original_nonseparate/100_steps/generated_image_327.png\n",
      "Image 328 saved at: result_ldm_original_nonseparate/100_steps/generated_image_328.png\n",
      "Image 329 saved at: result_ldm_original_nonseparate/100_steps/generated_image_329.png\n",
      "Image 330 saved at: result_ldm_original_nonseparate/100_steps/generated_image_330.png\n"
     ]
    },
    {
     "data": {
      "application/vnd.jupyter.widget-view+json": {
       "model_id": "32569b3190ac409a86d89d2e99679543",
       "version_major": 2,
       "version_minor": 0
      },
      "text/plain": [
       "  0%|          | 0/100 [00:00<?, ?it/s]"
      ]
     },
     "metadata": {},
     "output_type": "display_data"
    },
    {
     "name": "stdout",
     "output_type": "stream",
     "text": [
      "Image 331 saved at: result_ldm_original_nonseparate/100_steps/generated_image_331.png\n",
      "Image 332 saved at: result_ldm_original_nonseparate/100_steps/generated_image_332.png\n",
      "Image 333 saved at: result_ldm_original_nonseparate/100_steps/generated_image_333.png\n",
      "Image 334 saved at: result_ldm_original_nonseparate/100_steps/generated_image_334.png\n",
      "Image 335 saved at: result_ldm_original_nonseparate/100_steps/generated_image_335.png\n",
      "Image 336 saved at: result_ldm_original_nonseparate/100_steps/generated_image_336.png\n",
      "Image 337 saved at: result_ldm_original_nonseparate/100_steps/generated_image_337.png\n",
      "Image 338 saved at: result_ldm_original_nonseparate/100_steps/generated_image_338.png\n",
      "Image 339 saved at: result_ldm_original_nonseparate/100_steps/generated_image_339.png\n",
      "Image 340 saved at: result_ldm_original_nonseparate/100_steps/generated_image_340.png\n"
     ]
    },
    {
     "data": {
      "application/vnd.jupyter.widget-view+json": {
       "model_id": "17ed85235b914fcab67e0e9a3856b588",
       "version_major": 2,
       "version_minor": 0
      },
      "text/plain": [
       "  0%|          | 0/100 [00:00<?, ?it/s]"
      ]
     },
     "metadata": {},
     "output_type": "display_data"
    },
    {
     "name": "stdout",
     "output_type": "stream",
     "text": [
      "Image 341 saved at: result_ldm_original_nonseparate/100_steps/generated_image_341.png\n",
      "Image 342 saved at: result_ldm_original_nonseparate/100_steps/generated_image_342.png\n",
      "Image 343 saved at: result_ldm_original_nonseparate/100_steps/generated_image_343.png\n",
      "Image 344 saved at: result_ldm_original_nonseparate/100_steps/generated_image_344.png\n",
      "Image 345 saved at: result_ldm_original_nonseparate/100_steps/generated_image_345.png\n",
      "Image 346 saved at: result_ldm_original_nonseparate/100_steps/generated_image_346.png\n",
      "Image 347 saved at: result_ldm_original_nonseparate/100_steps/generated_image_347.png\n",
      "Image 348 saved at: result_ldm_original_nonseparate/100_steps/generated_image_348.png\n",
      "Image 349 saved at: result_ldm_original_nonseparate/100_steps/generated_image_349.png\n",
      "Image 350 saved at: result_ldm_original_nonseparate/100_steps/generated_image_350.png\n"
     ]
    },
    {
     "data": {
      "application/vnd.jupyter.widget-view+json": {
       "model_id": "df83b6eabbc949c786df576a20a78183",
       "version_major": 2,
       "version_minor": 0
      },
      "text/plain": [
       "  0%|          | 0/100 [00:00<?, ?it/s]"
      ]
     },
     "metadata": {},
     "output_type": "display_data"
    },
    {
     "name": "stdout",
     "output_type": "stream",
     "text": [
      "Image 351 saved at: result_ldm_original_nonseparate/100_steps/generated_image_351.png\n",
      "Image 352 saved at: result_ldm_original_nonseparate/100_steps/generated_image_352.png\n",
      "Image 353 saved at: result_ldm_original_nonseparate/100_steps/generated_image_353.png\n",
      "Image 354 saved at: result_ldm_original_nonseparate/100_steps/generated_image_354.png\n",
      "Image 355 saved at: result_ldm_original_nonseparate/100_steps/generated_image_355.png\n",
      "Image 356 saved at: result_ldm_original_nonseparate/100_steps/generated_image_356.png\n",
      "Image 357 saved at: result_ldm_original_nonseparate/100_steps/generated_image_357.png\n",
      "Image 358 saved at: result_ldm_original_nonseparate/100_steps/generated_image_358.png\n",
      "Image 359 saved at: result_ldm_original_nonseparate/100_steps/generated_image_359.png\n",
      "Image 360 saved at: result_ldm_original_nonseparate/100_steps/generated_image_360.png\n"
     ]
    },
    {
     "data": {
      "application/vnd.jupyter.widget-view+json": {
       "model_id": "aee149a2c15541dc9abfd2ca82a714b6",
       "version_major": 2,
       "version_minor": 0
      },
      "text/plain": [
       "  0%|          | 0/100 [00:00<?, ?it/s]"
      ]
     },
     "metadata": {},
     "output_type": "display_data"
    },
    {
     "name": "stdout",
     "output_type": "stream",
     "text": [
      "Image 361 saved at: result_ldm_original_nonseparate/100_steps/generated_image_361.png\n",
      "Image 362 saved at: result_ldm_original_nonseparate/100_steps/generated_image_362.png\n",
      "Image 363 saved at: result_ldm_original_nonseparate/100_steps/generated_image_363.png\n",
      "Image 364 saved at: result_ldm_original_nonseparate/100_steps/generated_image_364.png\n",
      "Image 365 saved at: result_ldm_original_nonseparate/100_steps/generated_image_365.png\n",
      "Image 366 saved at: result_ldm_original_nonseparate/100_steps/generated_image_366.png\n",
      "Image 367 saved at: result_ldm_original_nonseparate/100_steps/generated_image_367.png\n",
      "Image 368 saved at: result_ldm_original_nonseparate/100_steps/generated_image_368.png\n",
      "Image 369 saved at: result_ldm_original_nonseparate/100_steps/generated_image_369.png\n",
      "Image 370 saved at: result_ldm_original_nonseparate/100_steps/generated_image_370.png\n"
     ]
    },
    {
     "data": {
      "application/vnd.jupyter.widget-view+json": {
       "model_id": "e2332584d1f04f0a9eaca6317e92724c",
       "version_major": 2,
       "version_minor": 0
      },
      "text/plain": [
       "  0%|          | 0/100 [00:00<?, ?it/s]"
      ]
     },
     "metadata": {},
     "output_type": "display_data"
    },
    {
     "name": "stdout",
     "output_type": "stream",
     "text": [
      "Image 371 saved at: result_ldm_original_nonseparate/100_steps/generated_image_371.png\n",
      "Image 372 saved at: result_ldm_original_nonseparate/100_steps/generated_image_372.png\n",
      "Image 373 saved at: result_ldm_original_nonseparate/100_steps/generated_image_373.png\n",
      "Image 374 saved at: result_ldm_original_nonseparate/100_steps/generated_image_374.png\n",
      "Image 375 saved at: result_ldm_original_nonseparate/100_steps/generated_image_375.png\n",
      "Image 376 saved at: result_ldm_original_nonseparate/100_steps/generated_image_376.png\n",
      "Image 377 saved at: result_ldm_original_nonseparate/100_steps/generated_image_377.png\n",
      "Image 378 saved at: result_ldm_original_nonseparate/100_steps/generated_image_378.png\n",
      "Image 379 saved at: result_ldm_original_nonseparate/100_steps/generated_image_379.png\n",
      "Image 380 saved at: result_ldm_original_nonseparate/100_steps/generated_image_380.png\n"
     ]
    },
    {
     "data": {
      "application/vnd.jupyter.widget-view+json": {
       "model_id": "1945cfbc5d4b40c0847ecb0b9fde1b52",
       "version_major": 2,
       "version_minor": 0
      },
      "text/plain": [
       "  0%|          | 0/100 [00:00<?, ?it/s]"
      ]
     },
     "metadata": {},
     "output_type": "display_data"
    },
    {
     "name": "stdout",
     "output_type": "stream",
     "text": [
      "Image 381 saved at: result_ldm_original_nonseparate/100_steps/generated_image_381.png\n",
      "Image 382 saved at: result_ldm_original_nonseparate/100_steps/generated_image_382.png\n",
      "Image 383 saved at: result_ldm_original_nonseparate/100_steps/generated_image_383.png\n",
      "Image 384 saved at: result_ldm_original_nonseparate/100_steps/generated_image_384.png\n",
      "Image 385 saved at: result_ldm_original_nonseparate/100_steps/generated_image_385.png\n",
      "Image 386 saved at: result_ldm_original_nonseparate/100_steps/generated_image_386.png\n",
      "Image 387 saved at: result_ldm_original_nonseparate/100_steps/generated_image_387.png\n",
      "Image 388 saved at: result_ldm_original_nonseparate/100_steps/generated_image_388.png\n",
      "Image 389 saved at: result_ldm_original_nonseparate/100_steps/generated_image_389.png\n",
      "Image 390 saved at: result_ldm_original_nonseparate/100_steps/generated_image_390.png\n"
     ]
    },
    {
     "data": {
      "application/vnd.jupyter.widget-view+json": {
       "model_id": "a8f8e844a6df4b3487e0253901687fb2",
       "version_major": 2,
       "version_minor": 0
      },
      "text/plain": [
       "  0%|          | 0/100 [00:00<?, ?it/s]"
      ]
     },
     "metadata": {},
     "output_type": "display_data"
    },
    {
     "name": "stdout",
     "output_type": "stream",
     "text": [
      "Image 391 saved at: result_ldm_original_nonseparate/100_steps/generated_image_391.png\n",
      "Image 392 saved at: result_ldm_original_nonseparate/100_steps/generated_image_392.png\n",
      "Image 393 saved at: result_ldm_original_nonseparate/100_steps/generated_image_393.png\n",
      "Image 394 saved at: result_ldm_original_nonseparate/100_steps/generated_image_394.png\n",
      "Image 395 saved at: result_ldm_original_nonseparate/100_steps/generated_image_395.png\n",
      "Image 396 saved at: result_ldm_original_nonseparate/100_steps/generated_image_396.png\n",
      "Image 397 saved at: result_ldm_original_nonseparate/100_steps/generated_image_397.png\n",
      "Image 398 saved at: result_ldm_original_nonseparate/100_steps/generated_image_398.png\n",
      "Image 399 saved at: result_ldm_original_nonseparate/100_steps/generated_image_399.png\n",
      "Image 400 saved at: result_ldm_original_nonseparate/100_steps/generated_image_400.png\n"
     ]
    },
    {
     "data": {
      "application/vnd.jupyter.widget-view+json": {
       "model_id": "ec642f5fab954aa689193b0ac8c0dbd2",
       "version_major": 2,
       "version_minor": 0
      },
      "text/plain": [
       "  0%|          | 0/100 [00:00<?, ?it/s]"
      ]
     },
     "metadata": {},
     "output_type": "display_data"
    },
    {
     "name": "stdout",
     "output_type": "stream",
     "text": [
      "Image 401 saved at: result_ldm_original_nonseparate/100_steps/generated_image_401.png\n",
      "Image 402 saved at: result_ldm_original_nonseparate/100_steps/generated_image_402.png\n",
      "Image 403 saved at: result_ldm_original_nonseparate/100_steps/generated_image_403.png\n",
      "Image 404 saved at: result_ldm_original_nonseparate/100_steps/generated_image_404.png\n",
      "Image 405 saved at: result_ldm_original_nonseparate/100_steps/generated_image_405.png\n",
      "Image 406 saved at: result_ldm_original_nonseparate/100_steps/generated_image_406.png\n",
      "Image 407 saved at: result_ldm_original_nonseparate/100_steps/generated_image_407.png\n",
      "Image 408 saved at: result_ldm_original_nonseparate/100_steps/generated_image_408.png\n",
      "Image 409 saved at: result_ldm_original_nonseparate/100_steps/generated_image_409.png\n",
      "Image 410 saved at: result_ldm_original_nonseparate/100_steps/generated_image_410.png\n"
     ]
    },
    {
     "data": {
      "application/vnd.jupyter.widget-view+json": {
       "model_id": "b2b09d9574dc41fb83b4db6665f5e891",
       "version_major": 2,
       "version_minor": 0
      },
      "text/plain": [
       "  0%|          | 0/100 [00:00<?, ?it/s]"
      ]
     },
     "metadata": {},
     "output_type": "display_data"
    },
    {
     "name": "stdout",
     "output_type": "stream",
     "text": [
      "Image 411 saved at: result_ldm_original_nonseparate/100_steps/generated_image_411.png\n",
      "Image 412 saved at: result_ldm_original_nonseparate/100_steps/generated_image_412.png\n",
      "Image 413 saved at: result_ldm_original_nonseparate/100_steps/generated_image_413.png\n",
      "Image 414 saved at: result_ldm_original_nonseparate/100_steps/generated_image_414.png\n",
      "Image 415 saved at: result_ldm_original_nonseparate/100_steps/generated_image_415.png\n",
      "Image 416 saved at: result_ldm_original_nonseparate/100_steps/generated_image_416.png\n",
      "Image 417 saved at: result_ldm_original_nonseparate/100_steps/generated_image_417.png\n",
      "Image 418 saved at: result_ldm_original_nonseparate/100_steps/generated_image_418.png\n",
      "Image 419 saved at: result_ldm_original_nonseparate/100_steps/generated_image_419.png\n",
      "Image 420 saved at: result_ldm_original_nonseparate/100_steps/generated_image_420.png\n"
     ]
    },
    {
     "data": {
      "application/vnd.jupyter.widget-view+json": {
       "model_id": "0c3b8f113e924b859868f5d536fcb7e4",
       "version_major": 2,
       "version_minor": 0
      },
      "text/plain": [
       "  0%|          | 0/100 [00:00<?, ?it/s]"
      ]
     },
     "metadata": {},
     "output_type": "display_data"
    },
    {
     "name": "stdout",
     "output_type": "stream",
     "text": [
      "Image 421 saved at: result_ldm_original_nonseparate/100_steps/generated_image_421.png\n",
      "Image 422 saved at: result_ldm_original_nonseparate/100_steps/generated_image_422.png\n",
      "Image 423 saved at: result_ldm_original_nonseparate/100_steps/generated_image_423.png\n",
      "Image 424 saved at: result_ldm_original_nonseparate/100_steps/generated_image_424.png\n",
      "Image 425 saved at: result_ldm_original_nonseparate/100_steps/generated_image_425.png\n",
      "Image 426 saved at: result_ldm_original_nonseparate/100_steps/generated_image_426.png\n",
      "Image 427 saved at: result_ldm_original_nonseparate/100_steps/generated_image_427.png\n",
      "Image 428 saved at: result_ldm_original_nonseparate/100_steps/generated_image_428.png\n",
      "Image 429 saved at: result_ldm_original_nonseparate/100_steps/generated_image_429.png\n",
      "Image 430 saved at: result_ldm_original_nonseparate/100_steps/generated_image_430.png\n"
     ]
    },
    {
     "data": {
      "application/vnd.jupyter.widget-view+json": {
       "model_id": "6c2a81ab1775473a8428ef98c489644b",
       "version_major": 2,
       "version_minor": 0
      },
      "text/plain": [
       "  0%|          | 0/100 [00:00<?, ?it/s]"
      ]
     },
     "metadata": {},
     "output_type": "display_data"
    },
    {
     "name": "stdout",
     "output_type": "stream",
     "text": [
      "Image 431 saved at: result_ldm_original_nonseparate/100_steps/generated_image_431.png\n",
      "Image 432 saved at: result_ldm_original_nonseparate/100_steps/generated_image_432.png\n",
      "Image 433 saved at: result_ldm_original_nonseparate/100_steps/generated_image_433.png\n",
      "Image 434 saved at: result_ldm_original_nonseparate/100_steps/generated_image_434.png\n",
      "Image 435 saved at: result_ldm_original_nonseparate/100_steps/generated_image_435.png\n",
      "Image 436 saved at: result_ldm_original_nonseparate/100_steps/generated_image_436.png\n",
      "Image 437 saved at: result_ldm_original_nonseparate/100_steps/generated_image_437.png\n",
      "Image 438 saved at: result_ldm_original_nonseparate/100_steps/generated_image_438.png\n",
      "Image 439 saved at: result_ldm_original_nonseparate/100_steps/generated_image_439.png\n",
      "Image 440 saved at: result_ldm_original_nonseparate/100_steps/generated_image_440.png\n"
     ]
    },
    {
     "data": {
      "application/vnd.jupyter.widget-view+json": {
       "model_id": "ff82d87cb0ba48dba8a70d8e7cc6f943",
       "version_major": 2,
       "version_minor": 0
      },
      "text/plain": [
       "  0%|          | 0/100 [00:00<?, ?it/s]"
      ]
     },
     "metadata": {},
     "output_type": "display_data"
    },
    {
     "name": "stdout",
     "output_type": "stream",
     "text": [
      "Image 441 saved at: result_ldm_original_nonseparate/100_steps/generated_image_441.png\n",
      "Image 442 saved at: result_ldm_original_nonseparate/100_steps/generated_image_442.png\n",
      "Image 443 saved at: result_ldm_original_nonseparate/100_steps/generated_image_443.png\n",
      "Image 444 saved at: result_ldm_original_nonseparate/100_steps/generated_image_444.png\n",
      "Image 445 saved at: result_ldm_original_nonseparate/100_steps/generated_image_445.png\n",
      "Image 446 saved at: result_ldm_original_nonseparate/100_steps/generated_image_446.png\n",
      "Image 447 saved at: result_ldm_original_nonseparate/100_steps/generated_image_447.png\n",
      "Image 448 saved at: result_ldm_original_nonseparate/100_steps/generated_image_448.png\n",
      "Image 449 saved at: result_ldm_original_nonseparate/100_steps/generated_image_449.png\n",
      "Image 450 saved at: result_ldm_original_nonseparate/100_steps/generated_image_450.png\n"
     ]
    },
    {
     "data": {
      "application/vnd.jupyter.widget-view+json": {
       "model_id": "0af6c022d5f34c91bf98f4a517af0155",
       "version_major": 2,
       "version_minor": 0
      },
      "text/plain": [
       "  0%|          | 0/100 [00:00<?, ?it/s]"
      ]
     },
     "metadata": {},
     "output_type": "display_data"
    },
    {
     "name": "stdout",
     "output_type": "stream",
     "text": [
      "Image 451 saved at: result_ldm_original_nonseparate/100_steps/generated_image_451.png\n",
      "Image 452 saved at: result_ldm_original_nonseparate/100_steps/generated_image_452.png\n",
      "Image 453 saved at: result_ldm_original_nonseparate/100_steps/generated_image_453.png\n",
      "Image 454 saved at: result_ldm_original_nonseparate/100_steps/generated_image_454.png\n",
      "Image 455 saved at: result_ldm_original_nonseparate/100_steps/generated_image_455.png\n",
      "Image 456 saved at: result_ldm_original_nonseparate/100_steps/generated_image_456.png\n",
      "Image 457 saved at: result_ldm_original_nonseparate/100_steps/generated_image_457.png\n",
      "Image 458 saved at: result_ldm_original_nonseparate/100_steps/generated_image_458.png\n",
      "Image 459 saved at: result_ldm_original_nonseparate/100_steps/generated_image_459.png\n",
      "Image 460 saved at: result_ldm_original_nonseparate/100_steps/generated_image_460.png\n"
     ]
    },
    {
     "data": {
      "application/vnd.jupyter.widget-view+json": {
       "model_id": "155efde5649e44c8865345dd044cc518",
       "version_major": 2,
       "version_minor": 0
      },
      "text/plain": [
       "  0%|          | 0/100 [00:00<?, ?it/s]"
      ]
     },
     "metadata": {},
     "output_type": "display_data"
    },
    {
     "name": "stdout",
     "output_type": "stream",
     "text": [
      "Image 461 saved at: result_ldm_original_nonseparate/100_steps/generated_image_461.png\n",
      "Image 462 saved at: result_ldm_original_nonseparate/100_steps/generated_image_462.png\n",
      "Image 463 saved at: result_ldm_original_nonseparate/100_steps/generated_image_463.png\n",
      "Image 464 saved at: result_ldm_original_nonseparate/100_steps/generated_image_464.png\n",
      "Image 465 saved at: result_ldm_original_nonseparate/100_steps/generated_image_465.png\n",
      "Image 466 saved at: result_ldm_original_nonseparate/100_steps/generated_image_466.png\n",
      "Image 467 saved at: result_ldm_original_nonseparate/100_steps/generated_image_467.png\n",
      "Image 468 saved at: result_ldm_original_nonseparate/100_steps/generated_image_468.png\n",
      "Image 469 saved at: result_ldm_original_nonseparate/100_steps/generated_image_469.png\n",
      "Image 470 saved at: result_ldm_original_nonseparate/100_steps/generated_image_470.png\n"
     ]
    },
    {
     "data": {
      "application/vnd.jupyter.widget-view+json": {
       "model_id": "6c1826abb6d34c32bac93df39628e101",
       "version_major": 2,
       "version_minor": 0
      },
      "text/plain": [
       "  0%|          | 0/100 [00:00<?, ?it/s]"
      ]
     },
     "metadata": {},
     "output_type": "display_data"
    },
    {
     "name": "stdout",
     "output_type": "stream",
     "text": [
      "Image 471 saved at: result_ldm_original_nonseparate/100_steps/generated_image_471.png\n",
      "Image 472 saved at: result_ldm_original_nonseparate/100_steps/generated_image_472.png\n",
      "Image 473 saved at: result_ldm_original_nonseparate/100_steps/generated_image_473.png\n",
      "Image 474 saved at: result_ldm_original_nonseparate/100_steps/generated_image_474.png\n",
      "Image 475 saved at: result_ldm_original_nonseparate/100_steps/generated_image_475.png\n",
      "Image 476 saved at: result_ldm_original_nonseparate/100_steps/generated_image_476.png\n",
      "Image 477 saved at: result_ldm_original_nonseparate/100_steps/generated_image_477.png\n",
      "Image 478 saved at: result_ldm_original_nonseparate/100_steps/generated_image_478.png\n",
      "Image 479 saved at: result_ldm_original_nonseparate/100_steps/generated_image_479.png\n",
      "Image 480 saved at: result_ldm_original_nonseparate/100_steps/generated_image_480.png\n"
     ]
    },
    {
     "data": {
      "application/vnd.jupyter.widget-view+json": {
       "model_id": "8c2e79a221a74dff82d5adddc55f594d",
       "version_major": 2,
       "version_minor": 0
      },
      "text/plain": [
       "  0%|          | 0/100 [00:00<?, ?it/s]"
      ]
     },
     "metadata": {},
     "output_type": "display_data"
    },
    {
     "name": "stdout",
     "output_type": "stream",
     "text": [
      "Image 481 saved at: result_ldm_original_nonseparate/100_steps/generated_image_481.png\n",
      "Image 482 saved at: result_ldm_original_nonseparate/100_steps/generated_image_482.png\n",
      "Image 483 saved at: result_ldm_original_nonseparate/100_steps/generated_image_483.png\n",
      "Image 484 saved at: result_ldm_original_nonseparate/100_steps/generated_image_484.png\n",
      "Image 485 saved at: result_ldm_original_nonseparate/100_steps/generated_image_485.png\n",
      "Image 486 saved at: result_ldm_original_nonseparate/100_steps/generated_image_486.png\n",
      "Image 487 saved at: result_ldm_original_nonseparate/100_steps/generated_image_487.png\n",
      "Image 488 saved at: result_ldm_original_nonseparate/100_steps/generated_image_488.png\n",
      "Image 489 saved at: result_ldm_original_nonseparate/100_steps/generated_image_489.png\n",
      "Image 490 saved at: result_ldm_original_nonseparate/100_steps/generated_image_490.png\n"
     ]
    },
    {
     "data": {
      "application/vnd.jupyter.widget-view+json": {
       "model_id": "abbf318daa624ef0b2e9df0a5e5a9375",
       "version_major": 2,
       "version_minor": 0
      },
      "text/plain": [
       "  0%|          | 0/100 [00:00<?, ?it/s]"
      ]
     },
     "metadata": {},
     "output_type": "display_data"
    },
    {
     "name": "stdout",
     "output_type": "stream",
     "text": [
      "Image 491 saved at: result_ldm_original_nonseparate/100_steps/generated_image_491.png\n",
      "Image 492 saved at: result_ldm_original_nonseparate/100_steps/generated_image_492.png\n",
      "Image 493 saved at: result_ldm_original_nonseparate/100_steps/generated_image_493.png\n",
      "Image 494 saved at: result_ldm_original_nonseparate/100_steps/generated_image_494.png\n",
      "Image 495 saved at: result_ldm_original_nonseparate/100_steps/generated_image_495.png\n",
      "Image 496 saved at: result_ldm_original_nonseparate/100_steps/generated_image_496.png\n",
      "Image 497 saved at: result_ldm_original_nonseparate/100_steps/generated_image_497.png\n",
      "Image 498 saved at: result_ldm_original_nonseparate/100_steps/generated_image_498.png\n",
      "Image 499 saved at: result_ldm_original_nonseparate/100_steps/generated_image_499.png\n",
      "Image 500 saved at: result_ldm_original_nonseparate/100_steps/generated_image_500.png\n"
     ]
    },
    {
     "data": {
      "application/vnd.jupyter.widget-view+json": {
       "model_id": "69a2d63d7d4a4f77adbcd4819683caf7",
       "version_major": 2,
       "version_minor": 0
      },
      "text/plain": [
       "  0%|          | 0/100 [00:00<?, ?it/s]"
      ]
     },
     "metadata": {},
     "output_type": "display_data"
    },
    {
     "name": "stdout",
     "output_type": "stream",
     "text": [
      "Image 501 saved at: result_ldm_original_nonseparate/100_steps/generated_image_501.png\n",
      "Image 502 saved at: result_ldm_original_nonseparate/100_steps/generated_image_502.png\n",
      "Image 503 saved at: result_ldm_original_nonseparate/100_steps/generated_image_503.png\n",
      "Image 504 saved at: result_ldm_original_nonseparate/100_steps/generated_image_504.png\n",
      "Image 505 saved at: result_ldm_original_nonseparate/100_steps/generated_image_505.png\n",
      "Image 506 saved at: result_ldm_original_nonseparate/100_steps/generated_image_506.png\n",
      "Image 507 saved at: result_ldm_original_nonseparate/100_steps/generated_image_507.png\n",
      "Image 508 saved at: result_ldm_original_nonseparate/100_steps/generated_image_508.png\n",
      "Image 509 saved at: result_ldm_original_nonseparate/100_steps/generated_image_509.png\n",
      "Image 510 saved at: result_ldm_original_nonseparate/100_steps/generated_image_510.png\n"
     ]
    },
    {
     "data": {
      "application/vnd.jupyter.widget-view+json": {
       "model_id": "096c1123c0224e94b0e8b12720c98e9a",
       "version_major": 2,
       "version_minor": 0
      },
      "text/plain": [
       "  0%|          | 0/100 [00:00<?, ?it/s]"
      ]
     },
     "metadata": {},
     "output_type": "display_data"
    },
    {
     "name": "stdout",
     "output_type": "stream",
     "text": [
      "Image 511 saved at: result_ldm_original_nonseparate/100_steps/generated_image_511.png\n",
      "Image 512 saved at: result_ldm_original_nonseparate/100_steps/generated_image_512.png\n",
      "Image 513 saved at: result_ldm_original_nonseparate/100_steps/generated_image_513.png\n",
      "Image 514 saved at: result_ldm_original_nonseparate/100_steps/generated_image_514.png\n",
      "Image 515 saved at: result_ldm_original_nonseparate/100_steps/generated_image_515.png\n",
      "Image 516 saved at: result_ldm_original_nonseparate/100_steps/generated_image_516.png\n",
      "Image 517 saved at: result_ldm_original_nonseparate/100_steps/generated_image_517.png\n",
      "Image 518 saved at: result_ldm_original_nonseparate/100_steps/generated_image_518.png\n",
      "Image 519 saved at: result_ldm_original_nonseparate/100_steps/generated_image_519.png\n",
      "Image 520 saved at: result_ldm_original_nonseparate/100_steps/generated_image_520.png\n"
     ]
    },
    {
     "data": {
      "application/vnd.jupyter.widget-view+json": {
       "model_id": "2d4acff4ad074f4e9e12fbc4516e2905",
       "version_major": 2,
       "version_minor": 0
      },
      "text/plain": [
       "  0%|          | 0/100 [00:00<?, ?it/s]"
      ]
     },
     "metadata": {},
     "output_type": "display_data"
    },
    {
     "name": "stdout",
     "output_type": "stream",
     "text": [
      "Image 521 saved at: result_ldm_original_nonseparate/100_steps/generated_image_521.png\n",
      "Image 522 saved at: result_ldm_original_nonseparate/100_steps/generated_image_522.png\n",
      "Image 523 saved at: result_ldm_original_nonseparate/100_steps/generated_image_523.png\n",
      "Image 524 saved at: result_ldm_original_nonseparate/100_steps/generated_image_524.png\n",
      "Image 525 saved at: result_ldm_original_nonseparate/100_steps/generated_image_525.png\n",
      "Image 526 saved at: result_ldm_original_nonseparate/100_steps/generated_image_526.png\n",
      "Image 527 saved at: result_ldm_original_nonseparate/100_steps/generated_image_527.png\n",
      "Image 528 saved at: result_ldm_original_nonseparate/100_steps/generated_image_528.png\n",
      "Image 529 saved at: result_ldm_original_nonseparate/100_steps/generated_image_529.png\n",
      "Image 530 saved at: result_ldm_original_nonseparate/100_steps/generated_image_530.png\n"
     ]
    },
    {
     "data": {
      "application/vnd.jupyter.widget-view+json": {
       "model_id": "7cdbdc126ad742a7807e40ae3822d9c4",
       "version_major": 2,
       "version_minor": 0
      },
      "text/plain": [
       "  0%|          | 0/100 [00:00<?, ?it/s]"
      ]
     },
     "metadata": {},
     "output_type": "display_data"
    },
    {
     "name": "stdout",
     "output_type": "stream",
     "text": [
      "Image 531 saved at: result_ldm_original_nonseparate/100_steps/generated_image_531.png\n",
      "Image 532 saved at: result_ldm_original_nonseparate/100_steps/generated_image_532.png\n",
      "Image 533 saved at: result_ldm_original_nonseparate/100_steps/generated_image_533.png\n",
      "Image 534 saved at: result_ldm_original_nonseparate/100_steps/generated_image_534.png\n",
      "Image 535 saved at: result_ldm_original_nonseparate/100_steps/generated_image_535.png\n",
      "Image 536 saved at: result_ldm_original_nonseparate/100_steps/generated_image_536.png\n",
      "Image 537 saved at: result_ldm_original_nonseparate/100_steps/generated_image_537.png\n",
      "Image 538 saved at: result_ldm_original_nonseparate/100_steps/generated_image_538.png\n",
      "Image 539 saved at: result_ldm_original_nonseparate/100_steps/generated_image_539.png\n",
      "Image 540 saved at: result_ldm_original_nonseparate/100_steps/generated_image_540.png\n"
     ]
    },
    {
     "data": {
      "application/vnd.jupyter.widget-view+json": {
       "model_id": "5f0eb4d98e844e658db3c2d73cf40cee",
       "version_major": 2,
       "version_minor": 0
      },
      "text/plain": [
       "  0%|          | 0/100 [00:00<?, ?it/s]"
      ]
     },
     "metadata": {},
     "output_type": "display_data"
    },
    {
     "name": "stdout",
     "output_type": "stream",
     "text": [
      "Image 541 saved at: result_ldm_original_nonseparate/100_steps/generated_image_541.png\n",
      "Image 542 saved at: result_ldm_original_nonseparate/100_steps/generated_image_542.png\n",
      "Image 543 saved at: result_ldm_original_nonseparate/100_steps/generated_image_543.png\n",
      "Image 544 saved at: result_ldm_original_nonseparate/100_steps/generated_image_544.png\n",
      "Image 545 saved at: result_ldm_original_nonseparate/100_steps/generated_image_545.png\n",
      "Image 546 saved at: result_ldm_original_nonseparate/100_steps/generated_image_546.png\n",
      "Image 547 saved at: result_ldm_original_nonseparate/100_steps/generated_image_547.png\n",
      "Image 548 saved at: result_ldm_original_nonseparate/100_steps/generated_image_548.png\n",
      "Image 549 saved at: result_ldm_original_nonseparate/100_steps/generated_image_549.png\n",
      "Image 550 saved at: result_ldm_original_nonseparate/100_steps/generated_image_550.png\n"
     ]
    },
    {
     "data": {
      "application/vnd.jupyter.widget-view+json": {
       "model_id": "de33a12419ce42c3aaba4f22b872463a",
       "version_major": 2,
       "version_minor": 0
      },
      "text/plain": [
       "  0%|          | 0/100 [00:00<?, ?it/s]"
      ]
     },
     "metadata": {},
     "output_type": "display_data"
    },
    {
     "name": "stdout",
     "output_type": "stream",
     "text": [
      "Image 551 saved at: result_ldm_original_nonseparate/100_steps/generated_image_551.png\n",
      "Image 552 saved at: result_ldm_original_nonseparate/100_steps/generated_image_552.png\n",
      "Image 553 saved at: result_ldm_original_nonseparate/100_steps/generated_image_553.png\n",
      "Image 554 saved at: result_ldm_original_nonseparate/100_steps/generated_image_554.png\n",
      "Image 555 saved at: result_ldm_original_nonseparate/100_steps/generated_image_555.png\n",
      "Image 556 saved at: result_ldm_original_nonseparate/100_steps/generated_image_556.png\n",
      "Image 557 saved at: result_ldm_original_nonseparate/100_steps/generated_image_557.png\n",
      "Image 558 saved at: result_ldm_original_nonseparate/100_steps/generated_image_558.png\n",
      "Image 559 saved at: result_ldm_original_nonseparate/100_steps/generated_image_559.png\n",
      "Image 560 saved at: result_ldm_original_nonseparate/100_steps/generated_image_560.png\n"
     ]
    },
    {
     "data": {
      "application/vnd.jupyter.widget-view+json": {
       "model_id": "2b36ac3ca1104d17b83a29b815e5b046",
       "version_major": 2,
       "version_minor": 0
      },
      "text/plain": [
       "  0%|          | 0/100 [00:00<?, ?it/s]"
      ]
     },
     "metadata": {},
     "output_type": "display_data"
    },
    {
     "name": "stdout",
     "output_type": "stream",
     "text": [
      "Image 561 saved at: result_ldm_original_nonseparate/100_steps/generated_image_561.png\n",
      "Image 562 saved at: result_ldm_original_nonseparate/100_steps/generated_image_562.png\n",
      "Image 563 saved at: result_ldm_original_nonseparate/100_steps/generated_image_563.png\n",
      "Image 564 saved at: result_ldm_original_nonseparate/100_steps/generated_image_564.png\n",
      "Image 565 saved at: result_ldm_original_nonseparate/100_steps/generated_image_565.png\n",
      "Image 566 saved at: result_ldm_original_nonseparate/100_steps/generated_image_566.png\n",
      "Image 567 saved at: result_ldm_original_nonseparate/100_steps/generated_image_567.png\n",
      "Image 568 saved at: result_ldm_original_nonseparate/100_steps/generated_image_568.png\n",
      "Image 569 saved at: result_ldm_original_nonseparate/100_steps/generated_image_569.png\n",
      "Image 570 saved at: result_ldm_original_nonseparate/100_steps/generated_image_570.png\n"
     ]
    },
    {
     "data": {
      "application/vnd.jupyter.widget-view+json": {
       "model_id": "734c805646dc4d6cba41103000ad9fbe",
       "version_major": 2,
       "version_minor": 0
      },
      "text/plain": [
       "  0%|          | 0/100 [00:00<?, ?it/s]"
      ]
     },
     "metadata": {},
     "output_type": "display_data"
    },
    {
     "name": "stdout",
     "output_type": "stream",
     "text": [
      "Image 571 saved at: result_ldm_original_nonseparate/100_steps/generated_image_571.png\n",
      "Image 572 saved at: result_ldm_original_nonseparate/100_steps/generated_image_572.png\n",
      "Image 573 saved at: result_ldm_original_nonseparate/100_steps/generated_image_573.png\n",
      "Image 574 saved at: result_ldm_original_nonseparate/100_steps/generated_image_574.png\n",
      "Image 575 saved at: result_ldm_original_nonseparate/100_steps/generated_image_575.png\n",
      "Image 576 saved at: result_ldm_original_nonseparate/100_steps/generated_image_576.png\n",
      "Image 577 saved at: result_ldm_original_nonseparate/100_steps/generated_image_577.png\n",
      "Image 578 saved at: result_ldm_original_nonseparate/100_steps/generated_image_578.png\n",
      "Image 579 saved at: result_ldm_original_nonseparate/100_steps/generated_image_579.png\n",
      "Image 580 saved at: result_ldm_original_nonseparate/100_steps/generated_image_580.png\n"
     ]
    },
    {
     "data": {
      "application/vnd.jupyter.widget-view+json": {
       "model_id": "53c2f66500d1407fa39eb211f1194c19",
       "version_major": 2,
       "version_minor": 0
      },
      "text/plain": [
       "  0%|          | 0/100 [00:00<?, ?it/s]"
      ]
     },
     "metadata": {},
     "output_type": "display_data"
    },
    {
     "name": "stdout",
     "output_type": "stream",
     "text": [
      "Image 581 saved at: result_ldm_original_nonseparate/100_steps/generated_image_581.png\n",
      "Image 582 saved at: result_ldm_original_nonseparate/100_steps/generated_image_582.png\n",
      "Image 583 saved at: result_ldm_original_nonseparate/100_steps/generated_image_583.png\n",
      "Image 584 saved at: result_ldm_original_nonseparate/100_steps/generated_image_584.png\n",
      "Image 585 saved at: result_ldm_original_nonseparate/100_steps/generated_image_585.png\n",
      "Image 586 saved at: result_ldm_original_nonseparate/100_steps/generated_image_586.png\n",
      "Image 587 saved at: result_ldm_original_nonseparate/100_steps/generated_image_587.png\n",
      "Image 588 saved at: result_ldm_original_nonseparate/100_steps/generated_image_588.png\n",
      "Image 589 saved at: result_ldm_original_nonseparate/100_steps/generated_image_589.png\n",
      "Image 590 saved at: result_ldm_original_nonseparate/100_steps/generated_image_590.png\n"
     ]
    },
    {
     "data": {
      "application/vnd.jupyter.widget-view+json": {
       "model_id": "9b7f251b46354c5fa7970d1a06e325cb",
       "version_major": 2,
       "version_minor": 0
      },
      "text/plain": [
       "  0%|          | 0/100 [00:00<?, ?it/s]"
      ]
     },
     "metadata": {},
     "output_type": "display_data"
    },
    {
     "name": "stdout",
     "output_type": "stream",
     "text": [
      "Image 591 saved at: result_ldm_original_nonseparate/100_steps/generated_image_591.png\n",
      "Image 592 saved at: result_ldm_original_nonseparate/100_steps/generated_image_592.png\n",
      "Image 593 saved at: result_ldm_original_nonseparate/100_steps/generated_image_593.png\n",
      "Image 594 saved at: result_ldm_original_nonseparate/100_steps/generated_image_594.png\n",
      "Image 595 saved at: result_ldm_original_nonseparate/100_steps/generated_image_595.png\n",
      "Image 596 saved at: result_ldm_original_nonseparate/100_steps/generated_image_596.png\n",
      "Image 597 saved at: result_ldm_original_nonseparate/100_steps/generated_image_597.png\n",
      "Image 598 saved at: result_ldm_original_nonseparate/100_steps/generated_image_598.png\n",
      "Image 599 saved at: result_ldm_original_nonseparate/100_steps/generated_image_599.png\n",
      "Image 600 saved at: result_ldm_original_nonseparate/100_steps/generated_image_600.png\n"
     ]
    },
    {
     "data": {
      "application/vnd.jupyter.widget-view+json": {
       "model_id": "9ac8a428b529473f940644f331bb387d",
       "version_major": 2,
       "version_minor": 0
      },
      "text/plain": [
       "  0%|          | 0/100 [00:00<?, ?it/s]"
      ]
     },
     "metadata": {},
     "output_type": "display_data"
    },
    {
     "name": "stdout",
     "output_type": "stream",
     "text": [
      "Image 601 saved at: result_ldm_original_nonseparate/100_steps/generated_image_601.png\n",
      "Image 602 saved at: result_ldm_original_nonseparate/100_steps/generated_image_602.png\n",
      "Image 603 saved at: result_ldm_original_nonseparate/100_steps/generated_image_603.png\n",
      "Image 604 saved at: result_ldm_original_nonseparate/100_steps/generated_image_604.png\n",
      "Image 605 saved at: result_ldm_original_nonseparate/100_steps/generated_image_605.png\n",
      "Image 606 saved at: result_ldm_original_nonseparate/100_steps/generated_image_606.png\n",
      "Image 607 saved at: result_ldm_original_nonseparate/100_steps/generated_image_607.png\n",
      "Image 608 saved at: result_ldm_original_nonseparate/100_steps/generated_image_608.png\n",
      "Image 609 saved at: result_ldm_original_nonseparate/100_steps/generated_image_609.png\n",
      "Image 610 saved at: result_ldm_original_nonseparate/100_steps/generated_image_610.png\n"
     ]
    },
    {
     "data": {
      "application/vnd.jupyter.widget-view+json": {
       "model_id": "182e6fef69ea4c0a8a61e6faf8459e95",
       "version_major": 2,
       "version_minor": 0
      },
      "text/plain": [
       "  0%|          | 0/100 [00:00<?, ?it/s]"
      ]
     },
     "metadata": {},
     "output_type": "display_data"
    },
    {
     "name": "stdout",
     "output_type": "stream",
     "text": [
      "Image 611 saved at: result_ldm_original_nonseparate/100_steps/generated_image_611.png\n",
      "Image 612 saved at: result_ldm_original_nonseparate/100_steps/generated_image_612.png\n",
      "Image 613 saved at: result_ldm_original_nonseparate/100_steps/generated_image_613.png\n",
      "Image 614 saved at: result_ldm_original_nonseparate/100_steps/generated_image_614.png\n",
      "Image 615 saved at: result_ldm_original_nonseparate/100_steps/generated_image_615.png\n",
      "Image 616 saved at: result_ldm_original_nonseparate/100_steps/generated_image_616.png\n",
      "Image 617 saved at: result_ldm_original_nonseparate/100_steps/generated_image_617.png\n",
      "Image 618 saved at: result_ldm_original_nonseparate/100_steps/generated_image_618.png\n",
      "Image 619 saved at: result_ldm_original_nonseparate/100_steps/generated_image_619.png\n",
      "Image 620 saved at: result_ldm_original_nonseparate/100_steps/generated_image_620.png\n"
     ]
    },
    {
     "data": {
      "application/vnd.jupyter.widget-view+json": {
       "model_id": "30a8e4119a0a4bbc827fa06fc34b3db7",
       "version_major": 2,
       "version_minor": 0
      },
      "text/plain": [
       "  0%|          | 0/100 [00:00<?, ?it/s]"
      ]
     },
     "metadata": {},
     "output_type": "display_data"
    },
    {
     "name": "stdout",
     "output_type": "stream",
     "text": [
      "Image 621 saved at: result_ldm_original_nonseparate/100_steps/generated_image_621.png\n",
      "Image 622 saved at: result_ldm_original_nonseparate/100_steps/generated_image_622.png\n",
      "Image 623 saved at: result_ldm_original_nonseparate/100_steps/generated_image_623.png\n",
      "Image 624 saved at: result_ldm_original_nonseparate/100_steps/generated_image_624.png\n",
      "Image 625 saved at: result_ldm_original_nonseparate/100_steps/generated_image_625.png\n",
      "Image 626 saved at: result_ldm_original_nonseparate/100_steps/generated_image_626.png\n",
      "Image 627 saved at: result_ldm_original_nonseparate/100_steps/generated_image_627.png\n",
      "Image 628 saved at: result_ldm_original_nonseparate/100_steps/generated_image_628.png\n",
      "Image 629 saved at: result_ldm_original_nonseparate/100_steps/generated_image_629.png\n",
      "Image 630 saved at: result_ldm_original_nonseparate/100_steps/generated_image_630.png\n"
     ]
    },
    {
     "data": {
      "application/vnd.jupyter.widget-view+json": {
       "model_id": "611272a17fc8466aa5cb616eeebdaa43",
       "version_major": 2,
       "version_minor": 0
      },
      "text/plain": [
       "  0%|          | 0/100 [00:00<?, ?it/s]"
      ]
     },
     "metadata": {},
     "output_type": "display_data"
    },
    {
     "name": "stdout",
     "output_type": "stream",
     "text": [
      "Image 631 saved at: result_ldm_original_nonseparate/100_steps/generated_image_631.png\n",
      "Image 632 saved at: result_ldm_original_nonseparate/100_steps/generated_image_632.png\n",
      "Image 633 saved at: result_ldm_original_nonseparate/100_steps/generated_image_633.png\n",
      "Image 634 saved at: result_ldm_original_nonseparate/100_steps/generated_image_634.png\n",
      "Image 635 saved at: result_ldm_original_nonseparate/100_steps/generated_image_635.png\n",
      "Image 636 saved at: result_ldm_original_nonseparate/100_steps/generated_image_636.png\n",
      "Image 637 saved at: result_ldm_original_nonseparate/100_steps/generated_image_637.png\n",
      "Image 638 saved at: result_ldm_original_nonseparate/100_steps/generated_image_638.png\n",
      "Image 639 saved at: result_ldm_original_nonseparate/100_steps/generated_image_639.png\n",
      "Image 640 saved at: result_ldm_original_nonseparate/100_steps/generated_image_640.png\n"
     ]
    },
    {
     "data": {
      "application/vnd.jupyter.widget-view+json": {
       "model_id": "3963d76f598e4eb08f236cdd34f6b727",
       "version_major": 2,
       "version_minor": 0
      },
      "text/plain": [
       "  0%|          | 0/100 [00:00<?, ?it/s]"
      ]
     },
     "metadata": {},
     "output_type": "display_data"
    },
    {
     "name": "stdout",
     "output_type": "stream",
     "text": [
      "Image 641 saved at: result_ldm_original_nonseparate/100_steps/generated_image_641.png\n",
      "Image 642 saved at: result_ldm_original_nonseparate/100_steps/generated_image_642.png\n",
      "Image 643 saved at: result_ldm_original_nonseparate/100_steps/generated_image_643.png\n",
      "Image 644 saved at: result_ldm_original_nonseparate/100_steps/generated_image_644.png\n",
      "Image 645 saved at: result_ldm_original_nonseparate/100_steps/generated_image_645.png\n",
      "Image 646 saved at: result_ldm_original_nonseparate/100_steps/generated_image_646.png\n",
      "Image 647 saved at: result_ldm_original_nonseparate/100_steps/generated_image_647.png\n",
      "Image 648 saved at: result_ldm_original_nonseparate/100_steps/generated_image_648.png\n",
      "Image 649 saved at: result_ldm_original_nonseparate/100_steps/generated_image_649.png\n",
      "Image 650 saved at: result_ldm_original_nonseparate/100_steps/generated_image_650.png\n"
     ]
    },
    {
     "data": {
      "application/vnd.jupyter.widget-view+json": {
       "model_id": "450b6cadced74e7e9d000493f9552861",
       "version_major": 2,
       "version_minor": 0
      },
      "text/plain": [
       "  0%|          | 0/100 [00:00<?, ?it/s]"
      ]
     },
     "metadata": {},
     "output_type": "display_data"
    },
    {
     "name": "stdout",
     "output_type": "stream",
     "text": [
      "Image 651 saved at: result_ldm_original_nonseparate/100_steps/generated_image_651.png\n",
      "Image 652 saved at: result_ldm_original_nonseparate/100_steps/generated_image_652.png\n",
      "Image 653 saved at: result_ldm_original_nonseparate/100_steps/generated_image_653.png\n",
      "Image 654 saved at: result_ldm_original_nonseparate/100_steps/generated_image_654.png\n",
      "Image 655 saved at: result_ldm_original_nonseparate/100_steps/generated_image_655.png\n",
      "Image 656 saved at: result_ldm_original_nonseparate/100_steps/generated_image_656.png\n",
      "Image 657 saved at: result_ldm_original_nonseparate/100_steps/generated_image_657.png\n",
      "Image 658 saved at: result_ldm_original_nonseparate/100_steps/generated_image_658.png\n",
      "Image 659 saved at: result_ldm_original_nonseparate/100_steps/generated_image_659.png\n",
      "Image 660 saved at: result_ldm_original_nonseparate/100_steps/generated_image_660.png\n"
     ]
    },
    {
     "data": {
      "application/vnd.jupyter.widget-view+json": {
       "model_id": "f702a55770b44e3aa215b8a0c9155031",
       "version_major": 2,
       "version_minor": 0
      },
      "text/plain": [
       "  0%|          | 0/100 [00:00<?, ?it/s]"
      ]
     },
     "metadata": {},
     "output_type": "display_data"
    },
    {
     "name": "stdout",
     "output_type": "stream",
     "text": [
      "Image 661 saved at: result_ldm_original_nonseparate/100_steps/generated_image_661.png\n",
      "Image 662 saved at: result_ldm_original_nonseparate/100_steps/generated_image_662.png\n",
      "Image 663 saved at: result_ldm_original_nonseparate/100_steps/generated_image_663.png\n",
      "Image 664 saved at: result_ldm_original_nonseparate/100_steps/generated_image_664.png\n",
      "Image 665 saved at: result_ldm_original_nonseparate/100_steps/generated_image_665.png\n",
      "Image 666 saved at: result_ldm_original_nonseparate/100_steps/generated_image_666.png\n",
      "Image 667 saved at: result_ldm_original_nonseparate/100_steps/generated_image_667.png\n",
      "Image 668 saved at: result_ldm_original_nonseparate/100_steps/generated_image_668.png\n",
      "Image 669 saved at: result_ldm_original_nonseparate/100_steps/generated_image_669.png\n",
      "Image 670 saved at: result_ldm_original_nonseparate/100_steps/generated_image_670.png\n"
     ]
    },
    {
     "data": {
      "application/vnd.jupyter.widget-view+json": {
       "model_id": "3b56c2a8edb346eca8355e5b4eb4f22b",
       "version_major": 2,
       "version_minor": 0
      },
      "text/plain": [
       "  0%|          | 0/100 [00:00<?, ?it/s]"
      ]
     },
     "metadata": {},
     "output_type": "display_data"
    },
    {
     "name": "stdout",
     "output_type": "stream",
     "text": [
      "Image 671 saved at: result_ldm_original_nonseparate/100_steps/generated_image_671.png\n",
      "Image 672 saved at: result_ldm_original_nonseparate/100_steps/generated_image_672.png\n",
      "Image 673 saved at: result_ldm_original_nonseparate/100_steps/generated_image_673.png\n",
      "Image 674 saved at: result_ldm_original_nonseparate/100_steps/generated_image_674.png\n",
      "Image 675 saved at: result_ldm_original_nonseparate/100_steps/generated_image_675.png\n",
      "Image 676 saved at: result_ldm_original_nonseparate/100_steps/generated_image_676.png\n",
      "Image 677 saved at: result_ldm_original_nonseparate/100_steps/generated_image_677.png\n",
      "Image 678 saved at: result_ldm_original_nonseparate/100_steps/generated_image_678.png\n",
      "Image 679 saved at: result_ldm_original_nonseparate/100_steps/generated_image_679.png\n",
      "Image 680 saved at: result_ldm_original_nonseparate/100_steps/generated_image_680.png\n"
     ]
    },
    {
     "data": {
      "application/vnd.jupyter.widget-view+json": {
       "model_id": "9c217a452fa347aa827e0d45cb1a32ec",
       "version_major": 2,
       "version_minor": 0
      },
      "text/plain": [
       "  0%|          | 0/100 [00:00<?, ?it/s]"
      ]
     },
     "metadata": {},
     "output_type": "display_data"
    },
    {
     "name": "stdout",
     "output_type": "stream",
     "text": [
      "Image 681 saved at: result_ldm_original_nonseparate/100_steps/generated_image_681.png\n",
      "Image 682 saved at: result_ldm_original_nonseparate/100_steps/generated_image_682.png\n",
      "Image 683 saved at: result_ldm_original_nonseparate/100_steps/generated_image_683.png\n",
      "Image 684 saved at: result_ldm_original_nonseparate/100_steps/generated_image_684.png\n",
      "Image 685 saved at: result_ldm_original_nonseparate/100_steps/generated_image_685.png\n",
      "Image 686 saved at: result_ldm_original_nonseparate/100_steps/generated_image_686.png\n",
      "Image 687 saved at: result_ldm_original_nonseparate/100_steps/generated_image_687.png\n",
      "Image 688 saved at: result_ldm_original_nonseparate/100_steps/generated_image_688.png\n",
      "Image 689 saved at: result_ldm_original_nonseparate/100_steps/generated_image_689.png\n",
      "Image 690 saved at: result_ldm_original_nonseparate/100_steps/generated_image_690.png\n"
     ]
    },
    {
     "data": {
      "application/vnd.jupyter.widget-view+json": {
       "model_id": "5fa69ccd98c34b41b1ad143ce274cacb",
       "version_major": 2,
       "version_minor": 0
      },
      "text/plain": [
       "  0%|          | 0/100 [00:00<?, ?it/s]"
      ]
     },
     "metadata": {},
     "output_type": "display_data"
    },
    {
     "name": "stdout",
     "output_type": "stream",
     "text": [
      "Image 691 saved at: result_ldm_original_nonseparate/100_steps/generated_image_691.png\n",
      "Image 692 saved at: result_ldm_original_nonseparate/100_steps/generated_image_692.png\n",
      "Image 693 saved at: result_ldm_original_nonseparate/100_steps/generated_image_693.png\n",
      "Image 694 saved at: result_ldm_original_nonseparate/100_steps/generated_image_694.png\n",
      "Image 695 saved at: result_ldm_original_nonseparate/100_steps/generated_image_695.png\n",
      "Image 696 saved at: result_ldm_original_nonseparate/100_steps/generated_image_696.png\n",
      "Image 697 saved at: result_ldm_original_nonseparate/100_steps/generated_image_697.png\n",
      "Image 698 saved at: result_ldm_original_nonseparate/100_steps/generated_image_698.png\n",
      "Image 699 saved at: result_ldm_original_nonseparate/100_steps/generated_image_699.png\n",
      "Image 700 saved at: result_ldm_original_nonseparate/100_steps/generated_image_700.png\n"
     ]
    },
    {
     "data": {
      "application/vnd.jupyter.widget-view+json": {
       "model_id": "25d5aa49a85948a4a436f8254ff3d0de",
       "version_major": 2,
       "version_minor": 0
      },
      "text/plain": [
       "  0%|          | 0/100 [00:00<?, ?it/s]"
      ]
     },
     "metadata": {},
     "output_type": "display_data"
    },
    {
     "name": "stdout",
     "output_type": "stream",
     "text": [
      "Image 701 saved at: result_ldm_original_nonseparate/100_steps/generated_image_701.png\n",
      "Image 702 saved at: result_ldm_original_nonseparate/100_steps/generated_image_702.png\n",
      "Image 703 saved at: result_ldm_original_nonseparate/100_steps/generated_image_703.png\n",
      "Image 704 saved at: result_ldm_original_nonseparate/100_steps/generated_image_704.png\n",
      "Image 705 saved at: result_ldm_original_nonseparate/100_steps/generated_image_705.png\n",
      "Image 706 saved at: result_ldm_original_nonseparate/100_steps/generated_image_706.png\n",
      "Image 707 saved at: result_ldm_original_nonseparate/100_steps/generated_image_707.png\n",
      "Image 708 saved at: result_ldm_original_nonseparate/100_steps/generated_image_708.png\n",
      "Image 709 saved at: result_ldm_original_nonseparate/100_steps/generated_image_709.png\n",
      "Image 710 saved at: result_ldm_original_nonseparate/100_steps/generated_image_710.png\n"
     ]
    },
    {
     "data": {
      "application/vnd.jupyter.widget-view+json": {
       "model_id": "042dcdb217f14032b1e1025ab9cf6baa",
       "version_major": 2,
       "version_minor": 0
      },
      "text/plain": [
       "  0%|          | 0/100 [00:00<?, ?it/s]"
      ]
     },
     "metadata": {},
     "output_type": "display_data"
    },
    {
     "name": "stdout",
     "output_type": "stream",
     "text": [
      "Image 711 saved at: result_ldm_original_nonseparate/100_steps/generated_image_711.png\n",
      "Image 712 saved at: result_ldm_original_nonseparate/100_steps/generated_image_712.png\n",
      "Image 713 saved at: result_ldm_original_nonseparate/100_steps/generated_image_713.png\n",
      "Image 714 saved at: result_ldm_original_nonseparate/100_steps/generated_image_714.png\n",
      "Image 715 saved at: result_ldm_original_nonseparate/100_steps/generated_image_715.png\n",
      "Image 716 saved at: result_ldm_original_nonseparate/100_steps/generated_image_716.png\n",
      "Image 717 saved at: result_ldm_original_nonseparate/100_steps/generated_image_717.png\n",
      "Image 718 saved at: result_ldm_original_nonseparate/100_steps/generated_image_718.png\n",
      "Image 719 saved at: result_ldm_original_nonseparate/100_steps/generated_image_719.png\n",
      "Image 720 saved at: result_ldm_original_nonseparate/100_steps/generated_image_720.png\n"
     ]
    },
    {
     "data": {
      "application/vnd.jupyter.widget-view+json": {
       "model_id": "b95f3cfbfdf549499c6d1f30cfb63e5a",
       "version_major": 2,
       "version_minor": 0
      },
      "text/plain": [
       "  0%|          | 0/100 [00:00<?, ?it/s]"
      ]
     },
     "metadata": {},
     "output_type": "display_data"
    },
    {
     "name": "stdout",
     "output_type": "stream",
     "text": [
      "Image 721 saved at: result_ldm_original_nonseparate/100_steps/generated_image_721.png\n",
      "Image 722 saved at: result_ldm_original_nonseparate/100_steps/generated_image_722.png\n",
      "Image 723 saved at: result_ldm_original_nonseparate/100_steps/generated_image_723.png\n",
      "Image 724 saved at: result_ldm_original_nonseparate/100_steps/generated_image_724.png\n",
      "Image 725 saved at: result_ldm_original_nonseparate/100_steps/generated_image_725.png\n",
      "Image 726 saved at: result_ldm_original_nonseparate/100_steps/generated_image_726.png\n",
      "Image 727 saved at: result_ldm_original_nonseparate/100_steps/generated_image_727.png\n",
      "Image 728 saved at: result_ldm_original_nonseparate/100_steps/generated_image_728.png\n",
      "Image 729 saved at: result_ldm_original_nonseparate/100_steps/generated_image_729.png\n",
      "Image 730 saved at: result_ldm_original_nonseparate/100_steps/generated_image_730.png\n"
     ]
    },
    {
     "data": {
      "application/vnd.jupyter.widget-view+json": {
       "model_id": "c0f9527214294b969c47c69718c56897",
       "version_major": 2,
       "version_minor": 0
      },
      "text/plain": [
       "  0%|          | 0/100 [00:00<?, ?it/s]"
      ]
     },
     "metadata": {},
     "output_type": "display_data"
    },
    {
     "name": "stdout",
     "output_type": "stream",
     "text": [
      "Image 731 saved at: result_ldm_original_nonseparate/100_steps/generated_image_731.png\n",
      "Image 732 saved at: result_ldm_original_nonseparate/100_steps/generated_image_732.png\n",
      "Image 733 saved at: result_ldm_original_nonseparate/100_steps/generated_image_733.png\n",
      "Image 734 saved at: result_ldm_original_nonseparate/100_steps/generated_image_734.png\n",
      "Image 735 saved at: result_ldm_original_nonseparate/100_steps/generated_image_735.png\n",
      "Image 736 saved at: result_ldm_original_nonseparate/100_steps/generated_image_736.png\n",
      "Image 737 saved at: result_ldm_original_nonseparate/100_steps/generated_image_737.png\n",
      "Image 738 saved at: result_ldm_original_nonseparate/100_steps/generated_image_738.png\n",
      "Image 739 saved at: result_ldm_original_nonseparate/100_steps/generated_image_739.png\n",
      "Image 740 saved at: result_ldm_original_nonseparate/100_steps/generated_image_740.png\n"
     ]
    },
    {
     "data": {
      "application/vnd.jupyter.widget-view+json": {
       "model_id": "9b1acb305da94dd7a74804b30785e45e",
       "version_major": 2,
       "version_minor": 0
      },
      "text/plain": [
       "  0%|          | 0/100 [00:00<?, ?it/s]"
      ]
     },
     "metadata": {},
     "output_type": "display_data"
    },
    {
     "name": "stdout",
     "output_type": "stream",
     "text": [
      "Image 741 saved at: result_ldm_original_nonseparate/100_steps/generated_image_741.png\n",
      "Image 742 saved at: result_ldm_original_nonseparate/100_steps/generated_image_742.png\n",
      "Image 743 saved at: result_ldm_original_nonseparate/100_steps/generated_image_743.png\n",
      "Image 744 saved at: result_ldm_original_nonseparate/100_steps/generated_image_744.png\n",
      "Image 745 saved at: result_ldm_original_nonseparate/100_steps/generated_image_745.png\n",
      "Image 746 saved at: result_ldm_original_nonseparate/100_steps/generated_image_746.png\n",
      "Image 747 saved at: result_ldm_original_nonseparate/100_steps/generated_image_747.png\n",
      "Image 748 saved at: result_ldm_original_nonseparate/100_steps/generated_image_748.png\n",
      "Image 749 saved at: result_ldm_original_nonseparate/100_steps/generated_image_749.png\n",
      "Image 750 saved at: result_ldm_original_nonseparate/100_steps/generated_image_750.png\n"
     ]
    },
    {
     "data": {
      "application/vnd.jupyter.widget-view+json": {
       "model_id": "e94224021d1b4194805650434b4db03e",
       "version_major": 2,
       "version_minor": 0
      },
      "text/plain": [
       "  0%|          | 0/100 [00:00<?, ?it/s]"
      ]
     },
     "metadata": {},
     "output_type": "display_data"
    },
    {
     "name": "stdout",
     "output_type": "stream",
     "text": [
      "Image 751 saved at: result_ldm_original_nonseparate/100_steps/generated_image_751.png\n",
      "Image 752 saved at: result_ldm_original_nonseparate/100_steps/generated_image_752.png\n",
      "Image 753 saved at: result_ldm_original_nonseparate/100_steps/generated_image_753.png\n",
      "Image 754 saved at: result_ldm_original_nonseparate/100_steps/generated_image_754.png\n",
      "Image 755 saved at: result_ldm_original_nonseparate/100_steps/generated_image_755.png\n",
      "Image 756 saved at: result_ldm_original_nonseparate/100_steps/generated_image_756.png\n",
      "Image 757 saved at: result_ldm_original_nonseparate/100_steps/generated_image_757.png\n",
      "Image 758 saved at: result_ldm_original_nonseparate/100_steps/generated_image_758.png\n",
      "Image 759 saved at: result_ldm_original_nonseparate/100_steps/generated_image_759.png\n",
      "Image 760 saved at: result_ldm_original_nonseparate/100_steps/generated_image_760.png\n"
     ]
    },
    {
     "data": {
      "application/vnd.jupyter.widget-view+json": {
       "model_id": "4151f170a8ea477a905d24458cd73781",
       "version_major": 2,
       "version_minor": 0
      },
      "text/plain": [
       "  0%|          | 0/100 [00:00<?, ?it/s]"
      ]
     },
     "metadata": {},
     "output_type": "display_data"
    },
    {
     "name": "stdout",
     "output_type": "stream",
     "text": [
      "Image 761 saved at: result_ldm_original_nonseparate/100_steps/generated_image_761.png\n",
      "Image 762 saved at: result_ldm_original_nonseparate/100_steps/generated_image_762.png\n",
      "Image 763 saved at: result_ldm_original_nonseparate/100_steps/generated_image_763.png\n",
      "Image 764 saved at: result_ldm_original_nonseparate/100_steps/generated_image_764.png\n",
      "Image 765 saved at: result_ldm_original_nonseparate/100_steps/generated_image_765.png\n",
      "Image 766 saved at: result_ldm_original_nonseparate/100_steps/generated_image_766.png\n",
      "Image 767 saved at: result_ldm_original_nonseparate/100_steps/generated_image_767.png\n",
      "Image 768 saved at: result_ldm_original_nonseparate/100_steps/generated_image_768.png\n",
      "Image 769 saved at: result_ldm_original_nonseparate/100_steps/generated_image_769.png\n",
      "Image 770 saved at: result_ldm_original_nonseparate/100_steps/generated_image_770.png\n"
     ]
    },
    {
     "data": {
      "application/vnd.jupyter.widget-view+json": {
       "model_id": "9086050db86e4403ad09513208cc92db",
       "version_major": 2,
       "version_minor": 0
      },
      "text/plain": [
       "  0%|          | 0/100 [00:00<?, ?it/s]"
      ]
     },
     "metadata": {},
     "output_type": "display_data"
    },
    {
     "name": "stdout",
     "output_type": "stream",
     "text": [
      "Image 771 saved at: result_ldm_original_nonseparate/100_steps/generated_image_771.png\n",
      "Image 772 saved at: result_ldm_original_nonseparate/100_steps/generated_image_772.png\n",
      "Image 773 saved at: result_ldm_original_nonseparate/100_steps/generated_image_773.png\n",
      "Image 774 saved at: result_ldm_original_nonseparate/100_steps/generated_image_774.png\n",
      "Image 775 saved at: result_ldm_original_nonseparate/100_steps/generated_image_775.png\n",
      "Image 776 saved at: result_ldm_original_nonseparate/100_steps/generated_image_776.png\n",
      "Image 777 saved at: result_ldm_original_nonseparate/100_steps/generated_image_777.png\n",
      "Image 778 saved at: result_ldm_original_nonseparate/100_steps/generated_image_778.png\n",
      "Image 779 saved at: result_ldm_original_nonseparate/100_steps/generated_image_779.png\n",
      "Image 780 saved at: result_ldm_original_nonseparate/100_steps/generated_image_780.png\n"
     ]
    },
    {
     "data": {
      "application/vnd.jupyter.widget-view+json": {
       "model_id": "52243e945a414f0190f38aee7fb07121",
       "version_major": 2,
       "version_minor": 0
      },
      "text/plain": [
       "  0%|          | 0/100 [00:00<?, ?it/s]"
      ]
     },
     "metadata": {},
     "output_type": "display_data"
    },
    {
     "name": "stdout",
     "output_type": "stream",
     "text": [
      "Image 781 saved at: result_ldm_original_nonseparate/100_steps/generated_image_781.png\n",
      "Image 782 saved at: result_ldm_original_nonseparate/100_steps/generated_image_782.png\n",
      "Image 783 saved at: result_ldm_original_nonseparate/100_steps/generated_image_783.png\n",
      "Image 784 saved at: result_ldm_original_nonseparate/100_steps/generated_image_784.png\n",
      "Image 785 saved at: result_ldm_original_nonseparate/100_steps/generated_image_785.png\n",
      "Image 786 saved at: result_ldm_original_nonseparate/100_steps/generated_image_786.png\n",
      "Image 787 saved at: result_ldm_original_nonseparate/100_steps/generated_image_787.png\n",
      "Image 788 saved at: result_ldm_original_nonseparate/100_steps/generated_image_788.png\n",
      "Image 789 saved at: result_ldm_original_nonseparate/100_steps/generated_image_789.png\n",
      "Image 790 saved at: result_ldm_original_nonseparate/100_steps/generated_image_790.png\n"
     ]
    },
    {
     "data": {
      "application/vnd.jupyter.widget-view+json": {
       "model_id": "ea3a4cfd594049df8e2469e46f285677",
       "version_major": 2,
       "version_minor": 0
      },
      "text/plain": [
       "  0%|          | 0/100 [00:00<?, ?it/s]"
      ]
     },
     "metadata": {},
     "output_type": "display_data"
    },
    {
     "name": "stdout",
     "output_type": "stream",
     "text": [
      "Image 791 saved at: result_ldm_original_nonseparate/100_steps/generated_image_791.png\n",
      "Image 792 saved at: result_ldm_original_nonseparate/100_steps/generated_image_792.png\n",
      "Image 793 saved at: result_ldm_original_nonseparate/100_steps/generated_image_793.png\n",
      "Image 794 saved at: result_ldm_original_nonseparate/100_steps/generated_image_794.png\n",
      "Image 795 saved at: result_ldm_original_nonseparate/100_steps/generated_image_795.png\n",
      "Image 796 saved at: result_ldm_original_nonseparate/100_steps/generated_image_796.png\n",
      "Image 797 saved at: result_ldm_original_nonseparate/100_steps/generated_image_797.png\n",
      "Image 798 saved at: result_ldm_original_nonseparate/100_steps/generated_image_798.png\n",
      "Image 799 saved at: result_ldm_original_nonseparate/100_steps/generated_image_799.png\n",
      "Image 800 saved at: result_ldm_original_nonseparate/100_steps/generated_image_800.png\n"
     ]
    },
    {
     "data": {
      "application/vnd.jupyter.widget-view+json": {
       "model_id": "819dd07ee8f745948db07e74436d357e",
       "version_major": 2,
       "version_minor": 0
      },
      "text/plain": [
       "  0%|          | 0/100 [00:00<?, ?it/s]"
      ]
     },
     "metadata": {},
     "output_type": "display_data"
    },
    {
     "name": "stdout",
     "output_type": "stream",
     "text": [
      "Image 801 saved at: result_ldm_original_nonseparate/100_steps/generated_image_801.png\n",
      "Image 802 saved at: result_ldm_original_nonseparate/100_steps/generated_image_802.png\n",
      "Image 803 saved at: result_ldm_original_nonseparate/100_steps/generated_image_803.png\n",
      "Image 804 saved at: result_ldm_original_nonseparate/100_steps/generated_image_804.png\n",
      "Image 805 saved at: result_ldm_original_nonseparate/100_steps/generated_image_805.png\n",
      "Image 806 saved at: result_ldm_original_nonseparate/100_steps/generated_image_806.png\n",
      "Image 807 saved at: result_ldm_original_nonseparate/100_steps/generated_image_807.png\n",
      "Image 808 saved at: result_ldm_original_nonseparate/100_steps/generated_image_808.png\n",
      "Image 809 saved at: result_ldm_original_nonseparate/100_steps/generated_image_809.png\n",
      "Image 810 saved at: result_ldm_original_nonseparate/100_steps/generated_image_810.png\n"
     ]
    },
    {
     "data": {
      "application/vnd.jupyter.widget-view+json": {
       "model_id": "b7d8c9bd94d746588b32b6898f0b2801",
       "version_major": 2,
       "version_minor": 0
      },
      "text/plain": [
       "  0%|          | 0/100 [00:00<?, ?it/s]"
      ]
     },
     "metadata": {},
     "output_type": "display_data"
    },
    {
     "name": "stdout",
     "output_type": "stream",
     "text": [
      "Image 811 saved at: result_ldm_original_nonseparate/100_steps/generated_image_811.png\n",
      "Image 812 saved at: result_ldm_original_nonseparate/100_steps/generated_image_812.png\n",
      "Image 813 saved at: result_ldm_original_nonseparate/100_steps/generated_image_813.png\n",
      "Image 814 saved at: result_ldm_original_nonseparate/100_steps/generated_image_814.png\n",
      "Image 815 saved at: result_ldm_original_nonseparate/100_steps/generated_image_815.png\n",
      "Image 816 saved at: result_ldm_original_nonseparate/100_steps/generated_image_816.png\n",
      "Image 817 saved at: result_ldm_original_nonseparate/100_steps/generated_image_817.png\n",
      "Image 818 saved at: result_ldm_original_nonseparate/100_steps/generated_image_818.png\n",
      "Image 819 saved at: result_ldm_original_nonseparate/100_steps/generated_image_819.png\n",
      "Image 820 saved at: result_ldm_original_nonseparate/100_steps/generated_image_820.png\n"
     ]
    },
    {
     "data": {
      "application/vnd.jupyter.widget-view+json": {
       "model_id": "7ac7c107f188493a841b07dde798b133",
       "version_major": 2,
       "version_minor": 0
      },
      "text/plain": [
       "  0%|          | 0/100 [00:00<?, ?it/s]"
      ]
     },
     "metadata": {},
     "output_type": "display_data"
    },
    {
     "name": "stdout",
     "output_type": "stream",
     "text": [
      "Image 821 saved at: result_ldm_original_nonseparate/100_steps/generated_image_821.png\n",
      "Image 822 saved at: result_ldm_original_nonseparate/100_steps/generated_image_822.png\n",
      "Image 823 saved at: result_ldm_original_nonseparate/100_steps/generated_image_823.png\n",
      "Image 824 saved at: result_ldm_original_nonseparate/100_steps/generated_image_824.png\n",
      "Image 825 saved at: result_ldm_original_nonseparate/100_steps/generated_image_825.png\n",
      "Image 826 saved at: result_ldm_original_nonseparate/100_steps/generated_image_826.png\n",
      "Image 827 saved at: result_ldm_original_nonseparate/100_steps/generated_image_827.png\n",
      "Image 828 saved at: result_ldm_original_nonseparate/100_steps/generated_image_828.png\n",
      "Image 829 saved at: result_ldm_original_nonseparate/100_steps/generated_image_829.png\n",
      "Image 830 saved at: result_ldm_original_nonseparate/100_steps/generated_image_830.png\n"
     ]
    },
    {
     "data": {
      "application/vnd.jupyter.widget-view+json": {
       "model_id": "f0638aae8fab46faab2bfaa2b2445732",
       "version_major": 2,
       "version_minor": 0
      },
      "text/plain": [
       "  0%|          | 0/100 [00:00<?, ?it/s]"
      ]
     },
     "metadata": {},
     "output_type": "display_data"
    },
    {
     "name": "stdout",
     "output_type": "stream",
     "text": [
      "Image 831 saved at: result_ldm_original_nonseparate/100_steps/generated_image_831.png\n",
      "Image 832 saved at: result_ldm_original_nonseparate/100_steps/generated_image_832.png\n",
      "Image 833 saved at: result_ldm_original_nonseparate/100_steps/generated_image_833.png\n",
      "Image 834 saved at: result_ldm_original_nonseparate/100_steps/generated_image_834.png\n",
      "Image 835 saved at: result_ldm_original_nonseparate/100_steps/generated_image_835.png\n",
      "Image 836 saved at: result_ldm_original_nonseparate/100_steps/generated_image_836.png\n",
      "Image 837 saved at: result_ldm_original_nonseparate/100_steps/generated_image_837.png\n",
      "Image 838 saved at: result_ldm_original_nonseparate/100_steps/generated_image_838.png\n",
      "Image 839 saved at: result_ldm_original_nonseparate/100_steps/generated_image_839.png\n",
      "Image 840 saved at: result_ldm_original_nonseparate/100_steps/generated_image_840.png\n"
     ]
    },
    {
     "data": {
      "application/vnd.jupyter.widget-view+json": {
       "model_id": "7086bf51ca2c4e5bb7146fa91aef917c",
       "version_major": 2,
       "version_minor": 0
      },
      "text/plain": [
       "  0%|          | 0/100 [00:00<?, ?it/s]"
      ]
     },
     "metadata": {},
     "output_type": "display_data"
    },
    {
     "name": "stdout",
     "output_type": "stream",
     "text": [
      "Image 841 saved at: result_ldm_original_nonseparate/100_steps/generated_image_841.png\n",
      "Image 842 saved at: result_ldm_original_nonseparate/100_steps/generated_image_842.png\n",
      "Image 843 saved at: result_ldm_original_nonseparate/100_steps/generated_image_843.png\n",
      "Image 844 saved at: result_ldm_original_nonseparate/100_steps/generated_image_844.png\n",
      "Image 845 saved at: result_ldm_original_nonseparate/100_steps/generated_image_845.png\n",
      "Image 846 saved at: result_ldm_original_nonseparate/100_steps/generated_image_846.png\n",
      "Image 847 saved at: result_ldm_original_nonseparate/100_steps/generated_image_847.png\n",
      "Image 848 saved at: result_ldm_original_nonseparate/100_steps/generated_image_848.png\n",
      "Image 849 saved at: result_ldm_original_nonseparate/100_steps/generated_image_849.png\n",
      "Image 850 saved at: result_ldm_original_nonseparate/100_steps/generated_image_850.png\n"
     ]
    },
    {
     "data": {
      "application/vnd.jupyter.widget-view+json": {
       "model_id": "8f24237fabf549f9b1ebbec366c06811",
       "version_major": 2,
       "version_minor": 0
      },
      "text/plain": [
       "  0%|          | 0/100 [00:00<?, ?it/s]"
      ]
     },
     "metadata": {},
     "output_type": "display_data"
    },
    {
     "name": "stdout",
     "output_type": "stream",
     "text": [
      "Image 851 saved at: result_ldm_original_nonseparate/100_steps/generated_image_851.png\n",
      "Image 852 saved at: result_ldm_original_nonseparate/100_steps/generated_image_852.png\n",
      "Image 853 saved at: result_ldm_original_nonseparate/100_steps/generated_image_853.png\n",
      "Image 854 saved at: result_ldm_original_nonseparate/100_steps/generated_image_854.png\n",
      "Image 855 saved at: result_ldm_original_nonseparate/100_steps/generated_image_855.png\n",
      "Image 856 saved at: result_ldm_original_nonseparate/100_steps/generated_image_856.png\n",
      "Image 857 saved at: result_ldm_original_nonseparate/100_steps/generated_image_857.png\n",
      "Image 858 saved at: result_ldm_original_nonseparate/100_steps/generated_image_858.png\n",
      "Image 859 saved at: result_ldm_original_nonseparate/100_steps/generated_image_859.png\n",
      "Image 860 saved at: result_ldm_original_nonseparate/100_steps/generated_image_860.png\n"
     ]
    },
    {
     "data": {
      "application/vnd.jupyter.widget-view+json": {
       "model_id": "5bd4842589aa4aff97914bbc1c8c52f0",
       "version_major": 2,
       "version_minor": 0
      },
      "text/plain": [
       "  0%|          | 0/100 [00:00<?, ?it/s]"
      ]
     },
     "metadata": {},
     "output_type": "display_data"
    },
    {
     "name": "stdout",
     "output_type": "stream",
     "text": [
      "Image 861 saved at: result_ldm_original_nonseparate/100_steps/generated_image_861.png\n",
      "Image 862 saved at: result_ldm_original_nonseparate/100_steps/generated_image_862.png\n",
      "Image 863 saved at: result_ldm_original_nonseparate/100_steps/generated_image_863.png\n",
      "Image 864 saved at: result_ldm_original_nonseparate/100_steps/generated_image_864.png\n",
      "Image 865 saved at: result_ldm_original_nonseparate/100_steps/generated_image_865.png\n",
      "Image 866 saved at: result_ldm_original_nonseparate/100_steps/generated_image_866.png\n",
      "Image 867 saved at: result_ldm_original_nonseparate/100_steps/generated_image_867.png\n",
      "Image 868 saved at: result_ldm_original_nonseparate/100_steps/generated_image_868.png\n",
      "Image 869 saved at: result_ldm_original_nonseparate/100_steps/generated_image_869.png\n",
      "Image 870 saved at: result_ldm_original_nonseparate/100_steps/generated_image_870.png\n"
     ]
    },
    {
     "data": {
      "application/vnd.jupyter.widget-view+json": {
       "model_id": "4b19ecf8eb0f40ab95c078c0b5803ba4",
       "version_major": 2,
       "version_minor": 0
      },
      "text/plain": [
       "  0%|          | 0/100 [00:00<?, ?it/s]"
      ]
     },
     "metadata": {},
     "output_type": "display_data"
    },
    {
     "name": "stdout",
     "output_type": "stream",
     "text": [
      "Image 871 saved at: result_ldm_original_nonseparate/100_steps/generated_image_871.png\n",
      "Image 872 saved at: result_ldm_original_nonseparate/100_steps/generated_image_872.png\n",
      "Image 873 saved at: result_ldm_original_nonseparate/100_steps/generated_image_873.png\n",
      "Image 874 saved at: result_ldm_original_nonseparate/100_steps/generated_image_874.png\n",
      "Image 875 saved at: result_ldm_original_nonseparate/100_steps/generated_image_875.png\n",
      "Image 876 saved at: result_ldm_original_nonseparate/100_steps/generated_image_876.png\n",
      "Image 877 saved at: result_ldm_original_nonseparate/100_steps/generated_image_877.png\n",
      "Image 878 saved at: result_ldm_original_nonseparate/100_steps/generated_image_878.png\n",
      "Image 879 saved at: result_ldm_original_nonseparate/100_steps/generated_image_879.png\n",
      "Image 880 saved at: result_ldm_original_nonseparate/100_steps/generated_image_880.png\n"
     ]
    },
    {
     "data": {
      "application/vnd.jupyter.widget-view+json": {
       "model_id": "402305e4aef2415db647762773347acc",
       "version_major": 2,
       "version_minor": 0
      },
      "text/plain": [
       "  0%|          | 0/100 [00:00<?, ?it/s]"
      ]
     },
     "metadata": {},
     "output_type": "display_data"
    },
    {
     "name": "stdout",
     "output_type": "stream",
     "text": [
      "Image 881 saved at: result_ldm_original_nonseparate/100_steps/generated_image_881.png\n",
      "Image 882 saved at: result_ldm_original_nonseparate/100_steps/generated_image_882.png\n",
      "Image 883 saved at: result_ldm_original_nonseparate/100_steps/generated_image_883.png\n",
      "Image 884 saved at: result_ldm_original_nonseparate/100_steps/generated_image_884.png\n",
      "Image 885 saved at: result_ldm_original_nonseparate/100_steps/generated_image_885.png\n",
      "Image 886 saved at: result_ldm_original_nonseparate/100_steps/generated_image_886.png\n",
      "Image 887 saved at: result_ldm_original_nonseparate/100_steps/generated_image_887.png\n",
      "Image 888 saved at: result_ldm_original_nonseparate/100_steps/generated_image_888.png\n",
      "Image 889 saved at: result_ldm_original_nonseparate/100_steps/generated_image_889.png\n",
      "Image 890 saved at: result_ldm_original_nonseparate/100_steps/generated_image_890.png\n"
     ]
    },
    {
     "data": {
      "application/vnd.jupyter.widget-view+json": {
       "model_id": "efd398fc0422449485e2a22b1c954770",
       "version_major": 2,
       "version_minor": 0
      },
      "text/plain": [
       "  0%|          | 0/100 [00:00<?, ?it/s]"
      ]
     },
     "metadata": {},
     "output_type": "display_data"
    },
    {
     "name": "stdout",
     "output_type": "stream",
     "text": [
      "Image 891 saved at: result_ldm_original_nonseparate/100_steps/generated_image_891.png\n",
      "Image 892 saved at: result_ldm_original_nonseparate/100_steps/generated_image_892.png\n",
      "Image 893 saved at: result_ldm_original_nonseparate/100_steps/generated_image_893.png\n",
      "Image 894 saved at: result_ldm_original_nonseparate/100_steps/generated_image_894.png\n",
      "Image 895 saved at: result_ldm_original_nonseparate/100_steps/generated_image_895.png\n",
      "Image 896 saved at: result_ldm_original_nonseparate/100_steps/generated_image_896.png\n",
      "Image 897 saved at: result_ldm_original_nonseparate/100_steps/generated_image_897.png\n",
      "Image 898 saved at: result_ldm_original_nonseparate/100_steps/generated_image_898.png\n",
      "Image 899 saved at: result_ldm_original_nonseparate/100_steps/generated_image_899.png\n",
      "Image 900 saved at: result_ldm_original_nonseparate/100_steps/generated_image_900.png\n"
     ]
    },
    {
     "data": {
      "application/vnd.jupyter.widget-view+json": {
       "model_id": "a2faa29657b6423cbef4b67d8dbb6461",
       "version_major": 2,
       "version_minor": 0
      },
      "text/plain": [
       "  0%|          | 0/100 [00:00<?, ?it/s]"
      ]
     },
     "metadata": {},
     "output_type": "display_data"
    },
    {
     "name": "stdout",
     "output_type": "stream",
     "text": [
      "Image 901 saved at: result_ldm_original_nonseparate/100_steps/generated_image_901.png\n",
      "Image 902 saved at: result_ldm_original_nonseparate/100_steps/generated_image_902.png\n",
      "Image 903 saved at: result_ldm_original_nonseparate/100_steps/generated_image_903.png\n",
      "Image 904 saved at: result_ldm_original_nonseparate/100_steps/generated_image_904.png\n",
      "Image 905 saved at: result_ldm_original_nonseparate/100_steps/generated_image_905.png\n",
      "Image 906 saved at: result_ldm_original_nonseparate/100_steps/generated_image_906.png\n",
      "Image 907 saved at: result_ldm_original_nonseparate/100_steps/generated_image_907.png\n",
      "Image 908 saved at: result_ldm_original_nonseparate/100_steps/generated_image_908.png\n",
      "Image 909 saved at: result_ldm_original_nonseparate/100_steps/generated_image_909.png\n",
      "Image 910 saved at: result_ldm_original_nonseparate/100_steps/generated_image_910.png\n"
     ]
    },
    {
     "data": {
      "application/vnd.jupyter.widget-view+json": {
       "model_id": "a34803d6f0294b1793f32d50b6e9690d",
       "version_major": 2,
       "version_minor": 0
      },
      "text/plain": [
       "  0%|          | 0/100 [00:00<?, ?it/s]"
      ]
     },
     "metadata": {},
     "output_type": "display_data"
    },
    {
     "name": "stdout",
     "output_type": "stream",
     "text": [
      "Image 911 saved at: result_ldm_original_nonseparate/100_steps/generated_image_911.png\n",
      "Image 912 saved at: result_ldm_original_nonseparate/100_steps/generated_image_912.png\n",
      "Image 913 saved at: result_ldm_original_nonseparate/100_steps/generated_image_913.png\n",
      "Image 914 saved at: result_ldm_original_nonseparate/100_steps/generated_image_914.png\n",
      "Image 915 saved at: result_ldm_original_nonseparate/100_steps/generated_image_915.png\n",
      "Image 916 saved at: result_ldm_original_nonseparate/100_steps/generated_image_916.png\n",
      "Image 917 saved at: result_ldm_original_nonseparate/100_steps/generated_image_917.png\n",
      "Image 918 saved at: result_ldm_original_nonseparate/100_steps/generated_image_918.png\n",
      "Image 919 saved at: result_ldm_original_nonseparate/100_steps/generated_image_919.png\n",
      "Image 920 saved at: result_ldm_original_nonseparate/100_steps/generated_image_920.png\n"
     ]
    },
    {
     "data": {
      "application/vnd.jupyter.widget-view+json": {
       "model_id": "7a70b4eb5a01414aab8557ce3b40f349",
       "version_major": 2,
       "version_minor": 0
      },
      "text/plain": [
       "  0%|          | 0/100 [00:00<?, ?it/s]"
      ]
     },
     "metadata": {},
     "output_type": "display_data"
    },
    {
     "name": "stdout",
     "output_type": "stream",
     "text": [
      "Image 921 saved at: result_ldm_original_nonseparate/100_steps/generated_image_921.png\n",
      "Image 922 saved at: result_ldm_original_nonseparate/100_steps/generated_image_922.png\n",
      "Image 923 saved at: result_ldm_original_nonseparate/100_steps/generated_image_923.png\n",
      "Image 924 saved at: result_ldm_original_nonseparate/100_steps/generated_image_924.png\n",
      "Image 925 saved at: result_ldm_original_nonseparate/100_steps/generated_image_925.png\n",
      "Image 926 saved at: result_ldm_original_nonseparate/100_steps/generated_image_926.png\n",
      "Image 927 saved at: result_ldm_original_nonseparate/100_steps/generated_image_927.png\n",
      "Image 928 saved at: result_ldm_original_nonseparate/100_steps/generated_image_928.png\n",
      "Image 929 saved at: result_ldm_original_nonseparate/100_steps/generated_image_929.png\n",
      "Image 930 saved at: result_ldm_original_nonseparate/100_steps/generated_image_930.png\n"
     ]
    },
    {
     "data": {
      "application/vnd.jupyter.widget-view+json": {
       "model_id": "2aea60402ce94da58d2ba2f306b3ee78",
       "version_major": 2,
       "version_minor": 0
      },
      "text/plain": [
       "  0%|          | 0/100 [00:00<?, ?it/s]"
      ]
     },
     "metadata": {},
     "output_type": "display_data"
    },
    {
     "name": "stdout",
     "output_type": "stream",
     "text": [
      "Image 931 saved at: result_ldm_original_nonseparate/100_steps/generated_image_931.png\n",
      "Image 932 saved at: result_ldm_original_nonseparate/100_steps/generated_image_932.png\n",
      "Image 933 saved at: result_ldm_original_nonseparate/100_steps/generated_image_933.png\n",
      "Image 934 saved at: result_ldm_original_nonseparate/100_steps/generated_image_934.png\n",
      "Image 935 saved at: result_ldm_original_nonseparate/100_steps/generated_image_935.png\n",
      "Image 936 saved at: result_ldm_original_nonseparate/100_steps/generated_image_936.png\n",
      "Image 937 saved at: result_ldm_original_nonseparate/100_steps/generated_image_937.png\n",
      "Image 938 saved at: result_ldm_original_nonseparate/100_steps/generated_image_938.png\n",
      "Image 939 saved at: result_ldm_original_nonseparate/100_steps/generated_image_939.png\n",
      "Image 940 saved at: result_ldm_original_nonseparate/100_steps/generated_image_940.png\n"
     ]
    },
    {
     "data": {
      "application/vnd.jupyter.widget-view+json": {
       "model_id": "af50e858141f46f8a7234568918cd413",
       "version_major": 2,
       "version_minor": 0
      },
      "text/plain": [
       "  0%|          | 0/100 [00:00<?, ?it/s]"
      ]
     },
     "metadata": {},
     "output_type": "display_data"
    },
    {
     "name": "stdout",
     "output_type": "stream",
     "text": [
      "Image 941 saved at: result_ldm_original_nonseparate/100_steps/generated_image_941.png\n",
      "Image 942 saved at: result_ldm_original_nonseparate/100_steps/generated_image_942.png\n",
      "Image 943 saved at: result_ldm_original_nonseparate/100_steps/generated_image_943.png\n",
      "Image 944 saved at: result_ldm_original_nonseparate/100_steps/generated_image_944.png\n",
      "Image 945 saved at: result_ldm_original_nonseparate/100_steps/generated_image_945.png\n",
      "Image 946 saved at: result_ldm_original_nonseparate/100_steps/generated_image_946.png\n",
      "Image 947 saved at: result_ldm_original_nonseparate/100_steps/generated_image_947.png\n",
      "Image 948 saved at: result_ldm_original_nonseparate/100_steps/generated_image_948.png\n",
      "Image 949 saved at: result_ldm_original_nonseparate/100_steps/generated_image_949.png\n",
      "Image 950 saved at: result_ldm_original_nonseparate/100_steps/generated_image_950.png\n"
     ]
    },
    {
     "data": {
      "application/vnd.jupyter.widget-view+json": {
       "model_id": "1734f8c0963d45b588b332b0a586c06c",
       "version_major": 2,
       "version_minor": 0
      },
      "text/plain": [
       "  0%|          | 0/100 [00:00<?, ?it/s]"
      ]
     },
     "metadata": {},
     "output_type": "display_data"
    },
    {
     "name": "stdout",
     "output_type": "stream",
     "text": [
      "Image 951 saved at: result_ldm_original_nonseparate/100_steps/generated_image_951.png\n",
      "Image 952 saved at: result_ldm_original_nonseparate/100_steps/generated_image_952.png\n",
      "Image 953 saved at: result_ldm_original_nonseparate/100_steps/generated_image_953.png\n",
      "Image 954 saved at: result_ldm_original_nonseparate/100_steps/generated_image_954.png\n",
      "Image 955 saved at: result_ldm_original_nonseparate/100_steps/generated_image_955.png\n",
      "Image 956 saved at: result_ldm_original_nonseparate/100_steps/generated_image_956.png\n",
      "Image 957 saved at: result_ldm_original_nonseparate/100_steps/generated_image_957.png\n",
      "Image 958 saved at: result_ldm_original_nonseparate/100_steps/generated_image_958.png\n",
      "Image 959 saved at: result_ldm_original_nonseparate/100_steps/generated_image_959.png\n",
      "Image 960 saved at: result_ldm_original_nonseparate/100_steps/generated_image_960.png\n"
     ]
    },
    {
     "data": {
      "application/vnd.jupyter.widget-view+json": {
       "model_id": "95cfee5b27ed400e9e72ca5da9b5623d",
       "version_major": 2,
       "version_minor": 0
      },
      "text/plain": [
       "  0%|          | 0/100 [00:00<?, ?it/s]"
      ]
     },
     "metadata": {},
     "output_type": "display_data"
    },
    {
     "name": "stdout",
     "output_type": "stream",
     "text": [
      "Image 961 saved at: result_ldm_original_nonseparate/100_steps/generated_image_961.png\n",
      "Image 962 saved at: result_ldm_original_nonseparate/100_steps/generated_image_962.png\n",
      "Image 963 saved at: result_ldm_original_nonseparate/100_steps/generated_image_963.png\n",
      "Image 964 saved at: result_ldm_original_nonseparate/100_steps/generated_image_964.png\n",
      "Image 965 saved at: result_ldm_original_nonseparate/100_steps/generated_image_965.png\n",
      "Image 966 saved at: result_ldm_original_nonseparate/100_steps/generated_image_966.png\n",
      "Image 967 saved at: result_ldm_original_nonseparate/100_steps/generated_image_967.png\n",
      "Image 968 saved at: result_ldm_original_nonseparate/100_steps/generated_image_968.png\n",
      "Image 969 saved at: result_ldm_original_nonseparate/100_steps/generated_image_969.png\n",
      "Image 970 saved at: result_ldm_original_nonseparate/100_steps/generated_image_970.png\n"
     ]
    },
    {
     "data": {
      "application/vnd.jupyter.widget-view+json": {
       "model_id": "585c76d34f5344daad7f0245d611c82f",
       "version_major": 2,
       "version_minor": 0
      },
      "text/plain": [
       "  0%|          | 0/100 [00:00<?, ?it/s]"
      ]
     },
     "metadata": {},
     "output_type": "display_data"
    },
    {
     "name": "stdout",
     "output_type": "stream",
     "text": [
      "Image 971 saved at: result_ldm_original_nonseparate/100_steps/generated_image_971.png\n",
      "Image 972 saved at: result_ldm_original_nonseparate/100_steps/generated_image_972.png\n",
      "Image 973 saved at: result_ldm_original_nonseparate/100_steps/generated_image_973.png\n",
      "Image 974 saved at: result_ldm_original_nonseparate/100_steps/generated_image_974.png\n",
      "Image 975 saved at: result_ldm_original_nonseparate/100_steps/generated_image_975.png\n",
      "Image 976 saved at: result_ldm_original_nonseparate/100_steps/generated_image_976.png\n",
      "Image 977 saved at: result_ldm_original_nonseparate/100_steps/generated_image_977.png\n",
      "Image 978 saved at: result_ldm_original_nonseparate/100_steps/generated_image_978.png\n",
      "Image 979 saved at: result_ldm_original_nonseparate/100_steps/generated_image_979.png\n",
      "Image 980 saved at: result_ldm_original_nonseparate/100_steps/generated_image_980.png\n"
     ]
    },
    {
     "data": {
      "application/vnd.jupyter.widget-view+json": {
       "model_id": "96d0ac679ac649f3a028ab5bc6747f7c",
       "version_major": 2,
       "version_minor": 0
      },
      "text/plain": [
       "  0%|          | 0/100 [00:00<?, ?it/s]"
      ]
     },
     "metadata": {},
     "output_type": "display_data"
    },
    {
     "name": "stdout",
     "output_type": "stream",
     "text": [
      "Image 981 saved at: result_ldm_original_nonseparate/100_steps/generated_image_981.png\n",
      "Image 982 saved at: result_ldm_original_nonseparate/100_steps/generated_image_982.png\n",
      "Image 983 saved at: result_ldm_original_nonseparate/100_steps/generated_image_983.png\n",
      "Image 984 saved at: result_ldm_original_nonseparate/100_steps/generated_image_984.png\n",
      "Image 985 saved at: result_ldm_original_nonseparate/100_steps/generated_image_985.png\n",
      "Image 986 saved at: result_ldm_original_nonseparate/100_steps/generated_image_986.png\n",
      "Image 987 saved at: result_ldm_original_nonseparate/100_steps/generated_image_987.png\n",
      "Image 988 saved at: result_ldm_original_nonseparate/100_steps/generated_image_988.png\n",
      "Image 989 saved at: result_ldm_original_nonseparate/100_steps/generated_image_989.png\n",
      "Image 990 saved at: result_ldm_original_nonseparate/100_steps/generated_image_990.png\n"
     ]
    },
    {
     "data": {
      "application/vnd.jupyter.widget-view+json": {
       "model_id": "edd36df89c2c4a20aa18596a497df290",
       "version_major": 2,
       "version_minor": 0
      },
      "text/plain": [
       "  0%|          | 0/100 [00:00<?, ?it/s]"
      ]
     },
     "metadata": {},
     "output_type": "display_data"
    },
    {
     "name": "stdout",
     "output_type": "stream",
     "text": [
      "Image 991 saved at: result_ldm_original_nonseparate/100_steps/generated_image_991.png\n",
      "Image 992 saved at: result_ldm_original_nonseparate/100_steps/generated_image_992.png\n",
      "Image 993 saved at: result_ldm_original_nonseparate/100_steps/generated_image_993.png\n",
      "Image 994 saved at: result_ldm_original_nonseparate/100_steps/generated_image_994.png\n",
      "Image 995 saved at: result_ldm_original_nonseparate/100_steps/generated_image_995.png\n",
      "Image 996 saved at: result_ldm_original_nonseparate/100_steps/generated_image_996.png\n",
      "Image 997 saved at: result_ldm_original_nonseparate/100_steps/generated_image_997.png\n",
      "Image 998 saved at: result_ldm_original_nonseparate/100_steps/generated_image_998.png\n",
      "Image 999 saved at: result_ldm_original_nonseparate/100_steps/generated_image_999.png\n",
      "Image 1000 saved at: result_ldm_original_nonseparate/100_steps/generated_image_1000.png\n"
     ]
    },
    {
     "data": {
      "application/vnd.jupyter.widget-view+json": {
       "model_id": "b33a7669a01c4eafba07c16a1b397941",
       "version_major": 2,
       "version_minor": 0
      },
      "text/plain": [
       "  0%|          | 0/100 [00:00<?, ?it/s]"
      ]
     },
     "metadata": {},
     "output_type": "display_data"
    },
    {
     "name": "stdout",
     "output_type": "stream",
     "text": [
      "Image 1001 saved at: result_ldm_original_nonseparate/100_steps/generated_image_1001.png\n",
      "Image 1002 saved at: result_ldm_original_nonseparate/100_steps/generated_image_1002.png\n",
      "Image 1003 saved at: result_ldm_original_nonseparate/100_steps/generated_image_1003.png\n",
      "Image 1004 saved at: result_ldm_original_nonseparate/100_steps/generated_image_1004.png\n",
      "Image 1005 saved at: result_ldm_original_nonseparate/100_steps/generated_image_1005.png\n",
      "Image 1006 saved at: result_ldm_original_nonseparate/100_steps/generated_image_1006.png\n",
      "Image 1007 saved at: result_ldm_original_nonseparate/100_steps/generated_image_1007.png\n",
      "Image 1008 saved at: result_ldm_original_nonseparate/100_steps/generated_image_1008.png\n",
      "Image 1009 saved at: result_ldm_original_nonseparate/100_steps/generated_image_1009.png\n",
      "Image 1010 saved at: result_ldm_original_nonseparate/100_steps/generated_image_1010.png\n"
     ]
    },
    {
     "data": {
      "application/vnd.jupyter.widget-view+json": {
       "model_id": "be4963aff5cc4a7886dc56384e279da7",
       "version_major": 2,
       "version_minor": 0
      },
      "text/plain": [
       "  0%|          | 0/100 [00:00<?, ?it/s]"
      ]
     },
     "metadata": {},
     "output_type": "display_data"
    },
    {
     "name": "stdout",
     "output_type": "stream",
     "text": [
      "Image 1011 saved at: result_ldm_original_nonseparate/100_steps/generated_image_1011.png\n",
      "Image 1012 saved at: result_ldm_original_nonseparate/100_steps/generated_image_1012.png\n",
      "Image 1013 saved at: result_ldm_original_nonseparate/100_steps/generated_image_1013.png\n",
      "Image 1014 saved at: result_ldm_original_nonseparate/100_steps/generated_image_1014.png\n",
      "Image 1015 saved at: result_ldm_original_nonseparate/100_steps/generated_image_1015.png\n",
      "Image 1016 saved at: result_ldm_original_nonseparate/100_steps/generated_image_1016.png\n",
      "Image 1017 saved at: result_ldm_original_nonseparate/100_steps/generated_image_1017.png\n",
      "Image 1018 saved at: result_ldm_original_nonseparate/100_steps/generated_image_1018.png\n",
      "Image 1019 saved at: result_ldm_original_nonseparate/100_steps/generated_image_1019.png\n",
      "Image 1020 saved at: result_ldm_original_nonseparate/100_steps/generated_image_1020.png\n"
     ]
    },
    {
     "data": {
      "application/vnd.jupyter.widget-view+json": {
       "model_id": "9735aa93e6044f228b135a62f1d6f726",
       "version_major": 2,
       "version_minor": 0
      },
      "text/plain": [
       "  0%|          | 0/100 [00:00<?, ?it/s]"
      ]
     },
     "metadata": {},
     "output_type": "display_data"
    },
    {
     "name": "stdout",
     "output_type": "stream",
     "text": [
      "Image 1021 saved at: result_ldm_original_nonseparate/100_steps/generated_image_1021.png\n",
      "Image 1022 saved at: result_ldm_original_nonseparate/100_steps/generated_image_1022.png\n",
      "Image 1023 saved at: result_ldm_original_nonseparate/100_steps/generated_image_1023.png\n",
      "Image 1024 saved at: result_ldm_original_nonseparate/100_steps/generated_image_1024.png\n",
      "Image 1025 saved at: result_ldm_original_nonseparate/100_steps/generated_image_1025.png\n",
      "Image 1026 saved at: result_ldm_original_nonseparate/100_steps/generated_image_1026.png\n",
      "Image 1027 saved at: result_ldm_original_nonseparate/100_steps/generated_image_1027.png\n",
      "Image 1028 saved at: result_ldm_original_nonseparate/100_steps/generated_image_1028.png\n",
      "Image 1029 saved at: result_ldm_original_nonseparate/100_steps/generated_image_1029.png\n",
      "Image 1030 saved at: result_ldm_original_nonseparate/100_steps/generated_image_1030.png\n"
     ]
    },
    {
     "data": {
      "application/vnd.jupyter.widget-view+json": {
       "model_id": "13a837b65f2a445ea1dbb11478db4e77",
       "version_major": 2,
       "version_minor": 0
      },
      "text/plain": [
       "  0%|          | 0/100 [00:00<?, ?it/s]"
      ]
     },
     "metadata": {},
     "output_type": "display_data"
    },
    {
     "name": "stdout",
     "output_type": "stream",
     "text": [
      "Image 1031 saved at: result_ldm_original_nonseparate/100_steps/generated_image_1031.png\n",
      "Image 1032 saved at: result_ldm_original_nonseparate/100_steps/generated_image_1032.png\n",
      "Image 1033 saved at: result_ldm_original_nonseparate/100_steps/generated_image_1033.png\n",
      "Image 1034 saved at: result_ldm_original_nonseparate/100_steps/generated_image_1034.png\n",
      "Image 1035 saved at: result_ldm_original_nonseparate/100_steps/generated_image_1035.png\n",
      "Image 1036 saved at: result_ldm_original_nonseparate/100_steps/generated_image_1036.png\n",
      "Image 1037 saved at: result_ldm_original_nonseparate/100_steps/generated_image_1037.png\n",
      "Image 1038 saved at: result_ldm_original_nonseparate/100_steps/generated_image_1038.png\n",
      "Image 1039 saved at: result_ldm_original_nonseparate/100_steps/generated_image_1039.png\n",
      "Image 1040 saved at: result_ldm_original_nonseparate/100_steps/generated_image_1040.png\n"
     ]
    },
    {
     "data": {
      "application/vnd.jupyter.widget-view+json": {
       "model_id": "8d30a110dd9d4189809222caeb441f27",
       "version_major": 2,
       "version_minor": 0
      },
      "text/plain": [
       "  0%|          | 0/100 [00:00<?, ?it/s]"
      ]
     },
     "metadata": {},
     "output_type": "display_data"
    },
    {
     "name": "stdout",
     "output_type": "stream",
     "text": [
      "Image 1041 saved at: result_ldm_original_nonseparate/100_steps/generated_image_1041.png\n",
      "Image 1042 saved at: result_ldm_original_nonseparate/100_steps/generated_image_1042.png\n",
      "Image 1043 saved at: result_ldm_original_nonseparate/100_steps/generated_image_1043.png\n",
      "Image 1044 saved at: result_ldm_original_nonseparate/100_steps/generated_image_1044.png\n",
      "Image 1045 saved at: result_ldm_original_nonseparate/100_steps/generated_image_1045.png\n",
      "Image 1046 saved at: result_ldm_original_nonseparate/100_steps/generated_image_1046.png\n",
      "Image 1047 saved at: result_ldm_original_nonseparate/100_steps/generated_image_1047.png\n",
      "Image 1048 saved at: result_ldm_original_nonseparate/100_steps/generated_image_1048.png\n",
      "Image 1049 saved at: result_ldm_original_nonseparate/100_steps/generated_image_1049.png\n",
      "Image 1050 saved at: result_ldm_original_nonseparate/100_steps/generated_image_1050.png\n"
     ]
    },
    {
     "data": {
      "application/vnd.jupyter.widget-view+json": {
       "model_id": "8859e754c68c44ec82f90f23b57fbd48",
       "version_major": 2,
       "version_minor": 0
      },
      "text/plain": [
       "  0%|          | 0/100 [00:00<?, ?it/s]"
      ]
     },
     "metadata": {},
     "output_type": "display_data"
    },
    {
     "name": "stdout",
     "output_type": "stream",
     "text": [
      "Image 1051 saved at: result_ldm_original_nonseparate/100_steps/generated_image_1051.png\n",
      "Image 1052 saved at: result_ldm_original_nonseparate/100_steps/generated_image_1052.png\n",
      "Image 1053 saved at: result_ldm_original_nonseparate/100_steps/generated_image_1053.png\n",
      "Image 1054 saved at: result_ldm_original_nonseparate/100_steps/generated_image_1054.png\n",
      "Image 1055 saved at: result_ldm_original_nonseparate/100_steps/generated_image_1055.png\n",
      "Image 1056 saved at: result_ldm_original_nonseparate/100_steps/generated_image_1056.png\n",
      "Image 1057 saved at: result_ldm_original_nonseparate/100_steps/generated_image_1057.png\n",
      "Image 1058 saved at: result_ldm_original_nonseparate/100_steps/generated_image_1058.png\n",
      "Image 1059 saved at: result_ldm_original_nonseparate/100_steps/generated_image_1059.png\n",
      "Image 1060 saved at: result_ldm_original_nonseparate/100_steps/generated_image_1060.png\n"
     ]
    },
    {
     "data": {
      "application/vnd.jupyter.widget-view+json": {
       "model_id": "c7b7733dbaff4cc8810f5d7f7089503e",
       "version_major": 2,
       "version_minor": 0
      },
      "text/plain": [
       "  0%|          | 0/100 [00:00<?, ?it/s]"
      ]
     },
     "metadata": {},
     "output_type": "display_data"
    },
    {
     "name": "stdout",
     "output_type": "stream",
     "text": [
      "Image 1061 saved at: result_ldm_original_nonseparate/100_steps/generated_image_1061.png\n",
      "Image 1062 saved at: result_ldm_original_nonseparate/100_steps/generated_image_1062.png\n",
      "Image 1063 saved at: result_ldm_original_nonseparate/100_steps/generated_image_1063.png\n",
      "Image 1064 saved at: result_ldm_original_nonseparate/100_steps/generated_image_1064.png\n",
      "Image 1065 saved at: result_ldm_original_nonseparate/100_steps/generated_image_1065.png\n",
      "Image 1066 saved at: result_ldm_original_nonseparate/100_steps/generated_image_1066.png\n",
      "Image 1067 saved at: result_ldm_original_nonseparate/100_steps/generated_image_1067.png\n",
      "Image 1068 saved at: result_ldm_original_nonseparate/100_steps/generated_image_1068.png\n",
      "Image 1069 saved at: result_ldm_original_nonseparate/100_steps/generated_image_1069.png\n",
      "Image 1070 saved at: result_ldm_original_nonseparate/100_steps/generated_image_1070.png\n"
     ]
    },
    {
     "data": {
      "application/vnd.jupyter.widget-view+json": {
       "model_id": "b643ed8ea5f84cb89f8564093c130a8f",
       "version_major": 2,
       "version_minor": 0
      },
      "text/plain": [
       "  0%|          | 0/100 [00:00<?, ?it/s]"
      ]
     },
     "metadata": {},
     "output_type": "display_data"
    },
    {
     "name": "stdout",
     "output_type": "stream",
     "text": [
      "Image 1071 saved at: result_ldm_original_nonseparate/100_steps/generated_image_1071.png\n",
      "Image 1072 saved at: result_ldm_original_nonseparate/100_steps/generated_image_1072.png\n",
      "Image 1073 saved at: result_ldm_original_nonseparate/100_steps/generated_image_1073.png\n",
      "Image 1074 saved at: result_ldm_original_nonseparate/100_steps/generated_image_1074.png\n",
      "Image 1075 saved at: result_ldm_original_nonseparate/100_steps/generated_image_1075.png\n",
      "Image 1076 saved at: result_ldm_original_nonseparate/100_steps/generated_image_1076.png\n",
      "Image 1077 saved at: result_ldm_original_nonseparate/100_steps/generated_image_1077.png\n",
      "Image 1078 saved at: result_ldm_original_nonseparate/100_steps/generated_image_1078.png\n",
      "Image 1079 saved at: result_ldm_original_nonseparate/100_steps/generated_image_1079.png\n",
      "Image 1080 saved at: result_ldm_original_nonseparate/100_steps/generated_image_1080.png\n"
     ]
    },
    {
     "data": {
      "application/vnd.jupyter.widget-view+json": {
       "model_id": "601775981a2241c684bdf956932fec65",
       "version_major": 2,
       "version_minor": 0
      },
      "text/plain": [
       "  0%|          | 0/100 [00:00<?, ?it/s]"
      ]
     },
     "metadata": {},
     "output_type": "display_data"
    },
    {
     "name": "stdout",
     "output_type": "stream",
     "text": [
      "Image 1081 saved at: result_ldm_original_nonseparate/100_steps/generated_image_1081.png\n",
      "Image 1082 saved at: result_ldm_original_nonseparate/100_steps/generated_image_1082.png\n",
      "Image 1083 saved at: result_ldm_original_nonseparate/100_steps/generated_image_1083.png\n",
      "Image 1084 saved at: result_ldm_original_nonseparate/100_steps/generated_image_1084.png\n",
      "Image 1085 saved at: result_ldm_original_nonseparate/100_steps/generated_image_1085.png\n",
      "Image 1086 saved at: result_ldm_original_nonseparate/100_steps/generated_image_1086.png\n",
      "Image 1087 saved at: result_ldm_original_nonseparate/100_steps/generated_image_1087.png\n",
      "Image 1088 saved at: result_ldm_original_nonseparate/100_steps/generated_image_1088.png\n",
      "Image 1089 saved at: result_ldm_original_nonseparate/100_steps/generated_image_1089.png\n",
      "Image 1090 saved at: result_ldm_original_nonseparate/100_steps/generated_image_1090.png\n"
     ]
    },
    {
     "data": {
      "application/vnd.jupyter.widget-view+json": {
       "model_id": "2535596a91ae46c4b358843ceaf241d1",
       "version_major": 2,
       "version_minor": 0
      },
      "text/plain": [
       "  0%|          | 0/100 [00:00<?, ?it/s]"
      ]
     },
     "metadata": {},
     "output_type": "display_data"
    },
    {
     "name": "stdout",
     "output_type": "stream",
     "text": [
      "Image 1091 saved at: result_ldm_original_nonseparate/100_steps/generated_image_1091.png\n",
      "Image 1092 saved at: result_ldm_original_nonseparate/100_steps/generated_image_1092.png\n",
      "Image 1093 saved at: result_ldm_original_nonseparate/100_steps/generated_image_1093.png\n",
      "Image 1094 saved at: result_ldm_original_nonseparate/100_steps/generated_image_1094.png\n",
      "Image 1095 saved at: result_ldm_original_nonseparate/100_steps/generated_image_1095.png\n",
      "Image 1096 saved at: result_ldm_original_nonseparate/100_steps/generated_image_1096.png\n",
      "Image 1097 saved at: result_ldm_original_nonseparate/100_steps/generated_image_1097.png\n",
      "Image 1098 saved at: result_ldm_original_nonseparate/100_steps/generated_image_1098.png\n",
      "Image 1099 saved at: result_ldm_original_nonseparate/100_steps/generated_image_1099.png\n",
      "Image 1100 saved at: result_ldm_original_nonseparate/100_steps/generated_image_1100.png\n"
     ]
    },
    {
     "data": {
      "application/vnd.jupyter.widget-view+json": {
       "model_id": "9ad92d802322481fbe1774351803b26a",
       "version_major": 2,
       "version_minor": 0
      },
      "text/plain": [
       "  0%|          | 0/100 [00:00<?, ?it/s]"
      ]
     },
     "metadata": {},
     "output_type": "display_data"
    },
    {
     "name": "stdout",
     "output_type": "stream",
     "text": [
      "Image 1101 saved at: result_ldm_original_nonseparate/100_steps/generated_image_1101.png\n",
      "Image 1102 saved at: result_ldm_original_nonseparate/100_steps/generated_image_1102.png\n",
      "Image 1103 saved at: result_ldm_original_nonseparate/100_steps/generated_image_1103.png\n",
      "Image 1104 saved at: result_ldm_original_nonseparate/100_steps/generated_image_1104.png\n",
      "Image 1105 saved at: result_ldm_original_nonseparate/100_steps/generated_image_1105.png\n",
      "Image 1106 saved at: result_ldm_original_nonseparate/100_steps/generated_image_1106.png\n",
      "Image 1107 saved at: result_ldm_original_nonseparate/100_steps/generated_image_1107.png\n",
      "Image 1108 saved at: result_ldm_original_nonseparate/100_steps/generated_image_1108.png\n",
      "Image 1109 saved at: result_ldm_original_nonseparate/100_steps/generated_image_1109.png\n",
      "Image 1110 saved at: result_ldm_original_nonseparate/100_steps/generated_image_1110.png\n"
     ]
    },
    {
     "data": {
      "application/vnd.jupyter.widget-view+json": {
       "model_id": "d62d91e52f9e4596aac74e73d902a30c",
       "version_major": 2,
       "version_minor": 0
      },
      "text/plain": [
       "  0%|          | 0/100 [00:00<?, ?it/s]"
      ]
     },
     "metadata": {},
     "output_type": "display_data"
    },
    {
     "name": "stdout",
     "output_type": "stream",
     "text": [
      "Image 1111 saved at: result_ldm_original_nonseparate/100_steps/generated_image_1111.png\n",
      "Image 1112 saved at: result_ldm_original_nonseparate/100_steps/generated_image_1112.png\n",
      "Image 1113 saved at: result_ldm_original_nonseparate/100_steps/generated_image_1113.png\n",
      "Image 1114 saved at: result_ldm_original_nonseparate/100_steps/generated_image_1114.png\n",
      "Image 1115 saved at: result_ldm_original_nonseparate/100_steps/generated_image_1115.png\n",
      "Image 1116 saved at: result_ldm_original_nonseparate/100_steps/generated_image_1116.png\n",
      "Image 1117 saved at: result_ldm_original_nonseparate/100_steps/generated_image_1117.png\n",
      "Image 1118 saved at: result_ldm_original_nonseparate/100_steps/generated_image_1118.png\n",
      "Image 1119 saved at: result_ldm_original_nonseparate/100_steps/generated_image_1119.png\n",
      "Image 1120 saved at: result_ldm_original_nonseparate/100_steps/generated_image_1120.png\n"
     ]
    },
    {
     "data": {
      "application/vnd.jupyter.widget-view+json": {
       "model_id": "f8ef9f03c275405fb494084471110ecb",
       "version_major": 2,
       "version_minor": 0
      },
      "text/plain": [
       "  0%|          | 0/100 [00:00<?, ?it/s]"
      ]
     },
     "metadata": {},
     "output_type": "display_data"
    },
    {
     "name": "stdout",
     "output_type": "stream",
     "text": [
      "Image 1121 saved at: result_ldm_original_nonseparate/100_steps/generated_image_1121.png\n",
      "Image 1122 saved at: result_ldm_original_nonseparate/100_steps/generated_image_1122.png\n",
      "Image 1123 saved at: result_ldm_original_nonseparate/100_steps/generated_image_1123.png\n",
      "Image 1124 saved at: result_ldm_original_nonseparate/100_steps/generated_image_1124.png\n",
      "Image 1125 saved at: result_ldm_original_nonseparate/100_steps/generated_image_1125.png\n",
      "Image 1126 saved at: result_ldm_original_nonseparate/100_steps/generated_image_1126.png\n",
      "Image 1127 saved at: result_ldm_original_nonseparate/100_steps/generated_image_1127.png\n",
      "Image 1128 saved at: result_ldm_original_nonseparate/100_steps/generated_image_1128.png\n",
      "Image 1129 saved at: result_ldm_original_nonseparate/100_steps/generated_image_1129.png\n",
      "Image 1130 saved at: result_ldm_original_nonseparate/100_steps/generated_image_1130.png\n"
     ]
    },
    {
     "data": {
      "application/vnd.jupyter.widget-view+json": {
       "model_id": "5eddb42c4089431da7944f1ba9999e51",
       "version_major": 2,
       "version_minor": 0
      },
      "text/plain": [
       "  0%|          | 0/100 [00:00<?, ?it/s]"
      ]
     },
     "metadata": {},
     "output_type": "display_data"
    },
    {
     "name": "stdout",
     "output_type": "stream",
     "text": [
      "Image 1131 saved at: result_ldm_original_nonseparate/100_steps/generated_image_1131.png\n",
      "Image 1132 saved at: result_ldm_original_nonseparate/100_steps/generated_image_1132.png\n",
      "Image 1133 saved at: result_ldm_original_nonseparate/100_steps/generated_image_1133.png\n",
      "Image 1134 saved at: result_ldm_original_nonseparate/100_steps/generated_image_1134.png\n",
      "Image 1135 saved at: result_ldm_original_nonseparate/100_steps/generated_image_1135.png\n",
      "Image 1136 saved at: result_ldm_original_nonseparate/100_steps/generated_image_1136.png\n",
      "Image 1137 saved at: result_ldm_original_nonseparate/100_steps/generated_image_1137.png\n",
      "Image 1138 saved at: result_ldm_original_nonseparate/100_steps/generated_image_1138.png\n",
      "Image 1139 saved at: result_ldm_original_nonseparate/100_steps/generated_image_1139.png\n",
      "Image 1140 saved at: result_ldm_original_nonseparate/100_steps/generated_image_1140.png\n"
     ]
    },
    {
     "data": {
      "application/vnd.jupyter.widget-view+json": {
       "model_id": "dde7fcc549c843bfb98ee56cff5aed5d",
       "version_major": 2,
       "version_minor": 0
      },
      "text/plain": [
       "  0%|          | 0/100 [00:00<?, ?it/s]"
      ]
     },
     "metadata": {},
     "output_type": "display_data"
    },
    {
     "name": "stdout",
     "output_type": "stream",
     "text": [
      "Image 1141 saved at: result_ldm_original_nonseparate/100_steps/generated_image_1141.png\n",
      "Image 1142 saved at: result_ldm_original_nonseparate/100_steps/generated_image_1142.png\n",
      "Image 1143 saved at: result_ldm_original_nonseparate/100_steps/generated_image_1143.png\n",
      "Image 1144 saved at: result_ldm_original_nonseparate/100_steps/generated_image_1144.png\n",
      "Image 1145 saved at: result_ldm_original_nonseparate/100_steps/generated_image_1145.png\n",
      "Image 1146 saved at: result_ldm_original_nonseparate/100_steps/generated_image_1146.png\n",
      "Image 1147 saved at: result_ldm_original_nonseparate/100_steps/generated_image_1147.png\n",
      "Image 1148 saved at: result_ldm_original_nonseparate/100_steps/generated_image_1148.png\n",
      "Image 1149 saved at: result_ldm_original_nonseparate/100_steps/generated_image_1149.png\n",
      "Image 1150 saved at: result_ldm_original_nonseparate/100_steps/generated_image_1150.png\n"
     ]
    },
    {
     "data": {
      "application/vnd.jupyter.widget-view+json": {
       "model_id": "49d55def733e44e8b416b899013c0a22",
       "version_major": 2,
       "version_minor": 0
      },
      "text/plain": [
       "  0%|          | 0/100 [00:00<?, ?it/s]"
      ]
     },
     "metadata": {},
     "output_type": "display_data"
    },
    {
     "name": "stdout",
     "output_type": "stream",
     "text": [
      "Image 1151 saved at: result_ldm_original_nonseparate/100_steps/generated_image_1151.png\n",
      "Image 1152 saved at: result_ldm_original_nonseparate/100_steps/generated_image_1152.png\n",
      "Image 1153 saved at: result_ldm_original_nonseparate/100_steps/generated_image_1153.png\n",
      "Image 1154 saved at: result_ldm_original_nonseparate/100_steps/generated_image_1154.png\n",
      "Image 1155 saved at: result_ldm_original_nonseparate/100_steps/generated_image_1155.png\n",
      "Image 1156 saved at: result_ldm_original_nonseparate/100_steps/generated_image_1156.png\n",
      "Image 1157 saved at: result_ldm_original_nonseparate/100_steps/generated_image_1157.png\n",
      "Image 1158 saved at: result_ldm_original_nonseparate/100_steps/generated_image_1158.png\n",
      "Image 1159 saved at: result_ldm_original_nonseparate/100_steps/generated_image_1159.png\n",
      "Image 1160 saved at: result_ldm_original_nonseparate/100_steps/generated_image_1160.png\n"
     ]
    },
    {
     "data": {
      "application/vnd.jupyter.widget-view+json": {
       "model_id": "5c6c92f863db4e0b9ca2caf37261f3a1",
       "version_major": 2,
       "version_minor": 0
      },
      "text/plain": [
       "  0%|          | 0/100 [00:00<?, ?it/s]"
      ]
     },
     "metadata": {},
     "output_type": "display_data"
    },
    {
     "name": "stdout",
     "output_type": "stream",
     "text": [
      "Image 1161 saved at: result_ldm_original_nonseparate/100_steps/generated_image_1161.png\n",
      "Image 1162 saved at: result_ldm_original_nonseparate/100_steps/generated_image_1162.png\n",
      "Image 1163 saved at: result_ldm_original_nonseparate/100_steps/generated_image_1163.png\n",
      "Image 1164 saved at: result_ldm_original_nonseparate/100_steps/generated_image_1164.png\n",
      "Image 1165 saved at: result_ldm_original_nonseparate/100_steps/generated_image_1165.png\n",
      "Image 1166 saved at: result_ldm_original_nonseparate/100_steps/generated_image_1166.png\n",
      "Image 1167 saved at: result_ldm_original_nonseparate/100_steps/generated_image_1167.png\n",
      "Image 1168 saved at: result_ldm_original_nonseparate/100_steps/generated_image_1168.png\n",
      "Image 1169 saved at: result_ldm_original_nonseparate/100_steps/generated_image_1169.png\n",
      "Image 1170 saved at: result_ldm_original_nonseparate/100_steps/generated_image_1170.png\n"
     ]
    },
    {
     "data": {
      "application/vnd.jupyter.widget-view+json": {
       "model_id": "bbad28232ea04798b89c0632d6919cc0",
       "version_major": 2,
       "version_minor": 0
      },
      "text/plain": [
       "  0%|          | 0/100 [00:00<?, ?it/s]"
      ]
     },
     "metadata": {},
     "output_type": "display_data"
    },
    {
     "name": "stdout",
     "output_type": "stream",
     "text": [
      "Image 1171 saved at: result_ldm_original_nonseparate/100_steps/generated_image_1171.png\n",
      "Image 1172 saved at: result_ldm_original_nonseparate/100_steps/generated_image_1172.png\n",
      "Image 1173 saved at: result_ldm_original_nonseparate/100_steps/generated_image_1173.png\n",
      "Image 1174 saved at: result_ldm_original_nonseparate/100_steps/generated_image_1174.png\n",
      "Image 1175 saved at: result_ldm_original_nonseparate/100_steps/generated_image_1175.png\n",
      "Image 1176 saved at: result_ldm_original_nonseparate/100_steps/generated_image_1176.png\n",
      "Image 1177 saved at: result_ldm_original_nonseparate/100_steps/generated_image_1177.png\n",
      "Image 1178 saved at: result_ldm_original_nonseparate/100_steps/generated_image_1178.png\n",
      "Image 1179 saved at: result_ldm_original_nonseparate/100_steps/generated_image_1179.png\n",
      "Image 1180 saved at: result_ldm_original_nonseparate/100_steps/generated_image_1180.png\n"
     ]
    },
    {
     "data": {
      "application/vnd.jupyter.widget-view+json": {
       "model_id": "80b8aa950c8e4f4e951ec5c9615c24f9",
       "version_major": 2,
       "version_minor": 0
      },
      "text/plain": [
       "  0%|          | 0/100 [00:00<?, ?it/s]"
      ]
     },
     "metadata": {},
     "output_type": "display_data"
    },
    {
     "name": "stdout",
     "output_type": "stream",
     "text": [
      "Image 1181 saved at: result_ldm_original_nonseparate/100_steps/generated_image_1181.png\n",
      "Image 1182 saved at: result_ldm_original_nonseparate/100_steps/generated_image_1182.png\n",
      "Image 1183 saved at: result_ldm_original_nonseparate/100_steps/generated_image_1183.png\n",
      "Image 1184 saved at: result_ldm_original_nonseparate/100_steps/generated_image_1184.png\n",
      "Image 1185 saved at: result_ldm_original_nonseparate/100_steps/generated_image_1185.png\n",
      "Image 1186 saved at: result_ldm_original_nonseparate/100_steps/generated_image_1186.png\n",
      "Image 1187 saved at: result_ldm_original_nonseparate/100_steps/generated_image_1187.png\n",
      "Image 1188 saved at: result_ldm_original_nonseparate/100_steps/generated_image_1188.png\n",
      "Image 1189 saved at: result_ldm_original_nonseparate/100_steps/generated_image_1189.png\n",
      "Image 1190 saved at: result_ldm_original_nonseparate/100_steps/generated_image_1190.png\n"
     ]
    },
    {
     "data": {
      "application/vnd.jupyter.widget-view+json": {
       "model_id": "635634cfa3be4c9b9c2b435d560d4b0c",
       "version_major": 2,
       "version_minor": 0
      },
      "text/plain": [
       "  0%|          | 0/100 [00:00<?, ?it/s]"
      ]
     },
     "metadata": {},
     "output_type": "display_data"
    },
    {
     "name": "stdout",
     "output_type": "stream",
     "text": [
      "Image 1191 saved at: result_ldm_original_nonseparate/100_steps/generated_image_1191.png\n",
      "Image 1192 saved at: result_ldm_original_nonseparate/100_steps/generated_image_1192.png\n",
      "Image 1193 saved at: result_ldm_original_nonseparate/100_steps/generated_image_1193.png\n",
      "Image 1194 saved at: result_ldm_original_nonseparate/100_steps/generated_image_1194.png\n",
      "Image 1195 saved at: result_ldm_original_nonseparate/100_steps/generated_image_1195.png\n",
      "Image 1196 saved at: result_ldm_original_nonseparate/100_steps/generated_image_1196.png\n",
      "Image 1197 saved at: result_ldm_original_nonseparate/100_steps/generated_image_1197.png\n",
      "Image 1198 saved at: result_ldm_original_nonseparate/100_steps/generated_image_1198.png\n",
      "Image 1199 saved at: result_ldm_original_nonseparate/100_steps/generated_image_1199.png\n",
      "Image 1200 saved at: result_ldm_original_nonseparate/100_steps/generated_image_1200.png\n"
     ]
    },
    {
     "data": {
      "application/vnd.jupyter.widget-view+json": {
       "model_id": "52e00a50629648a6ae28c1ffb5732e3a",
       "version_major": 2,
       "version_minor": 0
      },
      "text/plain": [
       "  0%|          | 0/100 [00:00<?, ?it/s]"
      ]
     },
     "metadata": {},
     "output_type": "display_data"
    },
    {
     "name": "stdout",
     "output_type": "stream",
     "text": [
      "Image 1201 saved at: result_ldm_original_nonseparate/100_steps/generated_image_1201.png\n",
      "Image 1202 saved at: result_ldm_original_nonseparate/100_steps/generated_image_1202.png\n",
      "Image 1203 saved at: result_ldm_original_nonseparate/100_steps/generated_image_1203.png\n",
      "Image 1204 saved at: result_ldm_original_nonseparate/100_steps/generated_image_1204.png\n",
      "Image 1205 saved at: result_ldm_original_nonseparate/100_steps/generated_image_1205.png\n",
      "Image 1206 saved at: result_ldm_original_nonseparate/100_steps/generated_image_1206.png\n",
      "Image 1207 saved at: result_ldm_original_nonseparate/100_steps/generated_image_1207.png\n",
      "Image 1208 saved at: result_ldm_original_nonseparate/100_steps/generated_image_1208.png\n",
      "Image 1209 saved at: result_ldm_original_nonseparate/100_steps/generated_image_1209.png\n",
      "Image 1210 saved at: result_ldm_original_nonseparate/100_steps/generated_image_1210.png\n"
     ]
    },
    {
     "data": {
      "application/vnd.jupyter.widget-view+json": {
       "model_id": "0aefab27d2134738974d5ea27a538210",
       "version_major": 2,
       "version_minor": 0
      },
      "text/plain": [
       "  0%|          | 0/100 [00:00<?, ?it/s]"
      ]
     },
     "metadata": {},
     "output_type": "display_data"
    },
    {
     "name": "stdout",
     "output_type": "stream",
     "text": [
      "Image 1211 saved at: result_ldm_original_nonseparate/100_steps/generated_image_1211.png\n",
      "Image 1212 saved at: result_ldm_original_nonseparate/100_steps/generated_image_1212.png\n",
      "Image 1213 saved at: result_ldm_original_nonseparate/100_steps/generated_image_1213.png\n",
      "Image 1214 saved at: result_ldm_original_nonseparate/100_steps/generated_image_1214.png\n",
      "Image 1215 saved at: result_ldm_original_nonseparate/100_steps/generated_image_1215.png\n",
      "Image 1216 saved at: result_ldm_original_nonseparate/100_steps/generated_image_1216.png\n",
      "Image 1217 saved at: result_ldm_original_nonseparate/100_steps/generated_image_1217.png\n",
      "Image 1218 saved at: result_ldm_original_nonseparate/100_steps/generated_image_1218.png\n",
      "Image 1219 saved at: result_ldm_original_nonseparate/100_steps/generated_image_1219.png\n",
      "Image 1220 saved at: result_ldm_original_nonseparate/100_steps/generated_image_1220.png\n"
     ]
    },
    {
     "data": {
      "application/vnd.jupyter.widget-view+json": {
       "model_id": "0fe67932fc20475b8be20717a61e9ca6",
       "version_major": 2,
       "version_minor": 0
      },
      "text/plain": [
       "  0%|          | 0/100 [00:00<?, ?it/s]"
      ]
     },
     "metadata": {},
     "output_type": "display_data"
    },
    {
     "name": "stdout",
     "output_type": "stream",
     "text": [
      "Image 1221 saved at: result_ldm_original_nonseparate/100_steps/generated_image_1221.png\n",
      "Image 1222 saved at: result_ldm_original_nonseparate/100_steps/generated_image_1222.png\n",
      "Image 1223 saved at: result_ldm_original_nonseparate/100_steps/generated_image_1223.png\n",
      "Image 1224 saved at: result_ldm_original_nonseparate/100_steps/generated_image_1224.png\n",
      "Image 1225 saved at: result_ldm_original_nonseparate/100_steps/generated_image_1225.png\n",
      "Image 1226 saved at: result_ldm_original_nonseparate/100_steps/generated_image_1226.png\n",
      "Image 1227 saved at: result_ldm_original_nonseparate/100_steps/generated_image_1227.png\n",
      "Image 1228 saved at: result_ldm_original_nonseparate/100_steps/generated_image_1228.png\n",
      "Image 1229 saved at: result_ldm_original_nonseparate/100_steps/generated_image_1229.png\n",
      "Image 1230 saved at: result_ldm_original_nonseparate/100_steps/generated_image_1230.png\n"
     ]
    },
    {
     "data": {
      "application/vnd.jupyter.widget-view+json": {
       "model_id": "ec9af2c2ccd548efacc87942a327f1cf",
       "version_major": 2,
       "version_minor": 0
      },
      "text/plain": [
       "  0%|          | 0/100 [00:00<?, ?it/s]"
      ]
     },
     "metadata": {},
     "output_type": "display_data"
    },
    {
     "name": "stdout",
     "output_type": "stream",
     "text": [
      "Image 1231 saved at: result_ldm_original_nonseparate/100_steps/generated_image_1231.png\n",
      "Image 1232 saved at: result_ldm_original_nonseparate/100_steps/generated_image_1232.png\n",
      "Image 1233 saved at: result_ldm_original_nonseparate/100_steps/generated_image_1233.png\n",
      "Image 1234 saved at: result_ldm_original_nonseparate/100_steps/generated_image_1234.png\n",
      "Image 1235 saved at: result_ldm_original_nonseparate/100_steps/generated_image_1235.png\n",
      "Image 1236 saved at: result_ldm_original_nonseparate/100_steps/generated_image_1236.png\n",
      "Image 1237 saved at: result_ldm_original_nonseparate/100_steps/generated_image_1237.png\n",
      "Image 1238 saved at: result_ldm_original_nonseparate/100_steps/generated_image_1238.png\n",
      "Image 1239 saved at: result_ldm_original_nonseparate/100_steps/generated_image_1239.png\n",
      "Image 1240 saved at: result_ldm_original_nonseparate/100_steps/generated_image_1240.png\n"
     ]
    },
    {
     "data": {
      "application/vnd.jupyter.widget-view+json": {
       "model_id": "3929019bffff4c1781e340d7c651a7cb",
       "version_major": 2,
       "version_minor": 0
      },
      "text/plain": [
       "  0%|          | 0/100 [00:00<?, ?it/s]"
      ]
     },
     "metadata": {},
     "output_type": "display_data"
    },
    {
     "name": "stdout",
     "output_type": "stream",
     "text": [
      "Image 1241 saved at: result_ldm_original_nonseparate/100_steps/generated_image_1241.png\n",
      "Image 1242 saved at: result_ldm_original_nonseparate/100_steps/generated_image_1242.png\n",
      "Image 1243 saved at: result_ldm_original_nonseparate/100_steps/generated_image_1243.png\n",
      "Image 1244 saved at: result_ldm_original_nonseparate/100_steps/generated_image_1244.png\n",
      "Image 1245 saved at: result_ldm_original_nonseparate/100_steps/generated_image_1245.png\n",
      "Image 1246 saved at: result_ldm_original_nonseparate/100_steps/generated_image_1246.png\n",
      "Image 1247 saved at: result_ldm_original_nonseparate/100_steps/generated_image_1247.png\n",
      "Image 1248 saved at: result_ldm_original_nonseparate/100_steps/generated_image_1248.png\n",
      "Image 1249 saved at: result_ldm_original_nonseparate/100_steps/generated_image_1249.png\n",
      "Image 1250 saved at: result_ldm_original_nonseparate/100_steps/generated_image_1250.png\n"
     ]
    },
    {
     "data": {
      "application/vnd.jupyter.widget-view+json": {
       "model_id": "ab3de6410b41431b85701aa31412ad7a",
       "version_major": 2,
       "version_minor": 0
      },
      "text/plain": [
       "  0%|          | 0/100 [00:00<?, ?it/s]"
      ]
     },
     "metadata": {},
     "output_type": "display_data"
    },
    {
     "name": "stdout",
     "output_type": "stream",
     "text": [
      "Image 1251 saved at: result_ldm_original_nonseparate/100_steps/generated_image_1251.png\n",
      "Image 1252 saved at: result_ldm_original_nonseparate/100_steps/generated_image_1252.png\n",
      "Image 1253 saved at: result_ldm_original_nonseparate/100_steps/generated_image_1253.png\n",
      "Image 1254 saved at: result_ldm_original_nonseparate/100_steps/generated_image_1254.png\n",
      "Image 1255 saved at: result_ldm_original_nonseparate/100_steps/generated_image_1255.png\n",
      "Image 1256 saved at: result_ldm_original_nonseparate/100_steps/generated_image_1256.png\n",
      "Image 1257 saved at: result_ldm_original_nonseparate/100_steps/generated_image_1257.png\n",
      "Image 1258 saved at: result_ldm_original_nonseparate/100_steps/generated_image_1258.png\n",
      "Image 1259 saved at: result_ldm_original_nonseparate/100_steps/generated_image_1259.png\n",
      "Image 1260 saved at: result_ldm_original_nonseparate/100_steps/generated_image_1260.png\n"
     ]
    },
    {
     "data": {
      "application/vnd.jupyter.widget-view+json": {
       "model_id": "bf4165da453f484f9489e3f45d24090b",
       "version_major": 2,
       "version_minor": 0
      },
      "text/plain": [
       "  0%|          | 0/100 [00:00<?, ?it/s]"
      ]
     },
     "metadata": {},
     "output_type": "display_data"
    },
    {
     "name": "stdout",
     "output_type": "stream",
     "text": [
      "Image 1261 saved at: result_ldm_original_nonseparate/100_steps/generated_image_1261.png\n",
      "Image 1262 saved at: result_ldm_original_nonseparate/100_steps/generated_image_1262.png\n",
      "Image 1263 saved at: result_ldm_original_nonseparate/100_steps/generated_image_1263.png\n",
      "Image 1264 saved at: result_ldm_original_nonseparate/100_steps/generated_image_1264.png\n",
      "Image 1265 saved at: result_ldm_original_nonseparate/100_steps/generated_image_1265.png\n",
      "Image 1266 saved at: result_ldm_original_nonseparate/100_steps/generated_image_1266.png\n",
      "Image 1267 saved at: result_ldm_original_nonseparate/100_steps/generated_image_1267.png\n",
      "Image 1268 saved at: result_ldm_original_nonseparate/100_steps/generated_image_1268.png\n",
      "Image 1269 saved at: result_ldm_original_nonseparate/100_steps/generated_image_1269.png\n",
      "Image 1270 saved at: result_ldm_original_nonseparate/100_steps/generated_image_1270.png\n"
     ]
    },
    {
     "data": {
      "application/vnd.jupyter.widget-view+json": {
       "model_id": "ac06ba2ff1d84f29a19bf219efd9b9e0",
       "version_major": 2,
       "version_minor": 0
      },
      "text/plain": [
       "  0%|          | 0/100 [00:00<?, ?it/s]"
      ]
     },
     "metadata": {},
     "output_type": "display_data"
    },
    {
     "name": "stdout",
     "output_type": "stream",
     "text": [
      "Image 1271 saved at: result_ldm_original_nonseparate/100_steps/generated_image_1271.png\n",
      "Image 1272 saved at: result_ldm_original_nonseparate/100_steps/generated_image_1272.png\n",
      "Image 1273 saved at: result_ldm_original_nonseparate/100_steps/generated_image_1273.png\n",
      "Image 1274 saved at: result_ldm_original_nonseparate/100_steps/generated_image_1274.png\n",
      "Image 1275 saved at: result_ldm_original_nonseparate/100_steps/generated_image_1275.png\n",
      "Image 1276 saved at: result_ldm_original_nonseparate/100_steps/generated_image_1276.png\n",
      "Image 1277 saved at: result_ldm_original_nonseparate/100_steps/generated_image_1277.png\n",
      "Image 1278 saved at: result_ldm_original_nonseparate/100_steps/generated_image_1278.png\n",
      "Image 1279 saved at: result_ldm_original_nonseparate/100_steps/generated_image_1279.png\n",
      "Image 1280 saved at: result_ldm_original_nonseparate/100_steps/generated_image_1280.png\n"
     ]
    },
    {
     "data": {
      "application/vnd.jupyter.widget-view+json": {
       "model_id": "0bd196e229cd4dc1a60ebf45f737f5d7",
       "version_major": 2,
       "version_minor": 0
      },
      "text/plain": [
       "  0%|          | 0/100 [00:00<?, ?it/s]"
      ]
     },
     "metadata": {},
     "output_type": "display_data"
    },
    {
     "name": "stdout",
     "output_type": "stream",
     "text": [
      "Image 1281 saved at: result_ldm_original_nonseparate/100_steps/generated_image_1281.png\n",
      "Image 1282 saved at: result_ldm_original_nonseparate/100_steps/generated_image_1282.png\n",
      "Image 1283 saved at: result_ldm_original_nonseparate/100_steps/generated_image_1283.png\n",
      "Image 1284 saved at: result_ldm_original_nonseparate/100_steps/generated_image_1284.png\n",
      "Image 1285 saved at: result_ldm_original_nonseparate/100_steps/generated_image_1285.png\n",
      "Image 1286 saved at: result_ldm_original_nonseparate/100_steps/generated_image_1286.png\n",
      "Image 1287 saved at: result_ldm_original_nonseparate/100_steps/generated_image_1287.png\n",
      "Image 1288 saved at: result_ldm_original_nonseparate/100_steps/generated_image_1288.png\n",
      "Image 1289 saved at: result_ldm_original_nonseparate/100_steps/generated_image_1289.png\n",
      "Image 1290 saved at: result_ldm_original_nonseparate/100_steps/generated_image_1290.png\n"
     ]
    },
    {
     "data": {
      "application/vnd.jupyter.widget-view+json": {
       "model_id": "350e82df43e64cd6966dffcc02c6b1ea",
       "version_major": 2,
       "version_minor": 0
      },
      "text/plain": [
       "  0%|          | 0/100 [00:00<?, ?it/s]"
      ]
     },
     "metadata": {},
     "output_type": "display_data"
    },
    {
     "name": "stdout",
     "output_type": "stream",
     "text": [
      "Image 1291 saved at: result_ldm_original_nonseparate/100_steps/generated_image_1291.png\n",
      "Image 1292 saved at: result_ldm_original_nonseparate/100_steps/generated_image_1292.png\n",
      "Image 1293 saved at: result_ldm_original_nonseparate/100_steps/generated_image_1293.png\n",
      "Image 1294 saved at: result_ldm_original_nonseparate/100_steps/generated_image_1294.png\n",
      "Image 1295 saved at: result_ldm_original_nonseparate/100_steps/generated_image_1295.png\n",
      "Image 1296 saved at: result_ldm_original_nonseparate/100_steps/generated_image_1296.png\n",
      "Image 1297 saved at: result_ldm_original_nonseparate/100_steps/generated_image_1297.png\n",
      "Image 1298 saved at: result_ldm_original_nonseparate/100_steps/generated_image_1298.png\n",
      "Image 1299 saved at: result_ldm_original_nonseparate/100_steps/generated_image_1299.png\n",
      "Image 1300 saved at: result_ldm_original_nonseparate/100_steps/generated_image_1300.png\n"
     ]
    },
    {
     "data": {
      "application/vnd.jupyter.widget-view+json": {
       "model_id": "433fceee845f4e4da50358a68353d75e",
       "version_major": 2,
       "version_minor": 0
      },
      "text/plain": [
       "  0%|          | 0/100 [00:00<?, ?it/s]"
      ]
     },
     "metadata": {},
     "output_type": "display_data"
    },
    {
     "name": "stdout",
     "output_type": "stream",
     "text": [
      "Image 1301 saved at: result_ldm_original_nonseparate/100_steps/generated_image_1301.png\n",
      "Image 1302 saved at: result_ldm_original_nonseparate/100_steps/generated_image_1302.png\n",
      "Image 1303 saved at: result_ldm_original_nonseparate/100_steps/generated_image_1303.png\n",
      "Image 1304 saved at: result_ldm_original_nonseparate/100_steps/generated_image_1304.png\n",
      "Image 1305 saved at: result_ldm_original_nonseparate/100_steps/generated_image_1305.png\n",
      "Image 1306 saved at: result_ldm_original_nonseparate/100_steps/generated_image_1306.png\n",
      "Image 1307 saved at: result_ldm_original_nonseparate/100_steps/generated_image_1307.png\n",
      "Image 1308 saved at: result_ldm_original_nonseparate/100_steps/generated_image_1308.png\n",
      "Image 1309 saved at: result_ldm_original_nonseparate/100_steps/generated_image_1309.png\n",
      "Image 1310 saved at: result_ldm_original_nonseparate/100_steps/generated_image_1310.png\n"
     ]
    },
    {
     "data": {
      "application/vnd.jupyter.widget-view+json": {
       "model_id": "e3fe82d994a64b9f992fcfc6e079e08b",
       "version_major": 2,
       "version_minor": 0
      },
      "text/plain": [
       "  0%|          | 0/100 [00:00<?, ?it/s]"
      ]
     },
     "metadata": {},
     "output_type": "display_data"
    },
    {
     "name": "stdout",
     "output_type": "stream",
     "text": [
      "Image 1311 saved at: result_ldm_original_nonseparate/100_steps/generated_image_1311.png\n",
      "Image 1312 saved at: result_ldm_original_nonseparate/100_steps/generated_image_1312.png\n",
      "Image 1313 saved at: result_ldm_original_nonseparate/100_steps/generated_image_1313.png\n",
      "Image 1314 saved at: result_ldm_original_nonseparate/100_steps/generated_image_1314.png\n",
      "Image 1315 saved at: result_ldm_original_nonseparate/100_steps/generated_image_1315.png\n",
      "Image 1316 saved at: result_ldm_original_nonseparate/100_steps/generated_image_1316.png\n",
      "Image 1317 saved at: result_ldm_original_nonseparate/100_steps/generated_image_1317.png\n",
      "Image 1318 saved at: result_ldm_original_nonseparate/100_steps/generated_image_1318.png\n",
      "Image 1319 saved at: result_ldm_original_nonseparate/100_steps/generated_image_1319.png\n",
      "Image 1320 saved at: result_ldm_original_nonseparate/100_steps/generated_image_1320.png\n"
     ]
    },
    {
     "data": {
      "application/vnd.jupyter.widget-view+json": {
       "model_id": "4a7590260745430d909bdcecd885b1db",
       "version_major": 2,
       "version_minor": 0
      },
      "text/plain": [
       "  0%|          | 0/100 [00:00<?, ?it/s]"
      ]
     },
     "metadata": {},
     "output_type": "display_data"
    },
    {
     "name": "stdout",
     "output_type": "stream",
     "text": [
      "Image 1321 saved at: result_ldm_original_nonseparate/100_steps/generated_image_1321.png\n",
      "Image 1322 saved at: result_ldm_original_nonseparate/100_steps/generated_image_1322.png\n",
      "Image 1323 saved at: result_ldm_original_nonseparate/100_steps/generated_image_1323.png\n",
      "Image 1324 saved at: result_ldm_original_nonseparate/100_steps/generated_image_1324.png\n",
      "Image 1325 saved at: result_ldm_original_nonseparate/100_steps/generated_image_1325.png\n",
      "Image 1326 saved at: result_ldm_original_nonseparate/100_steps/generated_image_1326.png\n",
      "Image 1327 saved at: result_ldm_original_nonseparate/100_steps/generated_image_1327.png\n",
      "Image 1328 saved at: result_ldm_original_nonseparate/100_steps/generated_image_1328.png\n",
      "Image 1329 saved at: result_ldm_original_nonseparate/100_steps/generated_image_1329.png\n",
      "Image 1330 saved at: result_ldm_original_nonseparate/100_steps/generated_image_1330.png\n"
     ]
    },
    {
     "data": {
      "application/vnd.jupyter.widget-view+json": {
       "model_id": "7e8856b3f1f94bada95f46816d27a0bd",
       "version_major": 2,
       "version_minor": 0
      },
      "text/plain": [
       "  0%|          | 0/100 [00:00<?, ?it/s]"
      ]
     },
     "metadata": {},
     "output_type": "display_data"
    },
    {
     "name": "stdout",
     "output_type": "stream",
     "text": [
      "Image 1331 saved at: result_ldm_original_nonseparate/100_steps/generated_image_1331.png\n",
      "Image 1332 saved at: result_ldm_original_nonseparate/100_steps/generated_image_1332.png\n",
      "Image 1333 saved at: result_ldm_original_nonseparate/100_steps/generated_image_1333.png\n",
      "Image 1334 saved at: result_ldm_original_nonseparate/100_steps/generated_image_1334.png\n",
      "Image 1335 saved at: result_ldm_original_nonseparate/100_steps/generated_image_1335.png\n",
      "Image 1336 saved at: result_ldm_original_nonseparate/100_steps/generated_image_1336.png\n",
      "Image 1337 saved at: result_ldm_original_nonseparate/100_steps/generated_image_1337.png\n",
      "Image 1338 saved at: result_ldm_original_nonseparate/100_steps/generated_image_1338.png\n",
      "Image 1339 saved at: result_ldm_original_nonseparate/100_steps/generated_image_1339.png\n",
      "Image 1340 saved at: result_ldm_original_nonseparate/100_steps/generated_image_1340.png\n"
     ]
    },
    {
     "data": {
      "application/vnd.jupyter.widget-view+json": {
       "model_id": "a667e6bcb594409c9c9cdfec2500cf99",
       "version_major": 2,
       "version_minor": 0
      },
      "text/plain": [
       "  0%|          | 0/100 [00:00<?, ?it/s]"
      ]
     },
     "metadata": {},
     "output_type": "display_data"
    },
    {
     "name": "stdout",
     "output_type": "stream",
     "text": [
      "Image 1341 saved at: result_ldm_original_nonseparate/100_steps/generated_image_1341.png\n",
      "Image 1342 saved at: result_ldm_original_nonseparate/100_steps/generated_image_1342.png\n",
      "Image 1343 saved at: result_ldm_original_nonseparate/100_steps/generated_image_1343.png\n",
      "Image 1344 saved at: result_ldm_original_nonseparate/100_steps/generated_image_1344.png\n",
      "Image 1345 saved at: result_ldm_original_nonseparate/100_steps/generated_image_1345.png\n",
      "Image 1346 saved at: result_ldm_original_nonseparate/100_steps/generated_image_1346.png\n",
      "Image 1347 saved at: result_ldm_original_nonseparate/100_steps/generated_image_1347.png\n",
      "Image 1348 saved at: result_ldm_original_nonseparate/100_steps/generated_image_1348.png\n",
      "Image 1349 saved at: result_ldm_original_nonseparate/100_steps/generated_image_1349.png\n",
      "Image 1350 saved at: result_ldm_original_nonseparate/100_steps/generated_image_1350.png\n"
     ]
    },
    {
     "data": {
      "application/vnd.jupyter.widget-view+json": {
       "model_id": "2a44d828c23f4807a7814cc10425da7f",
       "version_major": 2,
       "version_minor": 0
      },
      "text/plain": [
       "  0%|          | 0/100 [00:00<?, ?it/s]"
      ]
     },
     "metadata": {},
     "output_type": "display_data"
    },
    {
     "name": "stdout",
     "output_type": "stream",
     "text": [
      "Image 1351 saved at: result_ldm_original_nonseparate/100_steps/generated_image_1351.png\n",
      "Image 1352 saved at: result_ldm_original_nonseparate/100_steps/generated_image_1352.png\n",
      "Image 1353 saved at: result_ldm_original_nonseparate/100_steps/generated_image_1353.png\n",
      "Image 1354 saved at: result_ldm_original_nonseparate/100_steps/generated_image_1354.png\n",
      "Image 1355 saved at: result_ldm_original_nonseparate/100_steps/generated_image_1355.png\n",
      "Image 1356 saved at: result_ldm_original_nonseparate/100_steps/generated_image_1356.png\n",
      "Image 1357 saved at: result_ldm_original_nonseparate/100_steps/generated_image_1357.png\n",
      "Image 1358 saved at: result_ldm_original_nonseparate/100_steps/generated_image_1358.png\n",
      "Image 1359 saved at: result_ldm_original_nonseparate/100_steps/generated_image_1359.png\n",
      "Image 1360 saved at: result_ldm_original_nonseparate/100_steps/generated_image_1360.png\n"
     ]
    },
    {
     "data": {
      "application/vnd.jupyter.widget-view+json": {
       "model_id": "5157886f05b8488283275ecb81caa6de",
       "version_major": 2,
       "version_minor": 0
      },
      "text/plain": [
       "  0%|          | 0/100 [00:00<?, ?it/s]"
      ]
     },
     "metadata": {},
     "output_type": "display_data"
    },
    {
     "name": "stdout",
     "output_type": "stream",
     "text": [
      "Image 1361 saved at: result_ldm_original_nonseparate/100_steps/generated_image_1361.png\n",
      "Image 1362 saved at: result_ldm_original_nonseparate/100_steps/generated_image_1362.png\n",
      "Image 1363 saved at: result_ldm_original_nonseparate/100_steps/generated_image_1363.png\n",
      "Image 1364 saved at: result_ldm_original_nonseparate/100_steps/generated_image_1364.png\n",
      "Image 1365 saved at: result_ldm_original_nonseparate/100_steps/generated_image_1365.png\n",
      "Image 1366 saved at: result_ldm_original_nonseparate/100_steps/generated_image_1366.png\n",
      "Image 1367 saved at: result_ldm_original_nonseparate/100_steps/generated_image_1367.png\n",
      "Image 1368 saved at: result_ldm_original_nonseparate/100_steps/generated_image_1368.png\n",
      "Image 1369 saved at: result_ldm_original_nonseparate/100_steps/generated_image_1369.png\n",
      "Image 1370 saved at: result_ldm_original_nonseparate/100_steps/generated_image_1370.png\n"
     ]
    },
    {
     "data": {
      "application/vnd.jupyter.widget-view+json": {
       "model_id": "f8f57b55600242ae989b58bb58e5e9d2",
       "version_major": 2,
       "version_minor": 0
      },
      "text/plain": [
       "  0%|          | 0/100 [00:00<?, ?it/s]"
      ]
     },
     "metadata": {},
     "output_type": "display_data"
    },
    {
     "name": "stdout",
     "output_type": "stream",
     "text": [
      "Image 1371 saved at: result_ldm_original_nonseparate/100_steps/generated_image_1371.png\n",
      "Image 1372 saved at: result_ldm_original_nonseparate/100_steps/generated_image_1372.png\n",
      "Image 1373 saved at: result_ldm_original_nonseparate/100_steps/generated_image_1373.png\n",
      "Image 1374 saved at: result_ldm_original_nonseparate/100_steps/generated_image_1374.png\n",
      "Image 1375 saved at: result_ldm_original_nonseparate/100_steps/generated_image_1375.png\n",
      "Image 1376 saved at: result_ldm_original_nonseparate/100_steps/generated_image_1376.png\n",
      "Image 1377 saved at: result_ldm_original_nonseparate/100_steps/generated_image_1377.png\n",
      "Image 1378 saved at: result_ldm_original_nonseparate/100_steps/generated_image_1378.png\n",
      "Image 1379 saved at: result_ldm_original_nonseparate/100_steps/generated_image_1379.png\n",
      "Image 1380 saved at: result_ldm_original_nonseparate/100_steps/generated_image_1380.png\n"
     ]
    },
    {
     "data": {
      "application/vnd.jupyter.widget-view+json": {
       "model_id": "3637497b30b14e4eb08e1447198338d0",
       "version_major": 2,
       "version_minor": 0
      },
      "text/plain": [
       "  0%|          | 0/100 [00:00<?, ?it/s]"
      ]
     },
     "metadata": {},
     "output_type": "display_data"
    },
    {
     "name": "stdout",
     "output_type": "stream",
     "text": [
      "Image 1381 saved at: result_ldm_original_nonseparate/100_steps/generated_image_1381.png\n",
      "Image 1382 saved at: result_ldm_original_nonseparate/100_steps/generated_image_1382.png\n",
      "Image 1383 saved at: result_ldm_original_nonseparate/100_steps/generated_image_1383.png\n",
      "Image 1384 saved at: result_ldm_original_nonseparate/100_steps/generated_image_1384.png\n",
      "Image 1385 saved at: result_ldm_original_nonseparate/100_steps/generated_image_1385.png\n",
      "Image 1386 saved at: result_ldm_original_nonseparate/100_steps/generated_image_1386.png\n",
      "Image 1387 saved at: result_ldm_original_nonseparate/100_steps/generated_image_1387.png\n",
      "Image 1388 saved at: result_ldm_original_nonseparate/100_steps/generated_image_1388.png\n",
      "Image 1389 saved at: result_ldm_original_nonseparate/100_steps/generated_image_1389.png\n",
      "Image 1390 saved at: result_ldm_original_nonseparate/100_steps/generated_image_1390.png\n"
     ]
    },
    {
     "data": {
      "application/vnd.jupyter.widget-view+json": {
       "model_id": "11bb58e833c14340aa1e9ae274c64862",
       "version_major": 2,
       "version_minor": 0
      },
      "text/plain": [
       "  0%|          | 0/100 [00:00<?, ?it/s]"
      ]
     },
     "metadata": {},
     "output_type": "display_data"
    },
    {
     "name": "stdout",
     "output_type": "stream",
     "text": [
      "Image 1391 saved at: result_ldm_original_nonseparate/100_steps/generated_image_1391.png\n",
      "Image 1392 saved at: result_ldm_original_nonseparate/100_steps/generated_image_1392.png\n",
      "Image 1393 saved at: result_ldm_original_nonseparate/100_steps/generated_image_1393.png\n",
      "Image 1394 saved at: result_ldm_original_nonseparate/100_steps/generated_image_1394.png\n",
      "Image 1395 saved at: result_ldm_original_nonseparate/100_steps/generated_image_1395.png\n",
      "Image 1396 saved at: result_ldm_original_nonseparate/100_steps/generated_image_1396.png\n",
      "Image 1397 saved at: result_ldm_original_nonseparate/100_steps/generated_image_1397.png\n",
      "Image 1398 saved at: result_ldm_original_nonseparate/100_steps/generated_image_1398.png\n",
      "Image 1399 saved at: result_ldm_original_nonseparate/100_steps/generated_image_1399.png\n",
      "Image 1400 saved at: result_ldm_original_nonseparate/100_steps/generated_image_1400.png\n"
     ]
    },
    {
     "data": {
      "application/vnd.jupyter.widget-view+json": {
       "model_id": "72717095369c402593e4b373bb70db78",
       "version_major": 2,
       "version_minor": 0
      },
      "text/plain": [
       "  0%|          | 0/100 [00:00<?, ?it/s]"
      ]
     },
     "metadata": {},
     "output_type": "display_data"
    },
    {
     "name": "stdout",
     "output_type": "stream",
     "text": [
      "Image 1401 saved at: result_ldm_original_nonseparate/100_steps/generated_image_1401.png\n",
      "Image 1402 saved at: result_ldm_original_nonseparate/100_steps/generated_image_1402.png\n",
      "Image 1403 saved at: result_ldm_original_nonseparate/100_steps/generated_image_1403.png\n",
      "Image 1404 saved at: result_ldm_original_nonseparate/100_steps/generated_image_1404.png\n",
      "Image 1405 saved at: result_ldm_original_nonseparate/100_steps/generated_image_1405.png\n",
      "Image 1406 saved at: result_ldm_original_nonseparate/100_steps/generated_image_1406.png\n",
      "Image 1407 saved at: result_ldm_original_nonseparate/100_steps/generated_image_1407.png\n",
      "Image 1408 saved at: result_ldm_original_nonseparate/100_steps/generated_image_1408.png\n",
      "Image 1409 saved at: result_ldm_original_nonseparate/100_steps/generated_image_1409.png\n",
      "Image 1410 saved at: result_ldm_original_nonseparate/100_steps/generated_image_1410.png\n"
     ]
    },
    {
     "data": {
      "application/vnd.jupyter.widget-view+json": {
       "model_id": "e5ae2020eab9422181d332ae0336a079",
       "version_major": 2,
       "version_minor": 0
      },
      "text/plain": [
       "  0%|          | 0/100 [00:00<?, ?it/s]"
      ]
     },
     "metadata": {},
     "output_type": "display_data"
    },
    {
     "name": "stdout",
     "output_type": "stream",
     "text": [
      "Image 1411 saved at: result_ldm_original_nonseparate/100_steps/generated_image_1411.png\n",
      "Image 1412 saved at: result_ldm_original_nonseparate/100_steps/generated_image_1412.png\n",
      "Image 1413 saved at: result_ldm_original_nonseparate/100_steps/generated_image_1413.png\n",
      "Image 1414 saved at: result_ldm_original_nonseparate/100_steps/generated_image_1414.png\n",
      "Image 1415 saved at: result_ldm_original_nonseparate/100_steps/generated_image_1415.png\n",
      "Image 1416 saved at: result_ldm_original_nonseparate/100_steps/generated_image_1416.png\n",
      "Image 1417 saved at: result_ldm_original_nonseparate/100_steps/generated_image_1417.png\n",
      "Image 1418 saved at: result_ldm_original_nonseparate/100_steps/generated_image_1418.png\n",
      "Image 1419 saved at: result_ldm_original_nonseparate/100_steps/generated_image_1419.png\n",
      "Image 1420 saved at: result_ldm_original_nonseparate/100_steps/generated_image_1420.png\n"
     ]
    },
    {
     "data": {
      "application/vnd.jupyter.widget-view+json": {
       "model_id": "5d2573a7610148c4b0a6dc8a6a910c95",
       "version_major": 2,
       "version_minor": 0
      },
      "text/plain": [
       "  0%|          | 0/100 [00:00<?, ?it/s]"
      ]
     },
     "metadata": {},
     "output_type": "display_data"
    },
    {
     "name": "stdout",
     "output_type": "stream",
     "text": [
      "Image 1421 saved at: result_ldm_original_nonseparate/100_steps/generated_image_1421.png\n",
      "Image 1422 saved at: result_ldm_original_nonseparate/100_steps/generated_image_1422.png\n",
      "Image 1423 saved at: result_ldm_original_nonseparate/100_steps/generated_image_1423.png\n",
      "Image 1424 saved at: result_ldm_original_nonseparate/100_steps/generated_image_1424.png\n",
      "Image 1425 saved at: result_ldm_original_nonseparate/100_steps/generated_image_1425.png\n",
      "Image 1426 saved at: result_ldm_original_nonseparate/100_steps/generated_image_1426.png\n",
      "Image 1427 saved at: result_ldm_original_nonseparate/100_steps/generated_image_1427.png\n",
      "Image 1428 saved at: result_ldm_original_nonseparate/100_steps/generated_image_1428.png\n",
      "Image 1429 saved at: result_ldm_original_nonseparate/100_steps/generated_image_1429.png\n",
      "Image 1430 saved at: result_ldm_original_nonseparate/100_steps/generated_image_1430.png\n"
     ]
    },
    {
     "data": {
      "application/vnd.jupyter.widget-view+json": {
       "model_id": "f90e373ab0ae4e28a49f5dcd918cec4f",
       "version_major": 2,
       "version_minor": 0
      },
      "text/plain": [
       "  0%|          | 0/100 [00:00<?, ?it/s]"
      ]
     },
     "metadata": {},
     "output_type": "display_data"
    },
    {
     "name": "stdout",
     "output_type": "stream",
     "text": [
      "Image 1431 saved at: result_ldm_original_nonseparate/100_steps/generated_image_1431.png\n",
      "Image 1432 saved at: result_ldm_original_nonseparate/100_steps/generated_image_1432.png\n",
      "Image 1433 saved at: result_ldm_original_nonseparate/100_steps/generated_image_1433.png\n",
      "Image 1434 saved at: result_ldm_original_nonseparate/100_steps/generated_image_1434.png\n",
      "Image 1435 saved at: result_ldm_original_nonseparate/100_steps/generated_image_1435.png\n",
      "Image 1436 saved at: result_ldm_original_nonseparate/100_steps/generated_image_1436.png\n",
      "Image 1437 saved at: result_ldm_original_nonseparate/100_steps/generated_image_1437.png\n",
      "Image 1438 saved at: result_ldm_original_nonseparate/100_steps/generated_image_1438.png\n",
      "Image 1439 saved at: result_ldm_original_nonseparate/100_steps/generated_image_1439.png\n",
      "Image 1440 saved at: result_ldm_original_nonseparate/100_steps/generated_image_1440.png\n"
     ]
    },
    {
     "data": {
      "application/vnd.jupyter.widget-view+json": {
       "model_id": "fad3e3daa3ea4e0c91701312417474f2",
       "version_major": 2,
       "version_minor": 0
      },
      "text/plain": [
       "  0%|          | 0/100 [00:00<?, ?it/s]"
      ]
     },
     "metadata": {},
     "output_type": "display_data"
    },
    {
     "name": "stdout",
     "output_type": "stream",
     "text": [
      "Image 1441 saved at: result_ldm_original_nonseparate/100_steps/generated_image_1441.png\n",
      "Image 1442 saved at: result_ldm_original_nonseparate/100_steps/generated_image_1442.png\n",
      "Image 1443 saved at: result_ldm_original_nonseparate/100_steps/generated_image_1443.png\n",
      "Image 1444 saved at: result_ldm_original_nonseparate/100_steps/generated_image_1444.png\n",
      "Image 1445 saved at: result_ldm_original_nonseparate/100_steps/generated_image_1445.png\n",
      "Image 1446 saved at: result_ldm_original_nonseparate/100_steps/generated_image_1446.png\n",
      "Image 1447 saved at: result_ldm_original_nonseparate/100_steps/generated_image_1447.png\n",
      "Image 1448 saved at: result_ldm_original_nonseparate/100_steps/generated_image_1448.png\n",
      "Image 1449 saved at: result_ldm_original_nonseparate/100_steps/generated_image_1449.png\n",
      "Image 1450 saved at: result_ldm_original_nonseparate/100_steps/generated_image_1450.png\n"
     ]
    },
    {
     "data": {
      "application/vnd.jupyter.widget-view+json": {
       "model_id": "8a5a369adcb64e8e9d6bf1b4915a3ebb",
       "version_major": 2,
       "version_minor": 0
      },
      "text/plain": [
       "  0%|          | 0/100 [00:00<?, ?it/s]"
      ]
     },
     "metadata": {},
     "output_type": "display_data"
    },
    {
     "name": "stdout",
     "output_type": "stream",
     "text": [
      "Image 1451 saved at: result_ldm_original_nonseparate/100_steps/generated_image_1451.png\n",
      "Image 1452 saved at: result_ldm_original_nonseparate/100_steps/generated_image_1452.png\n",
      "Image 1453 saved at: result_ldm_original_nonseparate/100_steps/generated_image_1453.png\n",
      "Image 1454 saved at: result_ldm_original_nonseparate/100_steps/generated_image_1454.png\n",
      "Image 1455 saved at: result_ldm_original_nonseparate/100_steps/generated_image_1455.png\n",
      "Image 1456 saved at: result_ldm_original_nonseparate/100_steps/generated_image_1456.png\n",
      "Image 1457 saved at: result_ldm_original_nonseparate/100_steps/generated_image_1457.png\n",
      "Image 1458 saved at: result_ldm_original_nonseparate/100_steps/generated_image_1458.png\n",
      "Image 1459 saved at: result_ldm_original_nonseparate/100_steps/generated_image_1459.png\n",
      "Image 1460 saved at: result_ldm_original_nonseparate/100_steps/generated_image_1460.png\n"
     ]
    },
    {
     "data": {
      "application/vnd.jupyter.widget-view+json": {
       "model_id": "30748c66d805482e9d37891a98f9b4bd",
       "version_major": 2,
       "version_minor": 0
      },
      "text/plain": [
       "  0%|          | 0/100 [00:00<?, ?it/s]"
      ]
     },
     "metadata": {},
     "output_type": "display_data"
    },
    {
     "name": "stdout",
     "output_type": "stream",
     "text": [
      "Image 1461 saved at: result_ldm_original_nonseparate/100_steps/generated_image_1461.png\n",
      "Image 1462 saved at: result_ldm_original_nonseparate/100_steps/generated_image_1462.png\n",
      "Image 1463 saved at: result_ldm_original_nonseparate/100_steps/generated_image_1463.png\n",
      "Image 1464 saved at: result_ldm_original_nonseparate/100_steps/generated_image_1464.png\n",
      "Image 1465 saved at: result_ldm_original_nonseparate/100_steps/generated_image_1465.png\n",
      "Image 1466 saved at: result_ldm_original_nonseparate/100_steps/generated_image_1466.png\n",
      "Image 1467 saved at: result_ldm_original_nonseparate/100_steps/generated_image_1467.png\n",
      "Image 1468 saved at: result_ldm_original_nonseparate/100_steps/generated_image_1468.png\n",
      "Image 1469 saved at: result_ldm_original_nonseparate/100_steps/generated_image_1469.png\n",
      "Image 1470 saved at: result_ldm_original_nonseparate/100_steps/generated_image_1470.png\n"
     ]
    },
    {
     "data": {
      "application/vnd.jupyter.widget-view+json": {
       "model_id": "dc41f133c8354e6d9214ee69024cad73",
       "version_major": 2,
       "version_minor": 0
      },
      "text/plain": [
       "  0%|          | 0/100 [00:00<?, ?it/s]"
      ]
     },
     "metadata": {},
     "output_type": "display_data"
    },
    {
     "name": "stdout",
     "output_type": "stream",
     "text": [
      "Image 1471 saved at: result_ldm_original_nonseparate/100_steps/generated_image_1471.png\n",
      "Image 1472 saved at: result_ldm_original_nonseparate/100_steps/generated_image_1472.png\n",
      "Image 1473 saved at: result_ldm_original_nonseparate/100_steps/generated_image_1473.png\n",
      "Image 1474 saved at: result_ldm_original_nonseparate/100_steps/generated_image_1474.png\n",
      "Image 1475 saved at: result_ldm_original_nonseparate/100_steps/generated_image_1475.png\n",
      "Image 1476 saved at: result_ldm_original_nonseparate/100_steps/generated_image_1476.png\n",
      "Image 1477 saved at: result_ldm_original_nonseparate/100_steps/generated_image_1477.png\n",
      "Image 1478 saved at: result_ldm_original_nonseparate/100_steps/generated_image_1478.png\n",
      "Image 1479 saved at: result_ldm_original_nonseparate/100_steps/generated_image_1479.png\n",
      "Image 1480 saved at: result_ldm_original_nonseparate/100_steps/generated_image_1480.png\n"
     ]
    },
    {
     "data": {
      "application/vnd.jupyter.widget-view+json": {
       "model_id": "7f6357de39e64c8996434cf36fcc934c",
       "version_major": 2,
       "version_minor": 0
      },
      "text/plain": [
       "  0%|          | 0/100 [00:00<?, ?it/s]"
      ]
     },
     "metadata": {},
     "output_type": "display_data"
    },
    {
     "name": "stdout",
     "output_type": "stream",
     "text": [
      "Image 1481 saved at: result_ldm_original_nonseparate/100_steps/generated_image_1481.png\n",
      "Image 1482 saved at: result_ldm_original_nonseparate/100_steps/generated_image_1482.png\n",
      "Image 1483 saved at: result_ldm_original_nonseparate/100_steps/generated_image_1483.png\n",
      "Image 1484 saved at: result_ldm_original_nonseparate/100_steps/generated_image_1484.png\n",
      "Image 1485 saved at: result_ldm_original_nonseparate/100_steps/generated_image_1485.png\n",
      "Image 1486 saved at: result_ldm_original_nonseparate/100_steps/generated_image_1486.png\n",
      "Image 1487 saved at: result_ldm_original_nonseparate/100_steps/generated_image_1487.png\n",
      "Image 1488 saved at: result_ldm_original_nonseparate/100_steps/generated_image_1488.png\n",
      "Image 1489 saved at: result_ldm_original_nonseparate/100_steps/generated_image_1489.png\n",
      "Image 1490 saved at: result_ldm_original_nonseparate/100_steps/generated_image_1490.png\n"
     ]
    },
    {
     "data": {
      "application/vnd.jupyter.widget-view+json": {
       "model_id": "ec240226b49b4735937866fc5dc286cc",
       "version_major": 2,
       "version_minor": 0
      },
      "text/plain": [
       "  0%|          | 0/100 [00:00<?, ?it/s]"
      ]
     },
     "metadata": {},
     "output_type": "display_data"
    },
    {
     "name": "stdout",
     "output_type": "stream",
     "text": [
      "Image 1491 saved at: result_ldm_original_nonseparate/100_steps/generated_image_1491.png\n",
      "Image 1492 saved at: result_ldm_original_nonseparate/100_steps/generated_image_1492.png\n",
      "Image 1493 saved at: result_ldm_original_nonseparate/100_steps/generated_image_1493.png\n",
      "Image 1494 saved at: result_ldm_original_nonseparate/100_steps/generated_image_1494.png\n",
      "Image 1495 saved at: result_ldm_original_nonseparate/100_steps/generated_image_1495.png\n",
      "Image 1496 saved at: result_ldm_original_nonseparate/100_steps/generated_image_1496.png\n",
      "Image 1497 saved at: result_ldm_original_nonseparate/100_steps/generated_image_1497.png\n",
      "Image 1498 saved at: result_ldm_original_nonseparate/100_steps/generated_image_1498.png\n",
      "Image 1499 saved at: result_ldm_original_nonseparate/100_steps/generated_image_1499.png\n",
      "Image 1500 saved at: result_ldm_original_nonseparate/100_steps/generated_image_1500.png\n"
     ]
    },
    {
     "data": {
      "application/vnd.jupyter.widget-view+json": {
       "model_id": "0f26a473a8b649d3b8ac292a55301d36",
       "version_major": 2,
       "version_minor": 0
      },
      "text/plain": [
       "  0%|          | 0/100 [00:00<?, ?it/s]"
      ]
     },
     "metadata": {},
     "output_type": "display_data"
    },
    {
     "name": "stdout",
     "output_type": "stream",
     "text": [
      "Image 1501 saved at: result_ldm_original_nonseparate/100_steps/generated_image_1501.png\n",
      "Image 1502 saved at: result_ldm_original_nonseparate/100_steps/generated_image_1502.png\n",
      "Image 1503 saved at: result_ldm_original_nonseparate/100_steps/generated_image_1503.png\n",
      "Image 1504 saved at: result_ldm_original_nonseparate/100_steps/generated_image_1504.png\n",
      "Image 1505 saved at: result_ldm_original_nonseparate/100_steps/generated_image_1505.png\n",
      "Image 1506 saved at: result_ldm_original_nonseparate/100_steps/generated_image_1506.png\n",
      "Image 1507 saved at: result_ldm_original_nonseparate/100_steps/generated_image_1507.png\n",
      "Image 1508 saved at: result_ldm_original_nonseparate/100_steps/generated_image_1508.png\n",
      "Image 1509 saved at: result_ldm_original_nonseparate/100_steps/generated_image_1509.png\n",
      "Image 1510 saved at: result_ldm_original_nonseparate/100_steps/generated_image_1510.png\n"
     ]
    },
    {
     "data": {
      "application/vnd.jupyter.widget-view+json": {
       "model_id": "9bee4518eec0491ca1d4c9085ad74789",
       "version_major": 2,
       "version_minor": 0
      },
      "text/plain": [
       "  0%|          | 0/100 [00:00<?, ?it/s]"
      ]
     },
     "metadata": {},
     "output_type": "display_data"
    },
    {
     "name": "stdout",
     "output_type": "stream",
     "text": [
      "Image 1511 saved at: result_ldm_original_nonseparate/100_steps/generated_image_1511.png\n",
      "Image 1512 saved at: result_ldm_original_nonseparate/100_steps/generated_image_1512.png\n",
      "Image 1513 saved at: result_ldm_original_nonseparate/100_steps/generated_image_1513.png\n",
      "Image 1514 saved at: result_ldm_original_nonseparate/100_steps/generated_image_1514.png\n",
      "Image 1515 saved at: result_ldm_original_nonseparate/100_steps/generated_image_1515.png\n",
      "Image 1516 saved at: result_ldm_original_nonseparate/100_steps/generated_image_1516.png\n",
      "Image 1517 saved at: result_ldm_original_nonseparate/100_steps/generated_image_1517.png\n",
      "Image 1518 saved at: result_ldm_original_nonseparate/100_steps/generated_image_1518.png\n",
      "Image 1519 saved at: result_ldm_original_nonseparate/100_steps/generated_image_1519.png\n",
      "Image 1520 saved at: result_ldm_original_nonseparate/100_steps/generated_image_1520.png\n"
     ]
    },
    {
     "data": {
      "application/vnd.jupyter.widget-view+json": {
       "model_id": "c5e0fc6736f74b57a7e8e1abf59cfefe",
       "version_major": 2,
       "version_minor": 0
      },
      "text/plain": [
       "  0%|          | 0/100 [00:00<?, ?it/s]"
      ]
     },
     "metadata": {},
     "output_type": "display_data"
    },
    {
     "name": "stdout",
     "output_type": "stream",
     "text": [
      "Image 1521 saved at: result_ldm_original_nonseparate/100_steps/generated_image_1521.png\n",
      "Image 1522 saved at: result_ldm_original_nonseparate/100_steps/generated_image_1522.png\n",
      "Image 1523 saved at: result_ldm_original_nonseparate/100_steps/generated_image_1523.png\n",
      "Image 1524 saved at: result_ldm_original_nonseparate/100_steps/generated_image_1524.png\n",
      "Image 1525 saved at: result_ldm_original_nonseparate/100_steps/generated_image_1525.png\n",
      "Image 1526 saved at: result_ldm_original_nonseparate/100_steps/generated_image_1526.png\n",
      "Image 1527 saved at: result_ldm_original_nonseparate/100_steps/generated_image_1527.png\n",
      "Image 1528 saved at: result_ldm_original_nonseparate/100_steps/generated_image_1528.png\n",
      "Image 1529 saved at: result_ldm_original_nonseparate/100_steps/generated_image_1529.png\n",
      "Image 1530 saved at: result_ldm_original_nonseparate/100_steps/generated_image_1530.png\n"
     ]
    },
    {
     "data": {
      "application/vnd.jupyter.widget-view+json": {
       "model_id": "2aca13a059164077bb2d3113a771ea28",
       "version_major": 2,
       "version_minor": 0
      },
      "text/plain": [
       "  0%|          | 0/100 [00:00<?, ?it/s]"
      ]
     },
     "metadata": {},
     "output_type": "display_data"
    },
    {
     "name": "stdout",
     "output_type": "stream",
     "text": [
      "Image 1531 saved at: result_ldm_original_nonseparate/100_steps/generated_image_1531.png\n",
      "Image 1532 saved at: result_ldm_original_nonseparate/100_steps/generated_image_1532.png\n",
      "Image 1533 saved at: result_ldm_original_nonseparate/100_steps/generated_image_1533.png\n",
      "Image 1534 saved at: result_ldm_original_nonseparate/100_steps/generated_image_1534.png\n",
      "Image 1535 saved at: result_ldm_original_nonseparate/100_steps/generated_image_1535.png\n",
      "Image 1536 saved at: result_ldm_original_nonseparate/100_steps/generated_image_1536.png\n",
      "Image 1537 saved at: result_ldm_original_nonseparate/100_steps/generated_image_1537.png\n",
      "Image 1538 saved at: result_ldm_original_nonseparate/100_steps/generated_image_1538.png\n",
      "Image 1539 saved at: result_ldm_original_nonseparate/100_steps/generated_image_1539.png\n",
      "Image 1540 saved at: result_ldm_original_nonseparate/100_steps/generated_image_1540.png\n"
     ]
    },
    {
     "data": {
      "application/vnd.jupyter.widget-view+json": {
       "model_id": "af019caecbf24194bb83ae6d167f2470",
       "version_major": 2,
       "version_minor": 0
      },
      "text/plain": [
       "  0%|          | 0/100 [00:00<?, ?it/s]"
      ]
     },
     "metadata": {},
     "output_type": "display_data"
    },
    {
     "name": "stdout",
     "output_type": "stream",
     "text": [
      "Image 1541 saved at: result_ldm_original_nonseparate/100_steps/generated_image_1541.png\n",
      "Image 1542 saved at: result_ldm_original_nonseparate/100_steps/generated_image_1542.png\n",
      "Image 1543 saved at: result_ldm_original_nonseparate/100_steps/generated_image_1543.png\n",
      "Image 1544 saved at: result_ldm_original_nonseparate/100_steps/generated_image_1544.png\n",
      "Image 1545 saved at: result_ldm_original_nonseparate/100_steps/generated_image_1545.png\n",
      "Image 1546 saved at: result_ldm_original_nonseparate/100_steps/generated_image_1546.png\n",
      "Image 1547 saved at: result_ldm_original_nonseparate/100_steps/generated_image_1547.png\n",
      "Image 1548 saved at: result_ldm_original_nonseparate/100_steps/generated_image_1548.png\n",
      "Image 1549 saved at: result_ldm_original_nonseparate/100_steps/generated_image_1549.png\n",
      "Image 1550 saved at: result_ldm_original_nonseparate/100_steps/generated_image_1550.png\n"
     ]
    },
    {
     "data": {
      "application/vnd.jupyter.widget-view+json": {
       "model_id": "49795cf2dd024d378d498e23d860c8ba",
       "version_major": 2,
       "version_minor": 0
      },
      "text/plain": [
       "  0%|          | 0/100 [00:00<?, ?it/s]"
      ]
     },
     "metadata": {},
     "output_type": "display_data"
    },
    {
     "name": "stdout",
     "output_type": "stream",
     "text": [
      "Image 1551 saved at: result_ldm_original_nonseparate/100_steps/generated_image_1551.png\n",
      "Image 1552 saved at: result_ldm_original_nonseparate/100_steps/generated_image_1552.png\n",
      "Image 1553 saved at: result_ldm_original_nonseparate/100_steps/generated_image_1553.png\n",
      "Image 1554 saved at: result_ldm_original_nonseparate/100_steps/generated_image_1554.png\n",
      "Image 1555 saved at: result_ldm_original_nonseparate/100_steps/generated_image_1555.png\n",
      "Image 1556 saved at: result_ldm_original_nonseparate/100_steps/generated_image_1556.png\n",
      "Image 1557 saved at: result_ldm_original_nonseparate/100_steps/generated_image_1557.png\n",
      "Image 1558 saved at: result_ldm_original_nonseparate/100_steps/generated_image_1558.png\n",
      "Image 1559 saved at: result_ldm_original_nonseparate/100_steps/generated_image_1559.png\n",
      "Image 1560 saved at: result_ldm_original_nonseparate/100_steps/generated_image_1560.png\n"
     ]
    },
    {
     "data": {
      "application/vnd.jupyter.widget-view+json": {
       "model_id": "d11269edba9243f4af35c4023275d1f6",
       "version_major": 2,
       "version_minor": 0
      },
      "text/plain": [
       "  0%|          | 0/100 [00:00<?, ?it/s]"
      ]
     },
     "metadata": {},
     "output_type": "display_data"
    },
    {
     "name": "stdout",
     "output_type": "stream",
     "text": [
      "Image 1561 saved at: result_ldm_original_nonseparate/100_steps/generated_image_1561.png\n",
      "Image 1562 saved at: result_ldm_original_nonseparate/100_steps/generated_image_1562.png\n",
      "Image 1563 saved at: result_ldm_original_nonseparate/100_steps/generated_image_1563.png\n",
      "Image 1564 saved at: result_ldm_original_nonseparate/100_steps/generated_image_1564.png\n",
      "Image 1565 saved at: result_ldm_original_nonseparate/100_steps/generated_image_1565.png\n",
      "Image 1566 saved at: result_ldm_original_nonseparate/100_steps/generated_image_1566.png\n",
      "Image 1567 saved at: result_ldm_original_nonseparate/100_steps/generated_image_1567.png\n",
      "Image 1568 saved at: result_ldm_original_nonseparate/100_steps/generated_image_1568.png\n",
      "Image 1569 saved at: result_ldm_original_nonseparate/100_steps/generated_image_1569.png\n",
      "Image 1570 saved at: result_ldm_original_nonseparate/100_steps/generated_image_1570.png\n"
     ]
    },
    {
     "data": {
      "application/vnd.jupyter.widget-view+json": {
       "model_id": "79a40bea64084583b03662247b0f87cc",
       "version_major": 2,
       "version_minor": 0
      },
      "text/plain": [
       "  0%|          | 0/100 [00:00<?, ?it/s]"
      ]
     },
     "metadata": {},
     "output_type": "display_data"
    },
    {
     "name": "stdout",
     "output_type": "stream",
     "text": [
      "Image 1571 saved at: result_ldm_original_nonseparate/100_steps/generated_image_1571.png\n",
      "Image 1572 saved at: result_ldm_original_nonseparate/100_steps/generated_image_1572.png\n",
      "Image 1573 saved at: result_ldm_original_nonseparate/100_steps/generated_image_1573.png\n",
      "Image 1574 saved at: result_ldm_original_nonseparate/100_steps/generated_image_1574.png\n",
      "Image 1575 saved at: result_ldm_original_nonseparate/100_steps/generated_image_1575.png\n",
      "Image 1576 saved at: result_ldm_original_nonseparate/100_steps/generated_image_1576.png\n",
      "Image 1577 saved at: result_ldm_original_nonseparate/100_steps/generated_image_1577.png\n",
      "Image 1578 saved at: result_ldm_original_nonseparate/100_steps/generated_image_1578.png\n",
      "Image 1579 saved at: result_ldm_original_nonseparate/100_steps/generated_image_1579.png\n",
      "Image 1580 saved at: result_ldm_original_nonseparate/100_steps/generated_image_1580.png\n"
     ]
    },
    {
     "data": {
      "application/vnd.jupyter.widget-view+json": {
       "model_id": "fc6ebfeef4d8420eb6ceae292dd54479",
       "version_major": 2,
       "version_minor": 0
      },
      "text/plain": [
       "  0%|          | 0/100 [00:00<?, ?it/s]"
      ]
     },
     "metadata": {},
     "output_type": "display_data"
    },
    {
     "name": "stdout",
     "output_type": "stream",
     "text": [
      "Image 1581 saved at: result_ldm_original_nonseparate/100_steps/generated_image_1581.png\n",
      "Image 1582 saved at: result_ldm_original_nonseparate/100_steps/generated_image_1582.png\n",
      "Image 1583 saved at: result_ldm_original_nonseparate/100_steps/generated_image_1583.png\n",
      "Image 1584 saved at: result_ldm_original_nonseparate/100_steps/generated_image_1584.png\n",
      "Image 1585 saved at: result_ldm_original_nonseparate/100_steps/generated_image_1585.png\n",
      "Image 1586 saved at: result_ldm_original_nonseparate/100_steps/generated_image_1586.png\n",
      "Image 1587 saved at: result_ldm_original_nonseparate/100_steps/generated_image_1587.png\n",
      "Image 1588 saved at: result_ldm_original_nonseparate/100_steps/generated_image_1588.png\n",
      "Image 1589 saved at: result_ldm_original_nonseparate/100_steps/generated_image_1589.png\n",
      "Image 1590 saved at: result_ldm_original_nonseparate/100_steps/generated_image_1590.png\n"
     ]
    },
    {
     "data": {
      "application/vnd.jupyter.widget-view+json": {
       "model_id": "991e1e7751d041ef98dc4f47f8b551d9",
       "version_major": 2,
       "version_minor": 0
      },
      "text/plain": [
       "  0%|          | 0/100 [00:00<?, ?it/s]"
      ]
     },
     "metadata": {},
     "output_type": "display_data"
    },
    {
     "name": "stdout",
     "output_type": "stream",
     "text": [
      "Image 1591 saved at: result_ldm_original_nonseparate/100_steps/generated_image_1591.png\n",
      "Image 1592 saved at: result_ldm_original_nonseparate/100_steps/generated_image_1592.png\n",
      "Image 1593 saved at: result_ldm_original_nonseparate/100_steps/generated_image_1593.png\n",
      "Image 1594 saved at: result_ldm_original_nonseparate/100_steps/generated_image_1594.png\n",
      "Image 1595 saved at: result_ldm_original_nonseparate/100_steps/generated_image_1595.png\n",
      "Image 1596 saved at: result_ldm_original_nonseparate/100_steps/generated_image_1596.png\n",
      "Image 1597 saved at: result_ldm_original_nonseparate/100_steps/generated_image_1597.png\n",
      "Image 1598 saved at: result_ldm_original_nonseparate/100_steps/generated_image_1598.png\n",
      "Image 1599 saved at: result_ldm_original_nonseparate/100_steps/generated_image_1599.png\n",
      "Image 1600 saved at: result_ldm_original_nonseparate/100_steps/generated_image_1600.png\n"
     ]
    },
    {
     "data": {
      "application/vnd.jupyter.widget-view+json": {
       "model_id": "29cb7f1c0f89448c86fc30da860d2343",
       "version_major": 2,
       "version_minor": 0
      },
      "text/plain": [
       "  0%|          | 0/100 [00:00<?, ?it/s]"
      ]
     },
     "metadata": {},
     "output_type": "display_data"
    },
    {
     "name": "stdout",
     "output_type": "stream",
     "text": [
      "Image 1601 saved at: result_ldm_original_nonseparate/100_steps/generated_image_1601.png\n",
      "Image 1602 saved at: result_ldm_original_nonseparate/100_steps/generated_image_1602.png\n",
      "Image 1603 saved at: result_ldm_original_nonseparate/100_steps/generated_image_1603.png\n",
      "Image 1604 saved at: result_ldm_original_nonseparate/100_steps/generated_image_1604.png\n",
      "Image 1605 saved at: result_ldm_original_nonseparate/100_steps/generated_image_1605.png\n",
      "Image 1606 saved at: result_ldm_original_nonseparate/100_steps/generated_image_1606.png\n",
      "Image 1607 saved at: result_ldm_original_nonseparate/100_steps/generated_image_1607.png\n",
      "Image 1608 saved at: result_ldm_original_nonseparate/100_steps/generated_image_1608.png\n",
      "Image 1609 saved at: result_ldm_original_nonseparate/100_steps/generated_image_1609.png\n",
      "Image 1610 saved at: result_ldm_original_nonseparate/100_steps/generated_image_1610.png\n"
     ]
    },
    {
     "data": {
      "application/vnd.jupyter.widget-view+json": {
       "model_id": "189174bf0a564825b5f236ab8811e528",
       "version_major": 2,
       "version_minor": 0
      },
      "text/plain": [
       "  0%|          | 0/100 [00:00<?, ?it/s]"
      ]
     },
     "metadata": {},
     "output_type": "display_data"
    },
    {
     "name": "stdout",
     "output_type": "stream",
     "text": [
      "Image 1611 saved at: result_ldm_original_nonseparate/100_steps/generated_image_1611.png\n",
      "Image 1612 saved at: result_ldm_original_nonseparate/100_steps/generated_image_1612.png\n",
      "Image 1613 saved at: result_ldm_original_nonseparate/100_steps/generated_image_1613.png\n",
      "Image 1614 saved at: result_ldm_original_nonseparate/100_steps/generated_image_1614.png\n",
      "Image 1615 saved at: result_ldm_original_nonseparate/100_steps/generated_image_1615.png\n",
      "Image 1616 saved at: result_ldm_original_nonseparate/100_steps/generated_image_1616.png\n",
      "Image 1617 saved at: result_ldm_original_nonseparate/100_steps/generated_image_1617.png\n",
      "Image 1618 saved at: result_ldm_original_nonseparate/100_steps/generated_image_1618.png\n",
      "Image 1619 saved at: result_ldm_original_nonseparate/100_steps/generated_image_1619.png\n",
      "Image 1620 saved at: result_ldm_original_nonseparate/100_steps/generated_image_1620.png\n"
     ]
    },
    {
     "data": {
      "application/vnd.jupyter.widget-view+json": {
       "model_id": "8f433e1379a34ab09fff13dc159332e6",
       "version_major": 2,
       "version_minor": 0
      },
      "text/plain": [
       "  0%|          | 0/100 [00:00<?, ?it/s]"
      ]
     },
     "metadata": {},
     "output_type": "display_data"
    },
    {
     "name": "stdout",
     "output_type": "stream",
     "text": [
      "Image 1621 saved at: result_ldm_original_nonseparate/100_steps/generated_image_1621.png\n",
      "Image 1622 saved at: result_ldm_original_nonseparate/100_steps/generated_image_1622.png\n",
      "Image 1623 saved at: result_ldm_original_nonseparate/100_steps/generated_image_1623.png\n",
      "Image 1624 saved at: result_ldm_original_nonseparate/100_steps/generated_image_1624.png\n",
      "Image 1625 saved at: result_ldm_original_nonseparate/100_steps/generated_image_1625.png\n",
      "Image 1626 saved at: result_ldm_original_nonseparate/100_steps/generated_image_1626.png\n",
      "Image 1627 saved at: result_ldm_original_nonseparate/100_steps/generated_image_1627.png\n",
      "Image 1628 saved at: result_ldm_original_nonseparate/100_steps/generated_image_1628.png\n",
      "Image 1629 saved at: result_ldm_original_nonseparate/100_steps/generated_image_1629.png\n",
      "Image 1630 saved at: result_ldm_original_nonseparate/100_steps/generated_image_1630.png\n"
     ]
    },
    {
     "data": {
      "application/vnd.jupyter.widget-view+json": {
       "model_id": "7cb41ff38cd541b5b7088d099cad8390",
       "version_major": 2,
       "version_minor": 0
      },
      "text/plain": [
       "  0%|          | 0/100 [00:00<?, ?it/s]"
      ]
     },
     "metadata": {},
     "output_type": "display_data"
    },
    {
     "ename": "KeyboardInterrupt",
     "evalue": "",
     "output_type": "error",
     "traceback": [
      "\u001b[0;31m---------------------------------------------------------------------------\u001b[0m",
      "\u001b[0;31mKeyboardInterrupt\u001b[0m                         Traceback (most recent call last)",
      "Cell \u001b[0;32mIn[1], line 48\u001b[0m\n\u001b[1;32m     45\u001b[0m                 \u001b[38;5;28mprint\u001b[39m(\u001b[38;5;124mf\u001b[39m\u001b[38;5;124m\"\u001b[39m\u001b[38;5;124mImage \u001b[39m\u001b[38;5;132;01m{\u001b[39;00mbatch_idx\u001b[38;5;250m \u001b[39m\u001b[38;5;241m*\u001b[39m\u001b[38;5;250m \u001b[39mnum_images\u001b[38;5;250m \u001b[39m\u001b[38;5;241m+\u001b[39m\u001b[38;5;250m \u001b[39mi\u001b[38;5;250m \u001b[39m\u001b[38;5;241m+\u001b[39m\u001b[38;5;250m \u001b[39m\u001b[38;5;241m1\u001b[39m\u001b[38;5;132;01m}\u001b[39;00m\u001b[38;5;124m saved at: \u001b[39m\u001b[38;5;132;01m{\u001b[39;00mimg_path\u001b[38;5;132;01m}\u001b[39;00m\u001b[38;5;124m\"\u001b[39m)\n\u001b[1;32m     47\u001b[0m \u001b[38;5;66;03m# Example usage:\u001b[39;00m\n\u001b[0;32m---> 48\u001b[0m \u001b[43mgenerate_sample_images\u001b[49m\u001b[43m(\u001b[49m\u001b[43mpipeline\u001b[49m\u001b[43m,\u001b[49m\u001b[43m \u001b[49m\u001b[43mnum_images\u001b[49m\u001b[38;5;241;43m=\u001b[39;49m\u001b[38;5;241;43m10\u001b[39;49m\u001b[43m,\u001b[49m\u001b[43m \u001b[49m\u001b[43mnum_inference_steps_list\u001b[49m\u001b[38;5;241;43m=\u001b[39;49m\u001b[43m[\u001b[49m\u001b[38;5;241;43m100\u001b[39;49m\u001b[43m]\u001b[49m\u001b[43m,\u001b[49m\u001b[43m \u001b[49m\u001b[43mnum_samples\u001b[49m\u001b[38;5;241;43m=\u001b[39;49m\u001b[38;5;241;43m5000\u001b[39;49m\u001b[43m)\u001b[49m\n",
      "Cell \u001b[0;32mIn[1], line 36\u001b[0m, in \u001b[0;36mgenerate_sample_images\u001b[0;34m(pipeline, num_images, num_inference_steps_list, num_samples)\u001b[0m\n\u001b[1;32m     33\u001b[0m \u001b[38;5;28;01mfor\u001b[39;00m batch_idx \u001b[38;5;129;01min\u001b[39;00m \u001b[38;5;28mrange\u001b[39m(num_batches):\n\u001b[1;32m     34\u001b[0m     \u001b[38;5;28;01mwith\u001b[39;00m torch\u001b[38;5;241m.\u001b[39mno_grad():\n\u001b[1;32m     35\u001b[0m         \u001b[38;5;66;03m# Generate images using the pipeline\u001b[39;00m\n\u001b[0;32m---> 36\u001b[0m         generated_images \u001b[38;5;241m=\u001b[39m \u001b[43mpipeline\u001b[49m\u001b[43m(\u001b[49m\u001b[43mbatch_size\u001b[49m\u001b[38;5;241;43m=\u001b[39;49m\u001b[43mnum_images\u001b[49m\u001b[43m,\u001b[49m\u001b[43m \u001b[49m\u001b[43mnum_inference_steps\u001b[49m\u001b[38;5;241;43m=\u001b[39;49m\u001b[43mnum_inference_steps\u001b[49m\u001b[43m)\u001b[49m\u001b[38;5;241m.\u001b[39mimages\n\u001b[1;32m     38\u001b[0m     \u001b[38;5;66;03m# Save each generated image to the corresponding subfolder\u001b[39;00m\n\u001b[1;32m     39\u001b[0m     \u001b[38;5;28;01mfor\u001b[39;00m i, img \u001b[38;5;129;01min\u001b[39;00m \u001b[38;5;28menumerate\u001b[39m(generated_images):\n\u001b[1;32m     40\u001b[0m         \u001b[38;5;66;03m# Create a filename for the image\u001b[39;00m\n",
      "File \u001b[0;32m~/anaconda3/envs/sgrs/lib/python3.11/site-packages/torch/utils/_contextlib.py:115\u001b[0m, in \u001b[0;36mcontext_decorator.<locals>.decorate_context\u001b[0;34m(*args, **kwargs)\u001b[0m\n\u001b[1;32m    112\u001b[0m \u001b[38;5;129m@functools\u001b[39m\u001b[38;5;241m.\u001b[39mwraps(func)\n\u001b[1;32m    113\u001b[0m \u001b[38;5;28;01mdef\u001b[39;00m \u001b[38;5;21mdecorate_context\u001b[39m(\u001b[38;5;241m*\u001b[39margs, \u001b[38;5;241m*\u001b[39m\u001b[38;5;241m*\u001b[39mkwargs):\n\u001b[1;32m    114\u001b[0m     \u001b[38;5;28;01mwith\u001b[39;00m ctx_factory():\n\u001b[0;32m--> 115\u001b[0m         \u001b[38;5;28;01mreturn\u001b[39;00m \u001b[43mfunc\u001b[49m\u001b[43m(\u001b[49m\u001b[38;5;241;43m*\u001b[39;49m\u001b[43margs\u001b[49m\u001b[43m,\u001b[49m\u001b[43m \u001b[49m\u001b[38;5;241;43m*\u001b[39;49m\u001b[38;5;241;43m*\u001b[39;49m\u001b[43mkwargs\u001b[49m\u001b[43m)\u001b[49m\n",
      "File \u001b[0;32m~/anaconda3/envs/sgrs/lib/python3.11/site-packages/diffusers/pipelines/deprecated/latent_diffusion_uncond/pipeline_latent_diffusion_uncond.py:113\u001b[0m, in \u001b[0;36mLDMPipeline.__call__\u001b[0;34m(self, batch_size, generator, eta, num_inference_steps, output_type, return_dict, **kwargs)\u001b[0m\n\u001b[1;32m    111\u001b[0m latent_model_input \u001b[38;5;241m=\u001b[39m \u001b[38;5;28mself\u001b[39m\u001b[38;5;241m.\u001b[39mscheduler\u001b[38;5;241m.\u001b[39mscale_model_input(latents, t)\n\u001b[1;32m    112\u001b[0m \u001b[38;5;66;03m# predict the noise residual\u001b[39;00m\n\u001b[0;32m--> 113\u001b[0m noise_prediction \u001b[38;5;241m=\u001b[39m \u001b[38;5;28;43mself\u001b[39;49m\u001b[38;5;241;43m.\u001b[39;49m\u001b[43munet\u001b[49m\u001b[43m(\u001b[49m\u001b[43mlatent_model_input\u001b[49m\u001b[43m,\u001b[49m\u001b[43m \u001b[49m\u001b[43mt\u001b[49m\u001b[43m)\u001b[49m\u001b[38;5;241m.\u001b[39msample\n\u001b[1;32m    114\u001b[0m \u001b[38;5;66;03m# compute the previous noisy sample x_t -> x_t-1\u001b[39;00m\n\u001b[1;32m    115\u001b[0m latents \u001b[38;5;241m=\u001b[39m \u001b[38;5;28mself\u001b[39m\u001b[38;5;241m.\u001b[39mscheduler\u001b[38;5;241m.\u001b[39mstep(noise_prediction, t, latents, \u001b[38;5;241m*\u001b[39m\u001b[38;5;241m*\u001b[39mextra_kwargs)\u001b[38;5;241m.\u001b[39mprev_sample\n",
      "File \u001b[0;32m~/anaconda3/envs/sgrs/lib/python3.11/site-packages/torch/nn/modules/module.py:1518\u001b[0m, in \u001b[0;36mModule._wrapped_call_impl\u001b[0;34m(self, *args, **kwargs)\u001b[0m\n\u001b[1;32m   1516\u001b[0m     \u001b[38;5;28;01mreturn\u001b[39;00m \u001b[38;5;28mself\u001b[39m\u001b[38;5;241m.\u001b[39m_compiled_call_impl(\u001b[38;5;241m*\u001b[39margs, \u001b[38;5;241m*\u001b[39m\u001b[38;5;241m*\u001b[39mkwargs)  \u001b[38;5;66;03m# type: ignore[misc]\u001b[39;00m\n\u001b[1;32m   1517\u001b[0m \u001b[38;5;28;01melse\u001b[39;00m:\n\u001b[0;32m-> 1518\u001b[0m     \u001b[38;5;28;01mreturn\u001b[39;00m \u001b[38;5;28;43mself\u001b[39;49m\u001b[38;5;241;43m.\u001b[39;49m\u001b[43m_call_impl\u001b[49m\u001b[43m(\u001b[49m\u001b[38;5;241;43m*\u001b[39;49m\u001b[43margs\u001b[49m\u001b[43m,\u001b[49m\u001b[43m \u001b[49m\u001b[38;5;241;43m*\u001b[39;49m\u001b[38;5;241;43m*\u001b[39;49m\u001b[43mkwargs\u001b[49m\u001b[43m)\u001b[49m\n",
      "File \u001b[0;32m~/anaconda3/envs/sgrs/lib/python3.11/site-packages/torch/nn/modules/module.py:1527\u001b[0m, in \u001b[0;36mModule._call_impl\u001b[0;34m(self, *args, **kwargs)\u001b[0m\n\u001b[1;32m   1522\u001b[0m \u001b[38;5;66;03m# If we don't have any hooks, we want to skip the rest of the logic in\u001b[39;00m\n\u001b[1;32m   1523\u001b[0m \u001b[38;5;66;03m# this function, and just call forward.\u001b[39;00m\n\u001b[1;32m   1524\u001b[0m \u001b[38;5;28;01mif\u001b[39;00m \u001b[38;5;129;01mnot\u001b[39;00m (\u001b[38;5;28mself\u001b[39m\u001b[38;5;241m.\u001b[39m_backward_hooks \u001b[38;5;129;01mor\u001b[39;00m \u001b[38;5;28mself\u001b[39m\u001b[38;5;241m.\u001b[39m_backward_pre_hooks \u001b[38;5;129;01mor\u001b[39;00m \u001b[38;5;28mself\u001b[39m\u001b[38;5;241m.\u001b[39m_forward_hooks \u001b[38;5;129;01mor\u001b[39;00m \u001b[38;5;28mself\u001b[39m\u001b[38;5;241m.\u001b[39m_forward_pre_hooks\n\u001b[1;32m   1525\u001b[0m         \u001b[38;5;129;01mor\u001b[39;00m _global_backward_pre_hooks \u001b[38;5;129;01mor\u001b[39;00m _global_backward_hooks\n\u001b[1;32m   1526\u001b[0m         \u001b[38;5;129;01mor\u001b[39;00m _global_forward_hooks \u001b[38;5;129;01mor\u001b[39;00m _global_forward_pre_hooks):\n\u001b[0;32m-> 1527\u001b[0m     \u001b[38;5;28;01mreturn\u001b[39;00m \u001b[43mforward_call\u001b[49m\u001b[43m(\u001b[49m\u001b[38;5;241;43m*\u001b[39;49m\u001b[43margs\u001b[49m\u001b[43m,\u001b[49m\u001b[43m \u001b[49m\u001b[38;5;241;43m*\u001b[39;49m\u001b[38;5;241;43m*\u001b[39;49m\u001b[43mkwargs\u001b[49m\u001b[43m)\u001b[49m\n\u001b[1;32m   1529\u001b[0m \u001b[38;5;28;01mtry\u001b[39;00m:\n\u001b[1;32m   1530\u001b[0m     result \u001b[38;5;241m=\u001b[39m \u001b[38;5;28;01mNone\u001b[39;00m\n",
      "File \u001b[0;32m~/anaconda3/envs/sgrs/lib/python3.11/site-packages/diffusers/models/unets/unet_2d.py:329\u001b[0m, in \u001b[0;36mUNet2DModel.forward\u001b[0;34m(self, sample, timestep, class_labels, return_dict)\u001b[0m\n\u001b[1;32m    327\u001b[0m         sample, skip_sample \u001b[38;5;241m=\u001b[39m upsample_block(sample, res_samples, emb, skip_sample)\n\u001b[1;32m    328\u001b[0m     \u001b[38;5;28;01melse\u001b[39;00m:\n\u001b[0;32m--> 329\u001b[0m         sample \u001b[38;5;241m=\u001b[39m \u001b[43mupsample_block\u001b[49m\u001b[43m(\u001b[49m\u001b[43msample\u001b[49m\u001b[43m,\u001b[49m\u001b[43m \u001b[49m\u001b[43mres_samples\u001b[49m\u001b[43m,\u001b[49m\u001b[43m \u001b[49m\u001b[43memb\u001b[49m\u001b[43m)\u001b[49m\n\u001b[1;32m    331\u001b[0m \u001b[38;5;66;03m# 6. post-process\u001b[39;00m\n\u001b[1;32m    332\u001b[0m sample \u001b[38;5;241m=\u001b[39m \u001b[38;5;28mself\u001b[39m\u001b[38;5;241m.\u001b[39mconv_norm_out(sample)\n",
      "File \u001b[0;32m~/anaconda3/envs/sgrs/lib/python3.11/site-packages/torch/nn/modules/module.py:1518\u001b[0m, in \u001b[0;36mModule._wrapped_call_impl\u001b[0;34m(self, *args, **kwargs)\u001b[0m\n\u001b[1;32m   1516\u001b[0m     \u001b[38;5;28;01mreturn\u001b[39;00m \u001b[38;5;28mself\u001b[39m\u001b[38;5;241m.\u001b[39m_compiled_call_impl(\u001b[38;5;241m*\u001b[39margs, \u001b[38;5;241m*\u001b[39m\u001b[38;5;241m*\u001b[39mkwargs)  \u001b[38;5;66;03m# type: ignore[misc]\u001b[39;00m\n\u001b[1;32m   1517\u001b[0m \u001b[38;5;28;01melse\u001b[39;00m:\n\u001b[0;32m-> 1518\u001b[0m     \u001b[38;5;28;01mreturn\u001b[39;00m \u001b[38;5;28;43mself\u001b[39;49m\u001b[38;5;241;43m.\u001b[39;49m\u001b[43m_call_impl\u001b[49m\u001b[43m(\u001b[49m\u001b[38;5;241;43m*\u001b[39;49m\u001b[43margs\u001b[49m\u001b[43m,\u001b[49m\u001b[43m \u001b[49m\u001b[38;5;241;43m*\u001b[39;49m\u001b[38;5;241;43m*\u001b[39;49m\u001b[43mkwargs\u001b[49m\u001b[43m)\u001b[49m\n",
      "File \u001b[0;32m~/anaconda3/envs/sgrs/lib/python3.11/site-packages/torch/nn/modules/module.py:1527\u001b[0m, in \u001b[0;36mModule._call_impl\u001b[0;34m(self, *args, **kwargs)\u001b[0m\n\u001b[1;32m   1522\u001b[0m \u001b[38;5;66;03m# If we don't have any hooks, we want to skip the rest of the logic in\u001b[39;00m\n\u001b[1;32m   1523\u001b[0m \u001b[38;5;66;03m# this function, and just call forward.\u001b[39;00m\n\u001b[1;32m   1524\u001b[0m \u001b[38;5;28;01mif\u001b[39;00m \u001b[38;5;129;01mnot\u001b[39;00m (\u001b[38;5;28mself\u001b[39m\u001b[38;5;241m.\u001b[39m_backward_hooks \u001b[38;5;129;01mor\u001b[39;00m \u001b[38;5;28mself\u001b[39m\u001b[38;5;241m.\u001b[39m_backward_pre_hooks \u001b[38;5;129;01mor\u001b[39;00m \u001b[38;5;28mself\u001b[39m\u001b[38;5;241m.\u001b[39m_forward_hooks \u001b[38;5;129;01mor\u001b[39;00m \u001b[38;5;28mself\u001b[39m\u001b[38;5;241m.\u001b[39m_forward_pre_hooks\n\u001b[1;32m   1525\u001b[0m         \u001b[38;5;129;01mor\u001b[39;00m _global_backward_pre_hooks \u001b[38;5;129;01mor\u001b[39;00m _global_backward_hooks\n\u001b[1;32m   1526\u001b[0m         \u001b[38;5;129;01mor\u001b[39;00m _global_forward_hooks \u001b[38;5;129;01mor\u001b[39;00m _global_forward_pre_hooks):\n\u001b[0;32m-> 1527\u001b[0m     \u001b[38;5;28;01mreturn\u001b[39;00m \u001b[43mforward_call\u001b[49m\u001b[43m(\u001b[49m\u001b[38;5;241;43m*\u001b[39;49m\u001b[43margs\u001b[49m\u001b[43m,\u001b[49m\u001b[43m \u001b[49m\u001b[38;5;241;43m*\u001b[39;49m\u001b[38;5;241;43m*\u001b[39;49m\u001b[43mkwargs\u001b[49m\u001b[43m)\u001b[49m\n\u001b[1;32m   1529\u001b[0m \u001b[38;5;28;01mtry\u001b[39;00m:\n\u001b[1;32m   1530\u001b[0m     result \u001b[38;5;241m=\u001b[39m \u001b[38;5;28;01mNone\u001b[39;00m\n",
      "File \u001b[0;32m~/anaconda3/envs/sgrs/lib/python3.11/site-packages/diffusers/models/unets/unet_2d_blocks.py:2654\u001b[0m, in \u001b[0;36mUpBlock2D.forward\u001b[0;34m(self, hidden_states, res_hidden_states_tuple, temb, upsample_size, *args, **kwargs)\u001b[0m\n\u001b[1;32m   2643\u001b[0m \u001b[38;5;28;01mif\u001b[39;00m is_freeu_enabled:\n\u001b[1;32m   2644\u001b[0m     hidden_states, res_hidden_states \u001b[38;5;241m=\u001b[39m apply_freeu(\n\u001b[1;32m   2645\u001b[0m         \u001b[38;5;28mself\u001b[39m\u001b[38;5;241m.\u001b[39mresolution_idx,\n\u001b[1;32m   2646\u001b[0m         hidden_states,\n\u001b[0;32m   (...)\u001b[0m\n\u001b[1;32m   2651\u001b[0m         b2\u001b[38;5;241m=\u001b[39m\u001b[38;5;28mself\u001b[39m\u001b[38;5;241m.\u001b[39mb2,\n\u001b[1;32m   2652\u001b[0m     )\n\u001b[0;32m-> 2654\u001b[0m hidden_states \u001b[38;5;241m=\u001b[39m \u001b[43mtorch\u001b[49m\u001b[38;5;241;43m.\u001b[39;49m\u001b[43mcat\u001b[49m\u001b[43m(\u001b[49m\u001b[43m[\u001b[49m\u001b[43mhidden_states\u001b[49m\u001b[43m,\u001b[49m\u001b[43m \u001b[49m\u001b[43mres_hidden_states\u001b[49m\u001b[43m]\u001b[49m\u001b[43m,\u001b[49m\u001b[43m \u001b[49m\u001b[43mdim\u001b[49m\u001b[38;5;241;43m=\u001b[39;49m\u001b[38;5;241;43m1\u001b[39;49m\u001b[43m)\u001b[49m\n\u001b[1;32m   2656\u001b[0m \u001b[38;5;28;01mif\u001b[39;00m \u001b[38;5;28mself\u001b[39m\u001b[38;5;241m.\u001b[39mtraining \u001b[38;5;129;01mand\u001b[39;00m \u001b[38;5;28mself\u001b[39m\u001b[38;5;241m.\u001b[39mgradient_checkpointing:\n\u001b[1;32m   2658\u001b[0m     \u001b[38;5;28;01mdef\u001b[39;00m \u001b[38;5;21mcreate_custom_forward\u001b[39m(module):\n",
      "\u001b[0;31mKeyboardInterrupt\u001b[0m: "
     ]
    }
   ],
   "source": [
    "from diffusers import DiffusionPipeline\n",
    "import torch \n",
    "\n",
    "model_id = \"CompVis/ldm-celebahq-256\"\n",
    "DEVICE = torch.device(\"cuda:1\" if torch.cuda.is_available() else \"cpu\")\n",
    "\n",
    "# load model and scheduler\n",
    "pipeline = DiffusionPipeline.from_pretrained(model_id)\n",
    "\n",
    "import os\n",
    "import torch\n",
    "from PIL import Image\n",
    "\n",
    "# Ensure the result folder exists\n",
    "result_folder = \"result_ldm_original_nonseparate\"\n",
    "if not os.path.exists(result_folder):\n",
    "    os.makedirs(result_folder)\n",
    "\n",
    "pipeline.to(DEVICE)\n",
    "\n",
    "def generate_sample_images(pipeline, num_images=10, num_inference_steps_list=[10, 20, 100], num_samples=50000):\n",
    "    # Ensure the pipeline is on the correct device\n",
    "\n",
    "    # Iterate over each number of inference steps (10, 20, 100)\n",
    "    for num_inference_steps in num_inference_steps_list:\n",
    "        # Create a subfolder for each number of inference steps\n",
    "        steps_folder = os.path.join(result_folder, f\"{num_inference_steps}_steps\")\n",
    "        if not os.path.exists(steps_folder):\n",
    "            os.makedirs(steps_folder)\n",
    "\n",
    "        # Generate images in batches, aiming for the total number of images\n",
    "        num_batches = num_samples // num_images\n",
    "        for batch_idx in range(num_batches):\n",
    "            with torch.no_grad():\n",
    "                # Generate images using the pipeline\n",
    "                generated_images = pipeline(batch_size=num_images, num_inference_steps=num_inference_steps).images\n",
    "\n",
    "            # Save each generated image to the corresponding subfolder\n",
    "            for i, img in enumerate(generated_images):\n",
    "                # Create a filename for the image\n",
    "                img_path = os.path.join(steps_folder, f\"generated_image_{batch_idx * num_images + i + 1}.png\")\n",
    "                \n",
    "                # Save the image\n",
    "                img.save(img_path)\n",
    "                print(f\"Image {batch_idx * num_images + i + 1} saved at: {img_path}\")\n",
    "\n",
    "# Example usage:\n",
    "generate_sample_images(pipeline, num_images=10, num_inference_steps_list=[100], num_samples=5000)\n"
   ]
  }
 ],
 "metadata": {
  "kernelspec": {
   "display_name": "sgrs",
   "language": "python",
   "name": "python3"
  },
  "language_info": {
   "codemirror_mode": {
    "name": "ipython",
    "version": 3
   },
   "file_extension": ".py",
   "mimetype": "text/x-python",
   "name": "python",
   "nbconvert_exporter": "python",
   "pygments_lexer": "ipython3",
   "version": "3.11.5"
  }
 },
 "nbformat": 4,
 "nbformat_minor": 2
}
